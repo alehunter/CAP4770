{
  "cells": [
    {
      "cell_type": "markdown",
      "metadata": {
        "id": "view-in-github",
        "colab_type": "text"
      },
      "source": [
        "<a href=\"https://colab.research.google.com/github/alehunter/CAP4770/blob/main/labs/Alejandro_Hunter_bagging_n_pasting.ipynb\" target=\"_parent\"><img src=\"https://colab.research.google.com/assets/colab-badge.svg\" alt=\"Open In Colab\"/></a>"
      ]
    },
    {
      "cell_type": "markdown",
      "metadata": {
        "id": "cZzv73_UWb6N"
      },
      "source": [
        "# Bagging and Pasting\n",
        "\n",
        "#### Part of the [Inquiryum Machine Learning Fundamentals Course](http://inquiryum.com/machine-learning/)\n",
        "\n",
        "![](https://raw.githubusercontent.com/zacharski/datamining-guide/master/labs/pics/divider.png)\n",
        "\n",
        "![](https://raw.githubusercontent.com/zacharski/ml-class/master/labs/pics/bagging..png)\n",
        "\n",
        "\n",
        "Now we are about to embark on our journey from simple decision trees to algorithms that use decision trees as components. The path goes like this:\n",
        "\n",
        "\n",
        "![](https://raw.githubusercontent.com/zacharski/ml-class/master/labs/pics/dbxg.png)\n",
        "\n",
        "The use of decision trees began in the 1980s and XGBoost was introduced in 2016. Throughout the next few notebooks we will explore this progression of algorithms.  \n",
        "\n",
        "### A collective of classifiers\n",
        "\n",
        "To gain an intuition on how this works, let's look at how our confidence might increase when more people tell us something. Whether it is multiple doctors giving us the same diagnosis or something as simple as ...\n",
        "\n",
        "#### The Mary Spender example\n",
        "\n",
        "Let's say one of your friends mentions over lunch that you would love a particular musical artist on YouTube, say Mary Spender, who you never heard before. \n",
        "\n",
        "![](https://raw.githubusercontent.com/zacharski/ml-class/master/labs/pics/MarySpender2.png)\n",
        "\n",
        "What is the chance that you will actually like Mary Spender's music? Maybe slighly better than chance? Let's say you think there is a 60% chance you will like her. You will file away the recommendation but you are not going to rush home and watch a YouTube video.  Now, in addition to the lunch friend's recommendation,  an old music school friend, now living in Austin messages you saying you should check out Mary Spender and the friend predicts you will absolutely love her. Then a week later, while talking with an old bandmate over the phone, that bandmate, again, recommends Mary Spender. Over the course of less than 10 days, three of your friends independently (because they don't know one another) recommend Mary Spender. Now what is the likelihood of you liking Mary Spender? I am guessing you think that now it is higher than 60%. Maybe now you think it is 90% likely you will like her. It is the aggregate of these 3 people's opinions (3 classifiers) that ups the accuracy of the prediction.\n",
        "\n",
        "![](https://raw.githubusercontent.com/zacharski/ml-class/master/labs/pics/spender22.png)\n",
        "\n",
        "\n",
        "This is similar to how bagging works. One aggregates the votes of a number of classifiers and the vote of that ensemble of classifiers is more accurate than that of a single classifier. Even if the accuracy of each component classifier is low (known as a weak classifier), the ensemble can be a strong (high accuracy) classifier. Of course there are some caveats. \n",
        "\n",
        "Back to the Mary Spender example. Suppose one of your friends went to a Mary Spender concert and then later in the week met with four other of your friends and mentioned that she thought you would love Mary Spender's music. Then, over the course of a week all those friends recommended Mary Spender to you. In this case the recommendations are not that independent---all are based on one person's opinion. Thus, the accuracy would not be as great as in the example above. Similarly, if you made 10 copies of the exact same classifier each trained on exactly the same data, the accuracy of the ensemble of clones would not be any better than the accuracy of a single copy. Moving away from Mary Spender and our musical tastes and back to machine learning, we can try to create independence among the classifier in 2 ways:\n",
        "\n",
        "1. We can change the type of classifier. For example, we can use a k-Nearest Neighbor Classifier with Manhattan distance and a k of 5, a k-Nearest Neighbor Classifier with Euclidean distance and a k of 3, a decision tree classifier using entropy and a max depth of 5, and a decision tree classifier with using gini and no max depth specified. Hopefully, the accuracy of the ensemble of the four classifiers would be greater than that of a single classifier.\n",
        "2. We can have an ensemble of the same classifier (for example, 10 decision tree classifiers with identical hyperparameters) but each classifier can get a different subset of the training data. The classifiers would thus build different models (differents 'rules') and, again, the accuracy of the ensemble should be greather than that of a single classifier. This is the approach we will take.\n",
        "\n",
        "### Bagging and Pasting\n",
        "\n",
        "\n",
        "In this Jupyter notebook, we are going to explore Bagging algorithms. Bagging algorithms come in a variety of 'flavors' including one called 'bagging' and one called 'pasting'.\n",
        "\n",
        "But first an experiment on the what *with replacement* means. As you will see shortly, that term is the crucial difference between bagging and pasting.\n",
        "\n",
        "### A small experiment\n",
        "NOTE: The following code is just used for illustration and is nothing we will be using for machine learning. \n",
        "\n",
        "Consider a list of 5 red balls and 5 blue balls:"
      ]
    },
    {
      "cell_type": "code",
      "execution_count": 2,
      "metadata": {
        "id": "xkhfXZatWb6S"
      },
      "outputs": [],
      "source": [
        "bag = ['red', 'red', 'red', 'red', 'red',\n",
        "       'blue', 'blue', 'blue', 'blue', 'blue']"
      ]
    },
    {
      "cell_type": "markdown",
      "metadata": {
        "id": "ugElXnm3Wb6T"
      },
      "source": [
        "Suppose we want to pick 7 random balls from this list. Python offers two functions that will give us random elements from a list.One is called `choices` which selects a sample with replacement, which means that once a ball is selected it is put back in the bag so it has the potential to be selected again. Let's give it a try, and just because things are random let's do this 100 times:"
      ]
    },
    {
      "cell_type": "code",
      "execution_count": 3,
      "metadata": {
        "id": "u6f_BpdyWb6T",
        "colab": {
          "base_uri": "https://localhost:8080/"
        },
        "outputId": "226de8ea-4fae-4555-a709-e04b4cd9c03b"
      },
      "outputs": [
        {
          "output_type": "stream",
          "name": "stdout",
          "text": [
            "1 blue and 6 red\n",
            "7 blue and 0 red\n",
            "6 blue and 1 red\n",
            "1 blue and 6 red\n",
            "1 blue and 6 red\n",
            "6 blue and 1 red\n",
            "6 blue and 1 red\n",
            "1 blue and 6 red\n",
            "6 blue and 1 red\n",
            "6 blue and 1 red\n",
            "7 blue and 0 red\n",
            "6 blue and 1 red\n",
            "6 blue and 1 red\n",
            "7 blue and 0 red\n",
            "6 blue and 1 red\n",
            "6 blue and 1 red\n",
            "7 blue and 0 red\n",
            "Balls selected exceeded balls in bag: 17\n"
          ]
        }
      ],
      "source": [
        "import random\n",
        "total = 0\n",
        "for i in range(100):\n",
        "    set = random.choices(bag, k=7)\n",
        "    blue = set.count('blue')\n",
        "    red = set.count('red')\n",
        "    if blue > 5 or red > 5:\n",
        "        print(\"%i blue and %i red\" % (set.count('blue'), set.count('red')))\n",
        "        total +=1\n",
        "print(\"Balls selected exceeded balls in bag: %i\" % (total))"
      ]
    },
    {
      "cell_type": "markdown",
      "metadata": {
        "id": "IxWdBvoGWb6U"
      },
      "source": [
        "*A reminder: please don't mindlessly execute the code. Look at it and understand it*\n",
        "\n",
        "There are five blue balls. Since we are doing the selection with replacement there are times when we select more than 5 blue balls (or five red ones).  \n",
        "\n",
        "When we print\n",
        "\n",
        "```\n",
        "Balls selected exceeded balls in bag: 13\n",
        "```\n",
        "\n",
        "it shows how many times that was the case.\n",
        "\n",
        "\n",
        "When I ran this, 14 times out of 100 had more of one color ball than there were in the original bag. In fact, several times I ended up with all 7 of the balls blue, even though the original list had only 5 balls:\n",
        "\n",
        "```\n",
        "7 blue and 0 red\n",
        "6 blue and 1 red\n",
        "7 blue and 0 red\n",
        "1 blue and 6 red\n",
        "0 blue and 7 red\n",
        "1 blue and 6 red\n",
        "1 blue and 6 red\n",
        "6 blue and 1 red\n",
        "6 blue and 1 red\n",
        "1 blue and 6 red\n",
        "6 blue and 1 red\n",
        "1 blue and 6 red\n",
        "6 blue and 1 red\n",
        "6 blue and 1 red\n",
        "Balls selected exceeded balls in bag: 14\n",
        "```\n",
        "Again, this is called selecting with replacement (we put what we selected back in the set before selecting again). \n",
        "\n",
        "The other alternative is to select without replacement--once we select something we can't select it again. Python's `sample` does this:\n"
      ]
    },
    {
      "cell_type": "code",
      "execution_count": 4,
      "metadata": {
        "id": "wjTz87jbWb6U",
        "colab": {
          "base_uri": "https://localhost:8080/"
        },
        "outputId": "5de96f9c-b0c5-431c-f6b0-14c5c5aedc42"
      },
      "outputs": [
        {
          "output_type": "stream",
          "name": "stdout",
          "text": [
            "Balls selected exceeded balls in bag: 0\n"
          ]
        }
      ],
      "source": [
        "import random\n",
        "total = 0\n",
        "for i in range(1000):\n",
        "    set = random.sample(bag, k=7)\n",
        "    blue = set.count('blue')\n",
        "    red = set.count('red')\n",
        "    if blue > 5 or red > 5:\n",
        "        print(\"%i blue and %i red\" % (set.count('blue'), set.count('red')))\n",
        "        total +=1\n",
        "print(\"Balls selected exceeded balls in bag: %i\" % (total))"
      ]
    },
    {
      "cell_type": "markdown",
      "metadata": {
        "id": "N-RBRpyMWb6U"
      },
      "source": [
        "As you can see, the number of a specific colored ball that we select never exceeded the number of balls of that color in the original set.\n",
        "\n",
        "Now back to bagging and pasting. In both approaches we are going to sample the training data. Let's say we want 70% of the training data in our sample. In bagging ([Breiman, 1996](https://link.springer.com/content/pdf/10.1007/BF00058655.pdf)), if we our training dataset is 1000 instances and we want 70% for a particular classifier, the algorithm will randomly select 700 out of the 1,000 **with replacement**. With pasting ([Breiman, 1998](https://link.springer.com/article/10.1023/A:1007563306331)), the selection is done **without replacement**. \n",
        "\n",
        "#### but wait, there is more ...\n",
        "\n",
        "There are two other options. Instead of selecting a random subset of training data instances, we can select a random subset of columns (features). Let's say we have a dataset of 1,000 instances each with 100 features. When we select a random subset of columns, we still have 1,000 instances but now they have just a subset of the features. This is called Random Subspaces ([Ho, 1998](https://pdfs.semanticscholar.org/b41d/0fa5fdaadd47fc882d3db04277d03fb21832.pdf?_ga=2.196949164.1638238666.1596910000-1073138517.1596910000)).\n",
        "\n",
        "Finally, we can train a classifier on both random subsets of instances and random subsets of features. This is known as Random Patches ([Louppe and Geurts, 2012](https://www.researchgate.net/publication/262212941_Ensembles_on_Random_Patches))\n",
        "\n",
        "In summary, the four methods are:\n",
        "\n",
        "* **bagging** - select a subset of data set instances using replacement\n",
        "* **pasting** - select a subset of data set instances without replacement\n",
        "* **Random Subspaces** - select a subset of features\n",
        "* **Random Patches** - select both a subset of features and of instances\n",
        "\n",
        "Let's see how this works!\n",
        "\n",
        "First, let's grab the Wisconsin Cancer data we used before:\n",
        "\n",
        "#### Wisconsin Cancer Dataset\n",
        "![](https://raw.githubusercontent.com/zacharski/ml-class/master/labs/pics/aimam.png)\n",
        "image from Nvidia's [AI Improves Breast Cancer Diagnoses by Factoring Out False Positives](https://blogs.nvidia.com/blog/2018/02/01/making-mammography-more-meaningful/)\n",
        "\n",
        "[A description of the Cancer Database](#Breast-Cancer-Database)\n",
        "\n",
        "In this dataset we are trying to predict the diagnosis---either M (malignant) or B (benign).\n",
        "\n",
        "Let's load the dataset and split it into training and testing sets"
      ]
    },
    {
      "cell_type": "code",
      "execution_count": 5,
      "metadata": {
        "id": "WMWJytA6Wb6W",
        "colab": {
          "base_uri": "https://localhost:8080/",
          "height": 519
        },
        "outputId": "4c477190-0f00-4ddc-c76b-2c9774309f1d"
      },
      "outputs": [
        {
          "output_type": "execute_result",
          "data": {
            "text/plain": [
              "        diagnosis  radiusAvg  textureAvg  perimeterAvg  areaAvg  \\\n",
              "id                                                                \n",
              "892604          B     12.460       19.89         80.43    471.3   \n",
              "858477          B      8.618       11.79         54.34    224.5   \n",
              "884689          B     11.520       14.93         73.87    406.3   \n",
              "86408           B     12.630       20.76         82.15    480.4   \n",
              "9012795         M     21.370       15.10        141.30   1386.0   \n",
              "...           ...        ...         ...           ...      ...   \n",
              "921362          B      7.691       25.44         48.34    170.4   \n",
              "8712289         M     23.270       22.04        152.10   1686.0   \n",
              "87127           B     10.800        9.71         68.77    357.6   \n",
              "8910721         B     14.290       16.82         90.30    632.6   \n",
              "875263          M     12.340       26.86         81.15    477.4   \n",
              "\n",
              "         smoothnessAvg  compactnessAvg  concavityAvg  concavityPointsAvg  \\\n",
              "id                                                                         \n",
              "892604         0.08451         0.10140       0.06830            0.030990   \n",
              "858477         0.09752         0.05272       0.02061            0.007799   \n",
              "884689         0.10130         0.07808       0.04328            0.029290   \n",
              "86408          0.09933         0.12090       0.10650            0.060210   \n",
              "9012795        0.10010         0.15150       0.19320            0.125500   \n",
              "...                ...             ...           ...                 ...   \n",
              "921362         0.08668         0.11990       0.09252            0.013640   \n",
              "8712289        0.08439         0.11450       0.13240            0.097020   \n",
              "87127          0.09594         0.05736       0.02531            0.016980   \n",
              "8910721        0.06429         0.02675       0.00725            0.006250   \n",
              "875263         0.10340         0.13530       0.10850            0.045620   \n",
              "\n",
              "         symmetryAvg  ...  radiusWorst  textureWorst  perimeterWorst  \\\n",
              "id                    ...                                              \n",
              "892604        0.1781  ...       13.460         23.07           88.13   \n",
              "858477        0.1683  ...        9.507         15.40           59.90   \n",
              "884689        0.1883  ...       12.650         21.19           80.88   \n",
              "86408         0.1735  ...       13.330         25.47           89.00   \n",
              "9012795       0.1973  ...       22.690         21.84          152.10   \n",
              "...              ...  ...          ...           ...             ...   \n",
              "921362        0.2037  ...        8.678         31.89           54.49   \n",
              "8712289       0.1801  ...       28.010         28.22          184.20   \n",
              "87127         0.1381  ...       11.600         12.02           73.66   \n",
              "8910721       0.1508  ...       14.910         20.65           94.44   \n",
              "875263        0.1943  ...       15.650         39.34          101.70   \n",
              "\n",
              "         areaWorst  smoothnessWorst  compactnessWorst  concavityWorst  \\\n",
              "id                                                                      \n",
              "892604       551.3          0.10500           0.21580         0.19040   \n",
              "858477       274.9          0.17330           0.12390         0.11680   \n",
              "884689       491.8          0.13890           0.15820         0.18040   \n",
              "86408        527.4          0.12870           0.22500         0.22160   \n",
              "9012795     1535.0          0.11920           0.28400         0.40240   \n",
              "...            ...              ...               ...             ...   \n",
              "921362       223.6          0.15960           0.30640         0.33930   \n",
              "8712289     2403.0          0.12280           0.35830         0.39480   \n",
              "87127        414.0          0.14360           0.12570         0.10470   \n",
              "8910721      684.6          0.08567           0.05036         0.03866   \n",
              "875263       768.9          0.17850           0.47060         0.44250   \n",
              "\n",
              "         concavityPointsWorst  symmetryWorst>  FractalDimensionWorst  \n",
              "id                                                                    \n",
              "892604                0.07625          0.2685                0.07764  \n",
              "858477                0.04419          0.3220                0.09026  \n",
              "884689                0.09608          0.2664                0.07809  \n",
              "86408                 0.11050          0.2226                0.08486  \n",
              "9012795               0.19660          0.2730                0.08666  \n",
              "...                       ...             ...                    ...  \n",
              "921362                0.05000          0.2790                0.10660  \n",
              "8712289               0.23460          0.3589                0.09187  \n",
              "87127                 0.04603          0.2090                0.07699  \n",
              "8910721               0.03333          0.2458                0.06120  \n",
              "875263                0.14590          0.3215                0.12050  \n",
              "\n",
              "[114 rows x 31 columns]"
            ],
            "text/html": [
              "\n",
              "  <div id=\"df-5aad1071-a4af-43e9-8deb-f93937a5f35e\">\n",
              "    <div class=\"colab-df-container\">\n",
              "      <div>\n",
              "<style scoped>\n",
              "    .dataframe tbody tr th:only-of-type {\n",
              "        vertical-align: middle;\n",
              "    }\n",
              "\n",
              "    .dataframe tbody tr th {\n",
              "        vertical-align: top;\n",
              "    }\n",
              "\n",
              "    .dataframe thead th {\n",
              "        text-align: right;\n",
              "    }\n",
              "</style>\n",
              "<table border=\"1\" class=\"dataframe\">\n",
              "  <thead>\n",
              "    <tr style=\"text-align: right;\">\n",
              "      <th></th>\n",
              "      <th>diagnosis</th>\n",
              "      <th>radiusAvg</th>\n",
              "      <th>textureAvg</th>\n",
              "      <th>perimeterAvg</th>\n",
              "      <th>areaAvg</th>\n",
              "      <th>smoothnessAvg</th>\n",
              "      <th>compactnessAvg</th>\n",
              "      <th>concavityAvg</th>\n",
              "      <th>concavityPointsAvg</th>\n",
              "      <th>symmetryAvg</th>\n",
              "      <th>...</th>\n",
              "      <th>radiusWorst</th>\n",
              "      <th>textureWorst</th>\n",
              "      <th>perimeterWorst</th>\n",
              "      <th>areaWorst</th>\n",
              "      <th>smoothnessWorst</th>\n",
              "      <th>compactnessWorst</th>\n",
              "      <th>concavityWorst</th>\n",
              "      <th>concavityPointsWorst</th>\n",
              "      <th>symmetryWorst&gt;</th>\n",
              "      <th>FractalDimensionWorst</th>\n",
              "    </tr>\n",
              "    <tr>\n",
              "      <th>id</th>\n",
              "      <th></th>\n",
              "      <th></th>\n",
              "      <th></th>\n",
              "      <th></th>\n",
              "      <th></th>\n",
              "      <th></th>\n",
              "      <th></th>\n",
              "      <th></th>\n",
              "      <th></th>\n",
              "      <th></th>\n",
              "      <th></th>\n",
              "      <th></th>\n",
              "      <th></th>\n",
              "      <th></th>\n",
              "      <th></th>\n",
              "      <th></th>\n",
              "      <th></th>\n",
              "      <th></th>\n",
              "      <th></th>\n",
              "      <th></th>\n",
              "      <th></th>\n",
              "    </tr>\n",
              "  </thead>\n",
              "  <tbody>\n",
              "    <tr>\n",
              "      <th>892604</th>\n",
              "      <td>B</td>\n",
              "      <td>12.460</td>\n",
              "      <td>19.89</td>\n",
              "      <td>80.43</td>\n",
              "      <td>471.3</td>\n",
              "      <td>0.08451</td>\n",
              "      <td>0.10140</td>\n",
              "      <td>0.06830</td>\n",
              "      <td>0.030990</td>\n",
              "      <td>0.1781</td>\n",
              "      <td>...</td>\n",
              "      <td>13.460</td>\n",
              "      <td>23.07</td>\n",
              "      <td>88.13</td>\n",
              "      <td>551.3</td>\n",
              "      <td>0.10500</td>\n",
              "      <td>0.21580</td>\n",
              "      <td>0.19040</td>\n",
              "      <td>0.07625</td>\n",
              "      <td>0.2685</td>\n",
              "      <td>0.07764</td>\n",
              "    </tr>\n",
              "    <tr>\n",
              "      <th>858477</th>\n",
              "      <td>B</td>\n",
              "      <td>8.618</td>\n",
              "      <td>11.79</td>\n",
              "      <td>54.34</td>\n",
              "      <td>224.5</td>\n",
              "      <td>0.09752</td>\n",
              "      <td>0.05272</td>\n",
              "      <td>0.02061</td>\n",
              "      <td>0.007799</td>\n",
              "      <td>0.1683</td>\n",
              "      <td>...</td>\n",
              "      <td>9.507</td>\n",
              "      <td>15.40</td>\n",
              "      <td>59.90</td>\n",
              "      <td>274.9</td>\n",
              "      <td>0.17330</td>\n",
              "      <td>0.12390</td>\n",
              "      <td>0.11680</td>\n",
              "      <td>0.04419</td>\n",
              "      <td>0.3220</td>\n",
              "      <td>0.09026</td>\n",
              "    </tr>\n",
              "    <tr>\n",
              "      <th>884689</th>\n",
              "      <td>B</td>\n",
              "      <td>11.520</td>\n",
              "      <td>14.93</td>\n",
              "      <td>73.87</td>\n",
              "      <td>406.3</td>\n",
              "      <td>0.10130</td>\n",
              "      <td>0.07808</td>\n",
              "      <td>0.04328</td>\n",
              "      <td>0.029290</td>\n",
              "      <td>0.1883</td>\n",
              "      <td>...</td>\n",
              "      <td>12.650</td>\n",
              "      <td>21.19</td>\n",
              "      <td>80.88</td>\n",
              "      <td>491.8</td>\n",
              "      <td>0.13890</td>\n",
              "      <td>0.15820</td>\n",
              "      <td>0.18040</td>\n",
              "      <td>0.09608</td>\n",
              "      <td>0.2664</td>\n",
              "      <td>0.07809</td>\n",
              "    </tr>\n",
              "    <tr>\n",
              "      <th>86408</th>\n",
              "      <td>B</td>\n",
              "      <td>12.630</td>\n",
              "      <td>20.76</td>\n",
              "      <td>82.15</td>\n",
              "      <td>480.4</td>\n",
              "      <td>0.09933</td>\n",
              "      <td>0.12090</td>\n",
              "      <td>0.10650</td>\n",
              "      <td>0.060210</td>\n",
              "      <td>0.1735</td>\n",
              "      <td>...</td>\n",
              "      <td>13.330</td>\n",
              "      <td>25.47</td>\n",
              "      <td>89.00</td>\n",
              "      <td>527.4</td>\n",
              "      <td>0.12870</td>\n",
              "      <td>0.22500</td>\n",
              "      <td>0.22160</td>\n",
              "      <td>0.11050</td>\n",
              "      <td>0.2226</td>\n",
              "      <td>0.08486</td>\n",
              "    </tr>\n",
              "    <tr>\n",
              "      <th>9012795</th>\n",
              "      <td>M</td>\n",
              "      <td>21.370</td>\n",
              "      <td>15.10</td>\n",
              "      <td>141.30</td>\n",
              "      <td>1386.0</td>\n",
              "      <td>0.10010</td>\n",
              "      <td>0.15150</td>\n",
              "      <td>0.19320</td>\n",
              "      <td>0.125500</td>\n",
              "      <td>0.1973</td>\n",
              "      <td>...</td>\n",
              "      <td>22.690</td>\n",
              "      <td>21.84</td>\n",
              "      <td>152.10</td>\n",
              "      <td>1535.0</td>\n",
              "      <td>0.11920</td>\n",
              "      <td>0.28400</td>\n",
              "      <td>0.40240</td>\n",
              "      <td>0.19660</td>\n",
              "      <td>0.2730</td>\n",
              "      <td>0.08666</td>\n",
              "    </tr>\n",
              "    <tr>\n",
              "      <th>...</th>\n",
              "      <td>...</td>\n",
              "      <td>...</td>\n",
              "      <td>...</td>\n",
              "      <td>...</td>\n",
              "      <td>...</td>\n",
              "      <td>...</td>\n",
              "      <td>...</td>\n",
              "      <td>...</td>\n",
              "      <td>...</td>\n",
              "      <td>...</td>\n",
              "      <td>...</td>\n",
              "      <td>...</td>\n",
              "      <td>...</td>\n",
              "      <td>...</td>\n",
              "      <td>...</td>\n",
              "      <td>...</td>\n",
              "      <td>...</td>\n",
              "      <td>...</td>\n",
              "      <td>...</td>\n",
              "      <td>...</td>\n",
              "      <td>...</td>\n",
              "    </tr>\n",
              "    <tr>\n",
              "      <th>921362</th>\n",
              "      <td>B</td>\n",
              "      <td>7.691</td>\n",
              "      <td>25.44</td>\n",
              "      <td>48.34</td>\n",
              "      <td>170.4</td>\n",
              "      <td>0.08668</td>\n",
              "      <td>0.11990</td>\n",
              "      <td>0.09252</td>\n",
              "      <td>0.013640</td>\n",
              "      <td>0.2037</td>\n",
              "      <td>...</td>\n",
              "      <td>8.678</td>\n",
              "      <td>31.89</td>\n",
              "      <td>54.49</td>\n",
              "      <td>223.6</td>\n",
              "      <td>0.15960</td>\n",
              "      <td>0.30640</td>\n",
              "      <td>0.33930</td>\n",
              "      <td>0.05000</td>\n",
              "      <td>0.2790</td>\n",
              "      <td>0.10660</td>\n",
              "    </tr>\n",
              "    <tr>\n",
              "      <th>8712289</th>\n",
              "      <td>M</td>\n",
              "      <td>23.270</td>\n",
              "      <td>22.04</td>\n",
              "      <td>152.10</td>\n",
              "      <td>1686.0</td>\n",
              "      <td>0.08439</td>\n",
              "      <td>0.11450</td>\n",
              "      <td>0.13240</td>\n",
              "      <td>0.097020</td>\n",
              "      <td>0.1801</td>\n",
              "      <td>...</td>\n",
              "      <td>28.010</td>\n",
              "      <td>28.22</td>\n",
              "      <td>184.20</td>\n",
              "      <td>2403.0</td>\n",
              "      <td>0.12280</td>\n",
              "      <td>0.35830</td>\n",
              "      <td>0.39480</td>\n",
              "      <td>0.23460</td>\n",
              "      <td>0.3589</td>\n",
              "      <td>0.09187</td>\n",
              "    </tr>\n",
              "    <tr>\n",
              "      <th>87127</th>\n",
              "      <td>B</td>\n",
              "      <td>10.800</td>\n",
              "      <td>9.71</td>\n",
              "      <td>68.77</td>\n",
              "      <td>357.6</td>\n",
              "      <td>0.09594</td>\n",
              "      <td>0.05736</td>\n",
              "      <td>0.02531</td>\n",
              "      <td>0.016980</td>\n",
              "      <td>0.1381</td>\n",
              "      <td>...</td>\n",
              "      <td>11.600</td>\n",
              "      <td>12.02</td>\n",
              "      <td>73.66</td>\n",
              "      <td>414.0</td>\n",
              "      <td>0.14360</td>\n",
              "      <td>0.12570</td>\n",
              "      <td>0.10470</td>\n",
              "      <td>0.04603</td>\n",
              "      <td>0.2090</td>\n",
              "      <td>0.07699</td>\n",
              "    </tr>\n",
              "    <tr>\n",
              "      <th>8910721</th>\n",
              "      <td>B</td>\n",
              "      <td>14.290</td>\n",
              "      <td>16.82</td>\n",
              "      <td>90.30</td>\n",
              "      <td>632.6</td>\n",
              "      <td>0.06429</td>\n",
              "      <td>0.02675</td>\n",
              "      <td>0.00725</td>\n",
              "      <td>0.006250</td>\n",
              "      <td>0.1508</td>\n",
              "      <td>...</td>\n",
              "      <td>14.910</td>\n",
              "      <td>20.65</td>\n",
              "      <td>94.44</td>\n",
              "      <td>684.6</td>\n",
              "      <td>0.08567</td>\n",
              "      <td>0.05036</td>\n",
              "      <td>0.03866</td>\n",
              "      <td>0.03333</td>\n",
              "      <td>0.2458</td>\n",
              "      <td>0.06120</td>\n",
              "    </tr>\n",
              "    <tr>\n",
              "      <th>875263</th>\n",
              "      <td>M</td>\n",
              "      <td>12.340</td>\n",
              "      <td>26.86</td>\n",
              "      <td>81.15</td>\n",
              "      <td>477.4</td>\n",
              "      <td>0.10340</td>\n",
              "      <td>0.13530</td>\n",
              "      <td>0.10850</td>\n",
              "      <td>0.045620</td>\n",
              "      <td>0.1943</td>\n",
              "      <td>...</td>\n",
              "      <td>15.650</td>\n",
              "      <td>39.34</td>\n",
              "      <td>101.70</td>\n",
              "      <td>768.9</td>\n",
              "      <td>0.17850</td>\n",
              "      <td>0.47060</td>\n",
              "      <td>0.44250</td>\n",
              "      <td>0.14590</td>\n",
              "      <td>0.3215</td>\n",
              "      <td>0.12050</td>\n",
              "    </tr>\n",
              "  </tbody>\n",
              "</table>\n",
              "<p>114 rows × 31 columns</p>\n",
              "</div>\n",
              "      <button class=\"colab-df-convert\" onclick=\"convertToInteractive('df-5aad1071-a4af-43e9-8deb-f93937a5f35e')\"\n",
              "              title=\"Convert this dataframe to an interactive table.\"\n",
              "              style=\"display:none;\">\n",
              "        \n",
              "  <svg xmlns=\"http://www.w3.org/2000/svg\" height=\"24px\"viewBox=\"0 0 24 24\"\n",
              "       width=\"24px\">\n",
              "    <path d=\"M0 0h24v24H0V0z\" fill=\"none\"/>\n",
              "    <path d=\"M18.56 5.44l.94 2.06.94-2.06 2.06-.94-2.06-.94-.94-2.06-.94 2.06-2.06.94zm-11 1L8.5 8.5l.94-2.06 2.06-.94-2.06-.94L8.5 2.5l-.94 2.06-2.06.94zm10 10l.94 2.06.94-2.06 2.06-.94-2.06-.94-.94-2.06-.94 2.06-2.06.94z\"/><path d=\"M17.41 7.96l-1.37-1.37c-.4-.4-.92-.59-1.43-.59-.52 0-1.04.2-1.43.59L10.3 9.45l-7.72 7.72c-.78.78-.78 2.05 0 2.83L4 21.41c.39.39.9.59 1.41.59.51 0 1.02-.2 1.41-.59l7.78-7.78 2.81-2.81c.8-.78.8-2.07 0-2.86zM5.41 20L4 18.59l7.72-7.72 1.47 1.35L5.41 20z\"/>\n",
              "  </svg>\n",
              "      </button>\n",
              "      \n",
              "  <style>\n",
              "    .colab-df-container {\n",
              "      display:flex;\n",
              "      flex-wrap:wrap;\n",
              "      gap: 12px;\n",
              "    }\n",
              "\n",
              "    .colab-df-convert {\n",
              "      background-color: #E8F0FE;\n",
              "      border: none;\n",
              "      border-radius: 50%;\n",
              "      cursor: pointer;\n",
              "      display: none;\n",
              "      fill: #1967D2;\n",
              "      height: 32px;\n",
              "      padding: 0 0 0 0;\n",
              "      width: 32px;\n",
              "    }\n",
              "\n",
              "    .colab-df-convert:hover {\n",
              "      background-color: #E2EBFA;\n",
              "      box-shadow: 0px 1px 2px rgba(60, 64, 67, 0.3), 0px 1px 3px 1px rgba(60, 64, 67, 0.15);\n",
              "      fill: #174EA6;\n",
              "    }\n",
              "\n",
              "    [theme=dark] .colab-df-convert {\n",
              "      background-color: #3B4455;\n",
              "      fill: #D2E3FC;\n",
              "    }\n",
              "\n",
              "    [theme=dark] .colab-df-convert:hover {\n",
              "      background-color: #434B5C;\n",
              "      box-shadow: 0px 1px 3px 1px rgba(0, 0, 0, 0.15);\n",
              "      filter: drop-shadow(0px 1px 2px rgba(0, 0, 0, 0.3));\n",
              "      fill: #FFFFFF;\n",
              "    }\n",
              "  </style>\n",
              "\n",
              "      <script>\n",
              "        const buttonEl =\n",
              "          document.querySelector('#df-5aad1071-a4af-43e9-8deb-f93937a5f35e button.colab-df-convert');\n",
              "        buttonEl.style.display =\n",
              "          google.colab.kernel.accessAllowed ? 'block' : 'none';\n",
              "\n",
              "        async function convertToInteractive(key) {\n",
              "          const element = document.querySelector('#df-5aad1071-a4af-43e9-8deb-f93937a5f35e');\n",
              "          const dataTable =\n",
              "            await google.colab.kernel.invokeFunction('convertToInteractive',\n",
              "                                                     [key], {});\n",
              "          if (!dataTable) return;\n",
              "\n",
              "          const docLinkHtml = 'Like what you see? Visit the ' +\n",
              "            '<a target=\"_blank\" href=https://colab.research.google.com/notebooks/data_table.ipynb>data table notebook</a>'\n",
              "            + ' to learn more about interactive tables.';\n",
              "          element.innerHTML = '';\n",
              "          dataTable['output_type'] = 'display_data';\n",
              "          await google.colab.output.renderOutput(dataTable, element);\n",
              "          const docLink = document.createElement('div');\n",
              "          docLink.innerHTML = docLinkHtml;\n",
              "          element.appendChild(docLink);\n",
              "        }\n",
              "      </script>\n",
              "    </div>\n",
              "  </div>\n",
              "  "
            ]
          },
          "metadata": {},
          "execution_count": 5
        }
      ],
      "source": [
        "import pandas as pd\n",
        "from sklearn.model_selection import train_test_split\n",
        "from sklearn.metrics import accuracy_score\n",
        "\n",
        "colNames = ['id', 'diagnosis', 'radiusAvg', 'textureAvg', 'perimeterAvg', 'areaAvg',\n",
        "            'smoothnessAvg', 'compactnessAvg', 'concavityAvg', 'concavityPointsAvg',\n",
        "            'symmetryAvg', 'FractalDimensionAvg', 'radiusSE', 'textureSE', 'perimeterSE',\n",
        "            'areaSE','smoothnessSE', 'compactnessSE', 'concavitySE', 'concavityPointsSE',\n",
        "            'symmetrySE', 'FractalDimensionSE', 'radiusWorst', 'textureWorst', 'perimeterWorst',\n",
        "            'areaWorst', 'smoothnessWorst', 'compactnessWorst', 'concavityWorst', 'concavityPointsWorst',\n",
        "            'symmetryWorst>', 'FractalDimensionWorst']\n",
        "len(colNames)\n",
        "\n",
        "data = pd.read_csv('https://raw.githubusercontent.com/zacharski/ml-class/master/data/wdbc.data', names=colNames)\n",
        "data.set_index('id', inplace=True)\n",
        "\n",
        "trainingdata, testdata = train_test_split(data, test_size = 0.2)\n",
        "testdata"
      ]
    },
    {
      "cell_type": "markdown",
      "metadata": {
        "id": "TEQMMnQEWb6b"
      },
      "source": [
        "Now divide up the data into the features and labels"
      ]
    },
    {
      "cell_type": "code",
      "execution_count": 6,
      "metadata": {
        "id": "BUFu_lp1Wb6b"
      },
      "outputs": [],
      "source": [
        "colNames.remove('id')\n",
        "colNames.remove('diagnosis')\n",
        "trainingDataFeatures = trainingdata[colNames]\n",
        "testDataFeatures = testdata[colNames]\n",
        "trainingDataLabels = trainingdata['diagnosis']\n",
        "testDataLabels = testdata['diagnosis']\n"
      ]
    },
    {
      "cell_type": "markdown",
      "metadata": {
        "id": "9jwhHLytWb6c"
      },
      "source": [
        "Let's get a base accuracy using a single decision tree classifier:"
      ]
    },
    {
      "cell_type": "code",
      "execution_count": 7,
      "metadata": {
        "id": "0451MpM0Wb6d",
        "colab": {
          "base_uri": "https://localhost:8080/"
        },
        "outputId": "92393456-b0a6-48af-beeb-b1776d9c57c5"
      },
      "outputs": [
        {
          "output_type": "execute_result",
          "data": {
            "text/plain": [
              "0.9122807017543859"
            ]
          },
          "metadata": {},
          "execution_count": 7
        }
      ],
      "source": [
        "from sklearn import tree\n",
        "clf = tree.DecisionTreeClassifier(criterion='entropy')\n",
        "clf.fit(trainingDataFeatures, trainingDataLabels)\n",
        "predictions = clf.predict(testDataFeatures)\n",
        "\n",
        "accuracy_score(testDataLabels, predictions)"
      ]
    },
    {
      "cell_type": "markdown",
      "metadata": {
        "id": "asjigQIyWb6d"
      },
      "source": [
        "Now we will see if we can improve on that accuracy.\n",
        "\n",
        "### Building a bagging classifier\n",
        "\n",
        "Let's build a collective of 20 decision tree classifiers (`n_estimators`). Let's train each one with 100 random samples from our dataset (`max_samples`) with replacement (`bootstrap=True`). `n_jobs` means how many jobs to run in parallel. `n_jobs=-1` means use all available CPU cores.   \n",
        "\n",
        "Just to reinforce the vocabulary we are learning, `n_estimators`, `max_samples`, `bootstrap` are among the **hyperparameters** of the bagging classifier."
      ]
    },
    {
      "cell_type": "code",
      "execution_count": 8,
      "metadata": {
        "id": "tL_K6UxpWb6d",
        "colab": {
          "base_uri": "https://localhost:8080/"
        },
        "outputId": "f5a74b3f-b886-4291-af5e-0cdf5165fbf9"
      },
      "outputs": [
        {
          "output_type": "execute_result",
          "data": {
            "text/plain": [
              "0.9385964912280702"
            ]
          },
          "metadata": {},
          "execution_count": 8
        }
      ],
      "source": [
        "from sklearn.ensemble import BaggingClassifier\n",
        "clf = tree.DecisionTreeClassifier(criterion='entropy')\n",
        "\n",
        "bagging_clf = BaggingClassifier(clf, n_estimators=20, max_samples=100, \n",
        "                                bootstrap=True, n_jobs=-1)\n",
        "bagging_clf.fit(trainingDataFeatures, trainingDataLabels)\n",
        "predictions = bagging_clf.predict(testDataFeatures)\n",
        "accuracy_score(testDataLabels, predictions)"
      ]
    },
    {
      "cell_type": "markdown",
      "metadata": {
        "id": "E1XYY6-2Wb6d"
      },
      "source": [
        "When I did this using a single decision tree classifier was 90.3% accurate, while the bagging classifier was 96.5% accurate--halving the error rate! that's pretty good!\n",
        "\n",
        "\n",
        "### Pasting\n",
        "Let's try the same thing with pasting (without replacement):\n",
        "\n",
        "For that we set the hyperparameter: `bootstrap=False`\n"
      ]
    },
    {
      "cell_type": "code",
      "execution_count": 9,
      "metadata": {
        "id": "YIwO0j1xWb6e",
        "colab": {
          "base_uri": "https://localhost:8080/"
        },
        "outputId": "cf31129e-8ba0-4106-bab1-057f65eb0ae3"
      },
      "outputs": [
        {
          "output_type": "execute_result",
          "data": {
            "text/plain": [
              "0.9473684210526315"
            ]
          },
          "metadata": {},
          "execution_count": 9
        }
      ],
      "source": [
        "pasting_clf = BaggingClassifier(clf, n_estimators=20, max_samples=100, \n",
        "                                bootstrap=False, n_jobs=-1)\n",
        "pasting_clf.fit(trainingDataFeatures, trainingDataLabels)\n",
        "predictions = pasting_clf.predict(testDataFeatures)\n",
        "accuracy_score(testDataLabels, predictions)"
      ]
    },
    {
      "cell_type": "markdown",
      "metadata": {
        "id": "EcCz_Gu_Wb6f"
      },
      "source": [
        "### Random Subspaces\n",
        "Again, random subspaces are when we randomly select feature subsets rather than subsets of the dataset instances. This time we will create 50 classifiers for our collective and each will train on a dataset with 7 features (`max_feature=7`)."
      ]
    },
    {
      "cell_type": "code",
      "execution_count": 10,
      "metadata": {
        "id": "iCf10iICWb6f",
        "colab": {
          "base_uri": "https://localhost:8080/"
        },
        "outputId": "96dc0e50-e5d5-4b37-b692-fae0d7e262e2"
      },
      "outputs": [
        {
          "output_type": "execute_result",
          "data": {
            "text/plain": [
              "0.9736842105263158"
            ]
          },
          "metadata": {},
          "execution_count": 10
        }
      ],
      "source": [
        "subspace_clf = BaggingClassifier(clf, n_estimators=50, max_features=7, \n",
        "                                bootstrap=True, n_jobs=-1)\n",
        "subspace_clf.fit(trainingDataFeatures, trainingDataLabels)\n",
        "predictions = subspace_clf.predict(testDataFeatures)\n",
        "accuracy_score(testDataLabels, predictions)"
      ]
    },
    {
      "cell_type": "markdown",
      "metadata": {
        "id": "_-9qdIG-Wb6f"
      },
      "source": [
        "### Random Patches\n",
        "Finally, let's combine things and try random patches. In this example each classifier will be given a subset of 100 training instances with 7 features each.:"
      ]
    },
    {
      "cell_type": "code",
      "execution_count": 11,
      "metadata": {
        "id": "JCjPbM08Wb6g",
        "colab": {
          "base_uri": "https://localhost:8080/"
        },
        "outputId": "b8e28b57-11e7-4332-a2ac-58eebe1286eb"
      },
      "outputs": [
        {
          "output_type": "execute_result",
          "data": {
            "text/plain": [
              "0.956140350877193"
            ]
          },
          "metadata": {},
          "execution_count": 11
        }
      ],
      "source": [
        "subspace_clf = BaggingClassifier(clf, n_estimators=100, max_features=7, \n",
        "                                 max_samples=100, bootstrap=False, n_jobs=-1)\n",
        "subspace_clf.fit(trainingDataFeatures, trainingDataLabels)\n",
        "predictions = subspace_clf.predict(testDataFeatures)\n",
        "accuracy_score(testDataLabels, predictions)"
      ]
    },
    {
      "cell_type": "markdown",
      "metadata": {
        "id": "8bD3S8xDWb6g"
      },
      "source": [
        "While it is common to use a decision tree as the base classifier, we can use any classifier. Here we use kNN:"
      ]
    },
    {
      "cell_type": "code",
      "execution_count": 12,
      "metadata": {
        "id": "kuTZAjpIWb6g",
        "colab": {
          "base_uri": "https://localhost:8080/"
        },
        "outputId": "506afe56-6020-493a-b63f-fe6734522833"
      },
      "outputs": [
        {
          "output_type": "execute_result",
          "data": {
            "text/plain": [
              "0.9298245614035088"
            ]
          },
          "metadata": {},
          "execution_count": 12
        }
      ],
      "source": [
        "from sklearn.neighbors import KNeighborsClassifier\n",
        "kNN = KNeighborsClassifier()\n",
        "bagging_clf = BaggingClassifier(kNN, n_estimators=20, max_samples=100, \n",
        "                                bootstrap=True, n_jobs=-1)\n",
        "bagging_clf.fit(trainingDataFeatures, trainingDataLabels)\n",
        "predictions = bagging_clf.predict(testDataFeatures)\n",
        "accuracy_score(testDataLabels, predictions)"
      ]
    },
    {
      "cell_type": "markdown",
      "metadata": {
        "id": "4_av0jdqWb6g"
      },
      "source": [
        "#### Summary\n",
        "As you can see, any of these simple bagging algorithms typically outperforms using a single classifier. \n",
        "\n",
        "\n",
        "### Review\n",
        "\n",
        "We import the bagging classifier library with:\n",
        "\n",
        "```\n",
        "from sklearn.ensemble import BaggingClassifier\n",
        "```\n",
        "\n",
        "and create an instance of one with:\n",
        "\n",
        "```\n",
        "my_bagging_classifier = BaggingClassifier(baseClassifier, Hyperparameters,n_jobs=-1)\n",
        "```\n",
        "\n",
        "#### Base Classifier\n",
        "while any classifier can be used we typically use a decision tree\n",
        "\n",
        "#### Hyperparameters\n",
        "Here is a list of the hyperparameters (from the [sklearn documentation](https://scikit-learn.org/stable/modules/generated/sklearn.ensemble.BaggingClassifier.html#sklearn.ensemble.BaggingClassifier)):\n",
        "\n",
        "* `n_estimators`: integer, default value = 10, the number of classifiers (estimators) in the ensemble.\n",
        "* `max_samples`: integer or float, default value = 1.0(meaning use all the training instances), the number of samples (instances) to draw from the training dataset to train each base classifier.\n",
        "    * if integer, then draw max_features features.\n",
        "    * if float, then draw max_samples * X.shape[0] samples. For example if `max_samples` is 0.7 and there are 100 instances in the training dataset then draw 70 samples.\n",
        "* `max_features`, integer or float, default value =1.0,  \n",
        "the number of features to draw from the training dataset to train each base estimator \n",
        "    * if integers, then draw max_features features.\n",
        "    * if float, then draw max_features * X.shape[1] features.\n",
        "* `bootstrap` boolean, default value =True, whether samples and features are drawn with replacement. If False, sampling without replacement is performed.\n",
        "\n",
        "For other hyperparamters, consult the documentation.\n",
        "\n",
        "\n",
        "![](https://raw.githubusercontent.com/zacharski/datamining-guide/master/labs/pics/torchdivide.png)\n",
        "\n",
        "\n",
        "# <font color='#EE4C2C'>You Try ...</font> \n",
        "## <font color='#EE4C2C'>Predicting musical genres from audio file attributes</font> \n",
        "\n",
        "\n",
        "When you listen even to a few seconds of a song you can identify it as blues, country, classical, or any other genre. How do you do this? What attributes are you hearing in the audio file that helps you make this classification? And, more to the point, can we train a computer to do it?\n",
        "\n",
        "![](https://raw.githubusercontent.com/zacharski/ml-class/master/labs/pics/bluesClassical.png)\n",
        "\n",
        "We are going to be using  the [GTZAN Dataset for Music Genre Classification](https://www.kaggle.com/andradaolteanu/gtzan-dataset-music-genre-classification). It provides data of 100 songs for each of 10 genres. The data is in several formats:\n",
        "\n",
        "* 30 second audio files (wav)\n",
        "* spectral images of those 30 second clips (see image above)\n",
        "* a csv file containing acoustic attributes of the 30 second clip\n",
        "* a csv file containing acoustic attributes of 3 second clips (the 30 second clips were split into 3 second ones)\n",
        "\n",
        "We are going to use the 3 second csv file which is available at \n",
        "\n",
        "https://raw.githubusercontent.com/zacharski/ml-class/master/data/gtzan.csv\n",
        "\n",
        "Go ahead and load the data into a dataframe (the first row contains feature names)\n"
      ]
    },
    {
      "cell_type": "code",
      "execution_count": 13,
      "metadata": {
        "id": "IiF0cRc4Wb6h",
        "colab": {
          "base_uri": "https://localhost:8080/",
          "height": 487
        },
        "outputId": "e0131396-908e-4d27-d990-fcef3e3447b7"
      },
      "outputs": [
        {
          "output_type": "execute_result",
          "data": {
            "text/plain": [
              "               filename  length  chroma_stft_mean  chroma_stft_var  rms_mean  \\\n",
              "0     blues.00000.0.wav   66149          0.335406         0.091048  0.130405   \n",
              "1     blues.00000.1.wav   66149          0.343065         0.086147  0.112699   \n",
              "2     blues.00000.2.wav   66149          0.346815         0.092243  0.132003   \n",
              "3     blues.00000.3.wav   66149          0.363639         0.086856  0.132565   \n",
              "4     blues.00000.4.wav   66149          0.335579         0.088129  0.143289   \n",
              "...                 ...     ...               ...              ...       ...   \n",
              "9985   rock.00099.5.wav   66149          0.349126         0.080515  0.050019   \n",
              "9986   rock.00099.6.wav   66149          0.372564         0.082626  0.057897   \n",
              "9987   rock.00099.7.wav   66149          0.347481         0.089019  0.052403   \n",
              "9988   rock.00099.8.wav   66149          0.387527         0.084815  0.066430   \n",
              "9989   rock.00099.9.wav   66149          0.369293         0.086759  0.050524   \n",
              "\n",
              "       rms_var  spectral_centroid_mean  spectral_centroid_var  \\\n",
              "0     0.003521             1773.065032          167541.630869   \n",
              "1     0.001450             1816.693777           90525.690866   \n",
              "2     0.004620             1788.539719          111407.437613   \n",
              "3     0.002448             1655.289045          111952.284517   \n",
              "4     0.001701             1630.656199           79667.267654   \n",
              "...        ...                     ...                    ...   \n",
              "9985  0.000097             1499.083005          164266.886443   \n",
              "9986  0.000088             1847.965128          281054.935973   \n",
              "9987  0.000701             1346.157659          662956.246325   \n",
              "9988  0.000320             2084.515327          203891.039161   \n",
              "9989  0.000067             1634.330126          411429.169769   \n",
              "\n",
              "      spectral_bandwidth_mean  spectral_bandwidth_var  ...  mfcc16_var  \\\n",
              "0                 1972.744388           117335.771563  ...   39.687145   \n",
              "1                 2010.051501            65671.875673  ...   64.748276   \n",
              "2                 2084.565132            75124.921716  ...   67.336563   \n",
              "3                 1960.039988            82913.639269  ...   47.739452   \n",
              "4                 1948.503884            60204.020268  ...   30.336359   \n",
              "...                       ...                     ...  ...         ...   \n",
              "9985              1718.707215            85931.574523  ...   42.485981   \n",
              "9986              1906.468492            99727.037054  ...   32.415203   \n",
              "9987              1561.859087           138762.841945  ...   78.228149   \n",
              "9988              2018.366254            22860.992562  ...   28.323744   \n",
              "9989              1867.422378           119722.211518  ...   38.801735   \n",
              "\n",
              "      mfcc17_mean  mfcc17_var  mfcc18_mean  mfcc18_var  mfcc19_mean  \\\n",
              "0       -3.241280   36.488243     0.722209   38.099152    -5.050335   \n",
              "1       -6.055294   40.677654     0.159015   51.264091    -2.837699   \n",
              "2       -1.768610   28.348579     2.378768   45.717648    -1.938424   \n",
              "3       -3.841155   28.337118     1.218588   34.770935    -3.580352   \n",
              "4        0.664582   45.880913     1.689446   51.363583    -3.392489   \n",
              "...           ...         ...          ...         ...          ...   \n",
              "9985    -9.094270   38.326839    -4.246976   31.049839    -5.625813   \n",
              "9986   -12.375726   66.418587    -3.081278   54.414265   -11.960546   \n",
              "9987    -2.524483   21.778994     4.809936   25.980829     1.775686   \n",
              "9988    -5.363541   17.209942     6.462601   21.442928     2.354765   \n",
              "9989   -11.598399   58.983097    -0.178517   55.761299    -6.903252   \n",
              "\n",
              "      mfcc19_var  mfcc20_mean  mfcc20_var  label  \n",
              "0      33.618073    -0.243027   43.771767  blues  \n",
              "1      97.030830     5.784063   59.943081  blues  \n",
              "2      53.050835     2.517375   33.105122  blues  \n",
              "3      50.836224     3.630866   32.023678  blues  \n",
              "4      26.738789     0.536961   29.146694  blues  \n",
              "...          ...          ...         ...    ...  \n",
              "9985   48.804092     1.818823   38.966969   rock  \n",
              "9986   63.452255     0.428857   18.697033   rock  \n",
              "9987   48.582378    -0.299545   41.586990   rock  \n",
              "9988   24.843613     0.675824   12.787750   rock  \n",
              "9989   39.485901    -3.412534   31.727489   rock  \n",
              "\n",
              "[9990 rows x 60 columns]"
            ],
            "text/html": [
              "\n",
              "  <div id=\"df-763c8b6e-f2eb-4c44-ab50-2d278c13e160\">\n",
              "    <div class=\"colab-df-container\">\n",
              "      <div>\n",
              "<style scoped>\n",
              "    .dataframe tbody tr th:only-of-type {\n",
              "        vertical-align: middle;\n",
              "    }\n",
              "\n",
              "    .dataframe tbody tr th {\n",
              "        vertical-align: top;\n",
              "    }\n",
              "\n",
              "    .dataframe thead th {\n",
              "        text-align: right;\n",
              "    }\n",
              "</style>\n",
              "<table border=\"1\" class=\"dataframe\">\n",
              "  <thead>\n",
              "    <tr style=\"text-align: right;\">\n",
              "      <th></th>\n",
              "      <th>filename</th>\n",
              "      <th>length</th>\n",
              "      <th>chroma_stft_mean</th>\n",
              "      <th>chroma_stft_var</th>\n",
              "      <th>rms_mean</th>\n",
              "      <th>rms_var</th>\n",
              "      <th>spectral_centroid_mean</th>\n",
              "      <th>spectral_centroid_var</th>\n",
              "      <th>spectral_bandwidth_mean</th>\n",
              "      <th>spectral_bandwidth_var</th>\n",
              "      <th>...</th>\n",
              "      <th>mfcc16_var</th>\n",
              "      <th>mfcc17_mean</th>\n",
              "      <th>mfcc17_var</th>\n",
              "      <th>mfcc18_mean</th>\n",
              "      <th>mfcc18_var</th>\n",
              "      <th>mfcc19_mean</th>\n",
              "      <th>mfcc19_var</th>\n",
              "      <th>mfcc20_mean</th>\n",
              "      <th>mfcc20_var</th>\n",
              "      <th>label</th>\n",
              "    </tr>\n",
              "  </thead>\n",
              "  <tbody>\n",
              "    <tr>\n",
              "      <th>0</th>\n",
              "      <td>blues.00000.0.wav</td>\n",
              "      <td>66149</td>\n",
              "      <td>0.335406</td>\n",
              "      <td>0.091048</td>\n",
              "      <td>0.130405</td>\n",
              "      <td>0.003521</td>\n",
              "      <td>1773.065032</td>\n",
              "      <td>167541.630869</td>\n",
              "      <td>1972.744388</td>\n",
              "      <td>117335.771563</td>\n",
              "      <td>...</td>\n",
              "      <td>39.687145</td>\n",
              "      <td>-3.241280</td>\n",
              "      <td>36.488243</td>\n",
              "      <td>0.722209</td>\n",
              "      <td>38.099152</td>\n",
              "      <td>-5.050335</td>\n",
              "      <td>33.618073</td>\n",
              "      <td>-0.243027</td>\n",
              "      <td>43.771767</td>\n",
              "      <td>blues</td>\n",
              "    </tr>\n",
              "    <tr>\n",
              "      <th>1</th>\n",
              "      <td>blues.00000.1.wav</td>\n",
              "      <td>66149</td>\n",
              "      <td>0.343065</td>\n",
              "      <td>0.086147</td>\n",
              "      <td>0.112699</td>\n",
              "      <td>0.001450</td>\n",
              "      <td>1816.693777</td>\n",
              "      <td>90525.690866</td>\n",
              "      <td>2010.051501</td>\n",
              "      <td>65671.875673</td>\n",
              "      <td>...</td>\n",
              "      <td>64.748276</td>\n",
              "      <td>-6.055294</td>\n",
              "      <td>40.677654</td>\n",
              "      <td>0.159015</td>\n",
              "      <td>51.264091</td>\n",
              "      <td>-2.837699</td>\n",
              "      <td>97.030830</td>\n",
              "      <td>5.784063</td>\n",
              "      <td>59.943081</td>\n",
              "      <td>blues</td>\n",
              "    </tr>\n",
              "    <tr>\n",
              "      <th>2</th>\n",
              "      <td>blues.00000.2.wav</td>\n",
              "      <td>66149</td>\n",
              "      <td>0.346815</td>\n",
              "      <td>0.092243</td>\n",
              "      <td>0.132003</td>\n",
              "      <td>0.004620</td>\n",
              "      <td>1788.539719</td>\n",
              "      <td>111407.437613</td>\n",
              "      <td>2084.565132</td>\n",
              "      <td>75124.921716</td>\n",
              "      <td>...</td>\n",
              "      <td>67.336563</td>\n",
              "      <td>-1.768610</td>\n",
              "      <td>28.348579</td>\n",
              "      <td>2.378768</td>\n",
              "      <td>45.717648</td>\n",
              "      <td>-1.938424</td>\n",
              "      <td>53.050835</td>\n",
              "      <td>2.517375</td>\n",
              "      <td>33.105122</td>\n",
              "      <td>blues</td>\n",
              "    </tr>\n",
              "    <tr>\n",
              "      <th>3</th>\n",
              "      <td>blues.00000.3.wav</td>\n",
              "      <td>66149</td>\n",
              "      <td>0.363639</td>\n",
              "      <td>0.086856</td>\n",
              "      <td>0.132565</td>\n",
              "      <td>0.002448</td>\n",
              "      <td>1655.289045</td>\n",
              "      <td>111952.284517</td>\n",
              "      <td>1960.039988</td>\n",
              "      <td>82913.639269</td>\n",
              "      <td>...</td>\n",
              "      <td>47.739452</td>\n",
              "      <td>-3.841155</td>\n",
              "      <td>28.337118</td>\n",
              "      <td>1.218588</td>\n",
              "      <td>34.770935</td>\n",
              "      <td>-3.580352</td>\n",
              "      <td>50.836224</td>\n",
              "      <td>3.630866</td>\n",
              "      <td>32.023678</td>\n",
              "      <td>blues</td>\n",
              "    </tr>\n",
              "    <tr>\n",
              "      <th>4</th>\n",
              "      <td>blues.00000.4.wav</td>\n",
              "      <td>66149</td>\n",
              "      <td>0.335579</td>\n",
              "      <td>0.088129</td>\n",
              "      <td>0.143289</td>\n",
              "      <td>0.001701</td>\n",
              "      <td>1630.656199</td>\n",
              "      <td>79667.267654</td>\n",
              "      <td>1948.503884</td>\n",
              "      <td>60204.020268</td>\n",
              "      <td>...</td>\n",
              "      <td>30.336359</td>\n",
              "      <td>0.664582</td>\n",
              "      <td>45.880913</td>\n",
              "      <td>1.689446</td>\n",
              "      <td>51.363583</td>\n",
              "      <td>-3.392489</td>\n",
              "      <td>26.738789</td>\n",
              "      <td>0.536961</td>\n",
              "      <td>29.146694</td>\n",
              "      <td>blues</td>\n",
              "    </tr>\n",
              "    <tr>\n",
              "      <th>...</th>\n",
              "      <td>...</td>\n",
              "      <td>...</td>\n",
              "      <td>...</td>\n",
              "      <td>...</td>\n",
              "      <td>...</td>\n",
              "      <td>...</td>\n",
              "      <td>...</td>\n",
              "      <td>...</td>\n",
              "      <td>...</td>\n",
              "      <td>...</td>\n",
              "      <td>...</td>\n",
              "      <td>...</td>\n",
              "      <td>...</td>\n",
              "      <td>...</td>\n",
              "      <td>...</td>\n",
              "      <td>...</td>\n",
              "      <td>...</td>\n",
              "      <td>...</td>\n",
              "      <td>...</td>\n",
              "      <td>...</td>\n",
              "      <td>...</td>\n",
              "    </tr>\n",
              "    <tr>\n",
              "      <th>9985</th>\n",
              "      <td>rock.00099.5.wav</td>\n",
              "      <td>66149</td>\n",
              "      <td>0.349126</td>\n",
              "      <td>0.080515</td>\n",
              "      <td>0.050019</td>\n",
              "      <td>0.000097</td>\n",
              "      <td>1499.083005</td>\n",
              "      <td>164266.886443</td>\n",
              "      <td>1718.707215</td>\n",
              "      <td>85931.574523</td>\n",
              "      <td>...</td>\n",
              "      <td>42.485981</td>\n",
              "      <td>-9.094270</td>\n",
              "      <td>38.326839</td>\n",
              "      <td>-4.246976</td>\n",
              "      <td>31.049839</td>\n",
              "      <td>-5.625813</td>\n",
              "      <td>48.804092</td>\n",
              "      <td>1.818823</td>\n",
              "      <td>38.966969</td>\n",
              "      <td>rock</td>\n",
              "    </tr>\n",
              "    <tr>\n",
              "      <th>9986</th>\n",
              "      <td>rock.00099.6.wav</td>\n",
              "      <td>66149</td>\n",
              "      <td>0.372564</td>\n",
              "      <td>0.082626</td>\n",
              "      <td>0.057897</td>\n",
              "      <td>0.000088</td>\n",
              "      <td>1847.965128</td>\n",
              "      <td>281054.935973</td>\n",
              "      <td>1906.468492</td>\n",
              "      <td>99727.037054</td>\n",
              "      <td>...</td>\n",
              "      <td>32.415203</td>\n",
              "      <td>-12.375726</td>\n",
              "      <td>66.418587</td>\n",
              "      <td>-3.081278</td>\n",
              "      <td>54.414265</td>\n",
              "      <td>-11.960546</td>\n",
              "      <td>63.452255</td>\n",
              "      <td>0.428857</td>\n",
              "      <td>18.697033</td>\n",
              "      <td>rock</td>\n",
              "    </tr>\n",
              "    <tr>\n",
              "      <th>9987</th>\n",
              "      <td>rock.00099.7.wav</td>\n",
              "      <td>66149</td>\n",
              "      <td>0.347481</td>\n",
              "      <td>0.089019</td>\n",
              "      <td>0.052403</td>\n",
              "      <td>0.000701</td>\n",
              "      <td>1346.157659</td>\n",
              "      <td>662956.246325</td>\n",
              "      <td>1561.859087</td>\n",
              "      <td>138762.841945</td>\n",
              "      <td>...</td>\n",
              "      <td>78.228149</td>\n",
              "      <td>-2.524483</td>\n",
              "      <td>21.778994</td>\n",
              "      <td>4.809936</td>\n",
              "      <td>25.980829</td>\n",
              "      <td>1.775686</td>\n",
              "      <td>48.582378</td>\n",
              "      <td>-0.299545</td>\n",
              "      <td>41.586990</td>\n",
              "      <td>rock</td>\n",
              "    </tr>\n",
              "    <tr>\n",
              "      <th>9988</th>\n",
              "      <td>rock.00099.8.wav</td>\n",
              "      <td>66149</td>\n",
              "      <td>0.387527</td>\n",
              "      <td>0.084815</td>\n",
              "      <td>0.066430</td>\n",
              "      <td>0.000320</td>\n",
              "      <td>2084.515327</td>\n",
              "      <td>203891.039161</td>\n",
              "      <td>2018.366254</td>\n",
              "      <td>22860.992562</td>\n",
              "      <td>...</td>\n",
              "      <td>28.323744</td>\n",
              "      <td>-5.363541</td>\n",
              "      <td>17.209942</td>\n",
              "      <td>6.462601</td>\n",
              "      <td>21.442928</td>\n",
              "      <td>2.354765</td>\n",
              "      <td>24.843613</td>\n",
              "      <td>0.675824</td>\n",
              "      <td>12.787750</td>\n",
              "      <td>rock</td>\n",
              "    </tr>\n",
              "    <tr>\n",
              "      <th>9989</th>\n",
              "      <td>rock.00099.9.wav</td>\n",
              "      <td>66149</td>\n",
              "      <td>0.369293</td>\n",
              "      <td>0.086759</td>\n",
              "      <td>0.050524</td>\n",
              "      <td>0.000067</td>\n",
              "      <td>1634.330126</td>\n",
              "      <td>411429.169769</td>\n",
              "      <td>1867.422378</td>\n",
              "      <td>119722.211518</td>\n",
              "      <td>...</td>\n",
              "      <td>38.801735</td>\n",
              "      <td>-11.598399</td>\n",
              "      <td>58.983097</td>\n",
              "      <td>-0.178517</td>\n",
              "      <td>55.761299</td>\n",
              "      <td>-6.903252</td>\n",
              "      <td>39.485901</td>\n",
              "      <td>-3.412534</td>\n",
              "      <td>31.727489</td>\n",
              "      <td>rock</td>\n",
              "    </tr>\n",
              "  </tbody>\n",
              "</table>\n",
              "<p>9990 rows × 60 columns</p>\n",
              "</div>\n",
              "      <button class=\"colab-df-convert\" onclick=\"convertToInteractive('df-763c8b6e-f2eb-4c44-ab50-2d278c13e160')\"\n",
              "              title=\"Convert this dataframe to an interactive table.\"\n",
              "              style=\"display:none;\">\n",
              "        \n",
              "  <svg xmlns=\"http://www.w3.org/2000/svg\" height=\"24px\"viewBox=\"0 0 24 24\"\n",
              "       width=\"24px\">\n",
              "    <path d=\"M0 0h24v24H0V0z\" fill=\"none\"/>\n",
              "    <path d=\"M18.56 5.44l.94 2.06.94-2.06 2.06-.94-2.06-.94-.94-2.06-.94 2.06-2.06.94zm-11 1L8.5 8.5l.94-2.06 2.06-.94-2.06-.94L8.5 2.5l-.94 2.06-2.06.94zm10 10l.94 2.06.94-2.06 2.06-.94-2.06-.94-.94-2.06-.94 2.06-2.06.94z\"/><path d=\"M17.41 7.96l-1.37-1.37c-.4-.4-.92-.59-1.43-.59-.52 0-1.04.2-1.43.59L10.3 9.45l-7.72 7.72c-.78.78-.78 2.05 0 2.83L4 21.41c.39.39.9.59 1.41.59.51 0 1.02-.2 1.41-.59l7.78-7.78 2.81-2.81c.8-.78.8-2.07 0-2.86zM5.41 20L4 18.59l7.72-7.72 1.47 1.35L5.41 20z\"/>\n",
              "  </svg>\n",
              "      </button>\n",
              "      \n",
              "  <style>\n",
              "    .colab-df-container {\n",
              "      display:flex;\n",
              "      flex-wrap:wrap;\n",
              "      gap: 12px;\n",
              "    }\n",
              "\n",
              "    .colab-df-convert {\n",
              "      background-color: #E8F0FE;\n",
              "      border: none;\n",
              "      border-radius: 50%;\n",
              "      cursor: pointer;\n",
              "      display: none;\n",
              "      fill: #1967D2;\n",
              "      height: 32px;\n",
              "      padding: 0 0 0 0;\n",
              "      width: 32px;\n",
              "    }\n",
              "\n",
              "    .colab-df-convert:hover {\n",
              "      background-color: #E2EBFA;\n",
              "      box-shadow: 0px 1px 2px rgba(60, 64, 67, 0.3), 0px 1px 3px 1px rgba(60, 64, 67, 0.15);\n",
              "      fill: #174EA6;\n",
              "    }\n",
              "\n",
              "    [theme=dark] .colab-df-convert {\n",
              "      background-color: #3B4455;\n",
              "      fill: #D2E3FC;\n",
              "    }\n",
              "\n",
              "    [theme=dark] .colab-df-convert:hover {\n",
              "      background-color: #434B5C;\n",
              "      box-shadow: 0px 1px 3px 1px rgba(0, 0, 0, 0.15);\n",
              "      filter: drop-shadow(0px 1px 2px rgba(0, 0, 0, 0.3));\n",
              "      fill: #FFFFFF;\n",
              "    }\n",
              "  </style>\n",
              "\n",
              "      <script>\n",
              "        const buttonEl =\n",
              "          document.querySelector('#df-763c8b6e-f2eb-4c44-ab50-2d278c13e160 button.colab-df-convert');\n",
              "        buttonEl.style.display =\n",
              "          google.colab.kernel.accessAllowed ? 'block' : 'none';\n",
              "\n",
              "        async function convertToInteractive(key) {\n",
              "          const element = document.querySelector('#df-763c8b6e-f2eb-4c44-ab50-2d278c13e160');\n",
              "          const dataTable =\n",
              "            await google.colab.kernel.invokeFunction('convertToInteractive',\n",
              "                                                     [key], {});\n",
              "          if (!dataTable) return;\n",
              "\n",
              "          const docLinkHtml = 'Like what you see? Visit the ' +\n",
              "            '<a target=\"_blank\" href=https://colab.research.google.com/notebooks/data_table.ipynb>data table notebook</a>'\n",
              "            + ' to learn more about interactive tables.';\n",
              "          element.innerHTML = '';\n",
              "          dataTable['output_type'] = 'display_data';\n",
              "          await google.colab.output.renderOutput(dataTable, element);\n",
              "          const docLink = document.createElement('div');\n",
              "          docLink.innerHTML = docLinkHtml;\n",
              "          element.appendChild(docLink);\n",
              "        }\n",
              "      </script>\n",
              "    </div>\n",
              "  </div>\n",
              "  "
            ]
          },
          "metadata": {},
          "execution_count": 13
        }
      ],
      "source": [
        "music = pd.read_csv(\"https://raw.githubusercontent.com/zacharski/ml-class/master/data/gtzan.csv\")\n",
        "music"
      ]
    },
    {
      "cell_type": "markdown",
      "metadata": {
        "id": "yAAvRO8JWb6h"
      },
      "source": [
        "Let's examine the values of the label column (the genres):"
      ]
    },
    {
      "cell_type": "code",
      "execution_count": 14,
      "metadata": {
        "id": "0m3K-MgiWb6h",
        "colab": {
          "base_uri": "https://localhost:8080/"
        },
        "outputId": "4ea446f0-e0d3-4d94-f064-55aba696dbfd"
      },
      "outputs": [
        {
          "output_type": "execute_result",
          "data": {
            "text/plain": [
              "array(['blues', 'classical', 'country', 'disco', 'hiphop', 'jazz',\n",
              "       'metal', 'pop', 'reggae', 'rock'], dtype=object)"
            ]
          },
          "metadata": {},
          "execution_count": 14
        }
      ],
      "source": [
        "music.label.unique()"
      ]
    },
    {
      "cell_type": "markdown",
      "metadata": {
        "id": "AlKrZfoVWb6h"
      },
      "source": [
        "Those are the 10 genres we are trying to predict. So if we were just to guess without hearing the clip, we would be accurate 10% of the time. How accurate do you think you would be based on hearing a 3 second clip? I am pretty confident I could correctly label the 30 second clips, but I am much less confident about labeling 3 second ones. Since guessing randomly would give me 10% accuracy, I am estimating maybe 50-60% accuracy. Let's see how a computer does.\n",
        "\n",
        "#### Feature Names\n",
        "So the column we are trying to predict is `label`. Now let's get the names of the feature columns"
      ]
    },
    {
      "cell_type": "code",
      "execution_count": 15,
      "metadata": {
        "id": "D1bvL8bCWb6h",
        "scrolled": true,
        "colab": {
          "base_uri": "https://localhost:8080/"
        },
        "outputId": "80980739-3237-4074-93f7-b0255541d39a"
      },
      "outputs": [
        {
          "output_type": "stream",
          "name": "stdout",
          "text": [
            "['length', 'chroma_stft_mean', 'chroma_stft_var', 'rms_mean', 'rms_var', 'spectral_centroid_mean', 'spectral_centroid_var', 'spectral_bandwidth_mean', 'spectral_bandwidth_var', 'rolloff_mean', 'rolloff_var', 'zero_crossing_rate_mean', 'zero_crossing_rate_var', 'harmony_mean', 'harmony_var', 'perceptr_mean', 'perceptr_var', 'tempo', 'mfcc1_mean', 'mfcc1_var', 'mfcc2_mean', 'mfcc2_var', 'mfcc3_mean', 'mfcc3_var', 'mfcc4_mean', 'mfcc4_var', 'mfcc5_mean', 'mfcc5_var', 'mfcc6_mean', 'mfcc6_var', 'mfcc7_mean', 'mfcc7_var', 'mfcc8_mean', 'mfcc8_var', 'mfcc9_mean', 'mfcc9_var', 'mfcc10_mean', 'mfcc10_var', 'mfcc11_mean', 'mfcc11_var', 'mfcc12_mean', 'mfcc12_var', 'mfcc13_mean', 'mfcc13_var', 'mfcc14_mean', 'mfcc14_var', 'mfcc15_mean', 'mfcc15_var', 'mfcc16_mean', 'mfcc16_var', 'mfcc17_mean', 'mfcc17_var', 'mfcc18_mean', 'mfcc18_var', 'mfcc19_mean', 'mfcc19_var', 'mfcc20_mean', 'mfcc20_var']\n",
            "58\n"
          ]
        }
      ],
      "source": [
        "featureNames = list(music.columns)\n",
        "featureNames.remove('filename')\n",
        "featureNames.remove('label')\n",
        "print(featureNames)\n",
        "print(len(featureNames))"
      ]
    },
    {
      "cell_type": "markdown",
      "metadata": {
        "id": "I-B5g-RAWb6h"
      },
      "source": [
        "So we have 58 features. \n",
        "\n",
        "#### Training and test sets\n",
        "Now it is time to construct the training and test sets:"
      ]
    },
    {
      "cell_type": "code",
      "execution_count": 16,
      "metadata": {
        "id": "1zqluOErWb6h",
        "colab": {
          "base_uri": "https://localhost:8080/"
        },
        "outputId": "e232a9a8-2c69-4eb1-d93a-8b64d7f77baf"
      },
      "outputs": [
        {
          "output_type": "execute_result",
          "data": {
            "text/plain": [
              "4633       hiphop\n",
              "6189        metal\n",
              "3226        disco\n",
              "1130    classical\n",
              "246         blues\n",
              "          ...    \n",
              "9412         rock\n",
              "4973       hiphop\n",
              "1046    classical\n",
              "8207       reggae\n",
              "4879       hiphop\n",
              "Name: label, Length: 1998, dtype: object"
            ]
          },
          "metadata": {},
          "execution_count": 16
        }
      ],
      "source": [
        "## divide the original data 80% going into the music_training dataset \n",
        "## the rest in music_test\n",
        "music_training, music_test = train_test_split(music, test_size=.2)\n",
        "                              \n",
        "## now create the DataFrames for just the features (excluding the label column \n",
        "## filename column)                              \n",
        "music_training_features = music_training[featureNames]\n",
        "music_test_features = music_test[featureNames]\n",
        "                              \n",
        "## now create the labels data structure for both the training and test sets                              \n",
        "music_training_labels = music_training['label']\n",
        "music_test_labels = music_test['label']\n",
        "music_test_labels"
      ]
    },
    {
      "cell_type": "markdown",
      "metadata": {
        "id": "touv2_GAWb6h"
      },
      "source": [
        "### Building a single decision tree classifier\n",
        "Let's build a single decision tree classifier called `clf` using entropy, fit it to the data, make predictions and determine the accuracy:"
      ]
    },
    {
      "cell_type": "code",
      "execution_count": 17,
      "metadata": {
        "id": "1V3O5patWb6h",
        "colab": {
          "base_uri": "https://localhost:8080/"
        },
        "outputId": "f23f3445-acb1-4b01-de6c-a149421a4aaf"
      },
      "outputs": [
        {
          "output_type": "execute_result",
          "data": {
            "text/plain": [
              "0.6701701701701702"
            ]
          },
          "metadata": {},
          "execution_count": 17
        }
      ],
      "source": [
        "## Create clf, an instance of the Decision Tree Classifier\n",
        "# TO DO\n",
        "clf = tree.DecisionTreeClassifier(criterion = 'entropy')\n",
        "\n",
        "## Fit it to the data\n",
        "# TO DO\n",
        "clf.fit(music_training_features, music_training_labels)\n",
        "\n",
        "## get the predictions for the test set\n",
        "# TO DO\n",
        "predictions = clf.predict(music_test_features)\n",
        "\n",
        "## get the accuracy score\n",
        "# TO DO\n",
        "accuracy_score(predictions, music_test_labels)"
      ]
    },
    {
      "cell_type": "markdown",
      "metadata": {
        "id": "DEcDPHNUWb6h"
      },
      "source": [
        "When I did this I got 66% accuracy. That doesn't sound great but keep in mind that random guessing would only be 10% accuracy. \n",
        "\n",
        "### Building a Random Patch Classifier\n",
        "\n",
        "Now we are going to build a random patch classifier.\n",
        "\n",
        "* the base classifier will be a decision tree using entropy\n",
        "* the ensemble will contain 20 base classifiers\n",
        "* each classifier will use a random sample of 70% of the training data\n",
        "* each classifier will use a random sample of 70% of the features\n",
        "* the sampling will be done with replacement\n",
        "* it will use all available cpu cores.\n",
        "\n",
        "We are going to\n",
        "\n",
        "1. build the classifier\n",
        "2. train the classifier on the data\n",
        "3. make predictions on the test set\n",
        "4. determine the accuracy"
      ]
    },
    {
      "cell_type": "code",
      "execution_count": 18,
      "metadata": {
        "id": "HjTNhPVdWb6h",
        "colab": {
          "base_uri": "https://localhost:8080/"
        },
        "outputId": "4881783a-fc86-441f-aef4-87fe31483a3b"
      },
      "outputs": [
        {
          "output_type": "execute_result",
          "data": {
            "text/plain": [
              "0.8118118118118118"
            ]
          },
          "metadata": {},
          "execution_count": 18
        }
      ],
      "source": [
        "## TO DO\n",
        "baseclf = tree.DecisionTreeClassifier(criterion = 'entropy')\n",
        "ensemble = BaggingClassifier(baseclf, n_estimators = 20, max_samples = .7, max_features = .7, bootstrap = True, n_jobs=-1)\n",
        "ensemble.fit(music_training_features, music_training_labels)\n",
        "predictions = ensemble.predict(music_test_features)\n",
        "accuracy_score(predictions, music_test_labels)"
      ]
    },
    {
      "cell_type": "markdown",
      "metadata": {
        "id": "7W3cc2--Wb6h"
      },
      "source": [
        "What accuracy did you get? Was it better than using a single classifier?\n",
        "Keep your original code above. Make a copy of it below and \n",
        "experiment a bit with the hyperparameters. (try 3 or 4 different things) What is the best accuracy you can get?"
      ]
    },
    {
      "cell_type": "markdown",
      "source": [
        "\n",
        "\n",
        "##<font color='RED'>BASELINE BAGGING CLASSIFER\n",
        "</font>\n",
        "Baseline accuracy of the 20 estimator ensemble was 82%. much higher than the 66 of the individual classifier\n",
        "\n",
        "----------"
      ],
      "metadata": {
        "id": "QzNKKnNwb8sq"
      }
    },
    {
      "cell_type": "code",
      "execution_count": 19,
      "metadata": {
        "id": "p83tIBVhWb6i",
        "colab": {
          "base_uri": "https://localhost:8080/"
        },
        "outputId": "e790e945-97d8-4bff-e353-a0e104e185f0"
      },
      "outputs": [
        {
          "output_type": "execute_result",
          "data": {
            "text/plain": [
              "0.8343343343343343"
            ]
          },
          "metadata": {},
          "execution_count": 19
        }
      ],
      "source": [
        "##testing out with same parameters except no replacement\n",
        "baseclf = tree.DecisionTreeClassifier(criterion = 'entropy')\n",
        "ensemble = BaggingClassifier(baseclf, n_estimators = 20, max_samples = .7, max_features = .7, bootstrap = False, n_jobs=-1)\n",
        "ensemble.fit(music_training_features, music_training_labels)\n",
        "predictions = ensemble.predict(music_test_features)\n",
        "accuracy_score(predictions, music_test_labels)"
      ]
    },
    {
      "cell_type": "markdown",
      "source": [
        "##<font color='RED'>BASELINE BAGGING CLASSIFER WITH ONE CHANGE</font>\n",
        "I ran the bagging classifier again, but this time without replacement which yielded an accuracy of 86%. A good bit higher than the baseline one.\n",
        "Next lets try something different\n",
        "\n",
        "---------------------------------"
      ],
      "metadata": {
        "id": "tluIoQGgd7sF"
      }
    },
    {
      "cell_type": "code",
      "execution_count": 20,
      "metadata": {
        "id": "FkuEN3GUWb6i",
        "colab": {
          "base_uri": "https://localhost:8080/"
        },
        "outputId": "475faa67-713a-4e1e-b417-22a3a054549c"
      },
      "outputs": [
        {
          "output_type": "execute_result",
          "data": {
            "text/plain": [
              "0.8508508508508509"
            ]
          },
          "metadata": {},
          "execution_count": 20
        }
      ],
      "source": [
        "##testing with no replacement, and 50 estimators\n",
        "baseclf = tree.DecisionTreeClassifier(criterion = 'entropy')\n",
        "ensemble = BaggingClassifier(baseclf, n_estimators = 50, max_samples = .7, max_features = .7, bootstrap = False, n_jobs=-1)\n",
        "ensemble.fit(music_training_features, music_training_labels)\n",
        "predictions = ensemble.predict(music_test_features)\n",
        "accuracy_score(predictions, music_test_labels)"
      ]
    },
    {
      "cell_type": "markdown",
      "source": [
        "##<font color='RED'>Change #2</font>\n",
        "Hyperparameters:\n",
        "50 estimators, .7 samples, .7 features, no replacement.\n",
        "\n",
        "This time I increased the number of estimators from 20 to 50 which increased the accuracy from 86% to 87%. Better, but not much change for such an increase in one variable. \n",
        "Results based on pure guessing would be 10% and our classifier is at 87%. We are probably getting close to the limit at this point.\n",
        "Lets see what other changes we can make. \n",
        "__________________________________________"
      ],
      "metadata": {
        "id": "S689R4EDfK54"
      }
    },
    {
      "cell_type": "code",
      "source": [
        "##testing with no replacement, and 50 estimators and .8 max samples\n",
        "baseclf = tree.DecisionTreeClassifier(criterion = 'entropy')\n",
        "ensemble = BaggingClassifier(baseclf, n_estimators = 70, max_samples = .7, max_features = .7, bootstrap = False, n_jobs=-1)\n",
        "ensemble.fit(music_training_features, music_training_labels)\n",
        "predictions = ensemble.predict(music_test_features)\n",
        "accuracy_score(predictions, music_test_labels)"
      ],
      "metadata": {
        "colab": {
          "base_uri": "https://localhost:8080/"
        },
        "id": "vfKB51O_gXxL",
        "outputId": "dfccf49c-1b30-4b92-ab2a-8de3e75e2409"
      },
      "execution_count": 60,
      "outputs": [
        {
          "output_type": "execute_result",
          "data": {
            "text/plain": [
              "0.8688688688688688"
            ]
          },
          "metadata": {},
          "execution_count": 60
        }
      ]
    },
    {
      "cell_type": "markdown",
      "source": [
        "##<font color='RED'>Change #3</font>\n",
        "Hyperparameters:\n",
        "70 estimators, .7 samples, .7 features, no replacement.\n",
        "\n",
        "The changes from the previous classifier to this one were increasing the number of estimators to 70. Better, but not by much. This increase makes sense, more classifiers means less variance, which means more accuracy overall. The threshold of accuracy is probably around 90% for this classifier. \n",
        "__________________________________________"
      ],
      "metadata": {
        "id": "B1ZBuVnvhT12"
      }
    },
    {
      "cell_type": "markdown",
      "metadata": {
        "id": "MP2mAHhTWb6i"
      },
      "source": [
        "\n",
        "##<font color='#52BE80'>NOTES</font>\n",
        "\n",
        "### Breast Cancer Database\n",
        "\n",
        "[back](#Wisconsin-Cancer-Dataset)\n",
        "\n",
        "  This breast cancer databases was obtained from the University of Wisconsin\n",
        "   Hospitals, Madison from Dr. William H. Wolberg.  If you publish results\n",
        "   when using this database, then please include this information in your\n",
        "   acknowledgements.  Also, please cite one or more of:\n",
        "\n",
        "   1. O. L. Mangasarian and W. H. Wolberg: \"Cancer diagnosis via linear \n",
        "      programming\", SIAM News, Volume 23, Number 5, September 1990, pp 1 & 18.\n",
        "\n",
        "   2. William H. Wolberg and O.L. Mangasarian: \"Multisurface method of \n",
        "      pattern separation for medical diagnosis applied to breast cytology\", \n",
        "      Proceedings of the National Academy of Sciences, U.S.A., Volume 87, \n",
        "      December 1990, pp 9193-9196.\n",
        "\n",
        "   3. O. L. Mangasarian, R. Setiono, and W.H. Wolberg: \"Pattern recognition \n",
        "      via linear programming: Theory and application to medical diagnosis\", \n",
        "      in: \"Large-scale numerical optimization\", Thomas F. Coleman and Yuying\n",
        "      Li, editors, SIAM Publications, Philadelphia 1990, pp 22-30.\n",
        "\n",
        "   4. K. P. Bennett & O. L. Mangasarian: \"Robust linear programming \n",
        "      discrimination of two linearly inseparable sets\", Optimization Methods\n",
        "      and Software 1, 1992, 23-34 (Gordon & Breach Science Publishers).\n",
        "\n",
        "Title: Wisconsin Breast Cancer Database (January 8, 1991)\n",
        "\n",
        "\n",
        "Sources:\n",
        "   -- Dr. WIlliam H. Wolberg (physician)\n",
        "      University of Wisconsin Hospitals\n",
        "      Madison, Wisconsin\n",
        "      USA\n",
        "   -- Donor: Olvi Mangasarian (mangasarian@cs.wisc.edu)\n",
        "      Received by David W. Aha (aha@cs.jhu.edu)\n",
        "   -- Date: 15 July 1992"
      ]
    },
    {
      "cell_type": "code",
      "execution_count": 59,
      "metadata": {
        "id": "Z4yT3Ci2Wb6i"
      },
      "outputs": [],
      "source": []
    }
  ],
  "metadata": {
    "colab": {
      "provenance": [],
      "include_colab_link": true
    },
    "kernelspec": {
      "display_name": "Python 3 (ipykernel)",
      "language": "python",
      "name": "python3"
    },
    "language_info": {
      "codemirror_mode": {
        "name": "ipython",
        "version": 3
      },
      "file_extension": ".py",
      "mimetype": "text/x-python",
      "name": "python",
      "nbconvert_exporter": "python",
      "pygments_lexer": "ipython3",
      "version": "3.9.12"
    }
  },
  "nbformat": 4,
  "nbformat_minor": 0
}