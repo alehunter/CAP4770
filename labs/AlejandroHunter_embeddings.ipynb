{
  "cells": [
    {
      "cell_type": "markdown",
      "metadata": {
        "id": "view-in-github",
        "colab_type": "text"
      },
      "source": [
        "<a href=\"https://colab.research.google.com/github/alehunter/CAP4770/blob/main/labs/AlejandroHunter_embeddings.ipynb\" target=\"_parent\"><img src=\"https://colab.research.google.com/assets/colab-badge.svg\" alt=\"Open In Colab\"/></a>"
      ]
    },
    {
      "cell_type": "code",
      "execution_count": null,
      "metadata": {
        "id": "L8bIz-dx6t3l",
        "colab": {
          "base_uri": "https://localhost:8080/",
          "height": 36
        },
        "outputId": "21b80401-8971-48d8-f16e-8fc41b764f21"
      },
      "outputs": [
        {
          "output_type": "execute_result",
          "data": {
            "text/plain": [
              "'2.9.0'"
            ],
            "application/vnd.google.colaboratory.intrinsic+json": {
              "type": "string"
            }
          },
          "metadata": {},
          "execution_count": 1
        }
      ],
      "source": [
        "import keras\n",
        "keras.__version__"
      ]
    },
    {
      "cell_type": "markdown",
      "metadata": {
        "id": "fcwCWVoR6t3q"
      },
      "source": [
        "# Using word embeddings\n",
        "![](https://raw.githubusercontent.com/zacharski/ml-class/master/labs/pics/wordEmbeddingsPic.png)\n",
        "#\n",
        "\n",
        "## Meaning\n",
        "For hundreds of years linguists have been investigating how to encode the semantic information of a word. Some believe that there is a universal mental concept, for example `MOON`, with some universal representation in our brains that gets represented in English as *moon*, in Uyghur as ئاي, as *Hanhepi wi* in Lakota, and as \n",
        "月 in Japanese. It is also believed that  concepts such as `MOON` and `SUN` share some common semantic features. Similar words would cluster together in semantic space. For example, moon, sun, Mars, Neptune, the Milky Way Galaxy seem to have some similarities and form a group as does a group we could label domestic animals that might include horses, dogs, and cats, which in turn are different from wild animals. So words like *dog*, *cat*, *horse*, have, as part of their semantic meaning, some feature that is the same among these words  and that feature is not present in the representations for the words *moon* or *sun*. \n",
        "\n",
        "We might consider doing this by hand. For example, consider the words:\n",
        "\n",
        "* astronaut\n",
        "* cat\n",
        "* chair\n",
        "* dog\n",
        "* donkey\n",
        "* owl\n",
        "\n",
        "We might represent the semantic closeness of the words by distance. So dog and cat are the most similar:\n",
        "\n",
        "![](https://raw.githubusercontent.com/zacharski/ml-class/master/labs/pics/semantics2.png)\n",
        "\n",
        "From there we can decide on a list of semantic features and represent each word as a collection of these features, \n",
        "\n",
        "![](https://raw.githubusercontent.com/zacharski/ml-class/master/labs/pics/semantics3.png) \n",
        "\n",
        "As you can imagine, coming up with this feature list, and then labeling each word, is extremely difficult. Linguists have been struggling with this for centuries.\n",
        "\n",
        "But we can have a computer do it.\n",
        "\n",
        "\n",
        "## Latent Features\n",
        "Latent features are simply features that are hidden---we don't know what they are but we know words share some features. These semantic features impact how a word occurs in different contexts. \n",
        "\n",
        "\n",
        "For example, it would be rare for a verb to follow the word *the*:\n",
        "\n",
        "* *The says ...\n",
        "* *The haven't\n",
        "* *The see\n",
        "\n",
        "(Here the asterisk * represents a sentence most people would find odd). And again, this is just probability. Certainly, you can construct sentences that have these sequences that are perfectly fine (*The says who questioning method .*, *Just experimenting with the Says Who basics on myself or with clients*, *The haven't had time excuse*). But the likelihood of the word *says* following *the* is extremely rare. \n",
        "\n",
        "Similarly, sentences like\n",
        "\n",
        "* I fed my ___\n",
        "* I fed my dog\n",
        "* I fed my poodle\n",
        "* I fed my cat\n",
        "* I fed my horse\n",
        "\n",
        "occur much more frequently than\n",
        "\n",
        "* I fed my ___\n",
        "* I fed my moon\n",
        "* I fed my sun\n",
        "* I fed my Neptune\n",
        "* I fed my Milky Way Galaxy.\n",
        "\n",
        "So, we come to the quote by Firth:\n",
        "\n",
        "> You shall know a word by the company it keeps - John Rupert Firth\n",
        "\n",
        "The idea is a simple one and is based on counting and statistics. If we find a bunch of words that occur in the same context, we can assume that they share some semantic feature. And, if we didn't know a language we could still do this analysis. Considier:\n",
        "\n",
        "* le di de comer a mi gato\n",
        "* le di de comer a mi perro\n",
        "* le di de comer a mi burro\n",
        "* le di de comer a mi caballo\n",
        "\n",
        "* el perro comió la carne\n",
        "* el burro comió el grano\n",
        "* el gato comió pescado en el almuerzo\n",
        "* el caballo comio la hierba\n",
        "\n",
        "> NOTE: These sentences may not be correct Spanish sentence as I used Google Translate. If you are a Spanish speaker and notice an error, please let me know.\n",
        "\n",
        "In these examples, since the words *gato, perro, burro, cabello*, occur in the same contexts we can assume they share some semantic feature.  We wouldn't know that the feature is animal but we would know that they share some feature, let's call it x29. This, as we talked about is a latent feature.\n",
        "\n",
        "Now, without going into any detail whatsoever, we can imagine giving an algorithm a gigaword corpus and telling it to come up with 100 semantic features that explain the distribution of the words in the corpus. \n",
        "\n",
        "That is what **word embeddings** are in their simplist form. \n",
        "\n",
        "\n",
        "### Sparse vs. dense dimensions.\n",
        "In our previous work with text, we determined the size of our vocabulary, say 10,000 words, and created a vector where each column represented a different word in the vocabulary. So let's say column 1 was *a* and 2 *the*, and 7,253 *computer* and so on. If we encode a sentence that starts *the computer*, the word *the* would be represented by a '1' in column 1 and zeroes in the other 9,999 columns. The word *computer* would have a '1' in column 7,253 and zeroes in the other 9,999. That is an awful lot of zeroes, and this vector is called **sparse**. This looks like the first image below, where the blue square represents a '1' and the black represents all zeroes. \n",
        "\n"
      ]
    },
    {
      "cell_type": "markdown",
      "metadata": {
        "id": "cH3xchp86t3r"
      },
      "source": [
        "![word embeddings vs. one hot encoding](https://raw.githubusercontent.com/zacharski/ml-class/master/labs/pics/wordEmbeddings.png)"
      ]
    },
    {
      "cell_type": "markdown",
      "metadata": {
        "id": "M3l4_QvP6t3r"
      },
      "source": [
        "With word embeddings we determine a feature size, 100, 200, 300 dimensions, and then each word is represented by a vector with values between 0 and 1. This is shown in the dense diagram above where the different colors represent different fractional values. \n",
        "\n",
        "In the one-hot-encoding method, each word was represented by a sparse vector the size of the vocabulary and vectors of 10,000 or 20,000 entries are not uncommon. In contrast, in the word embedding method, each word is represented by a dense vector of only 100 or 300 values. Thus, in the word embedding approach information is packed into a much smaller vector. \n",
        "\n",
        "In addition, in the one-hot encoding method there were no relationships between words. For example, *poodle* might be word 9,712 and *dog* 1,797, and they were treated completely separately. In the word embedding approach, the similarities of *poodle* and *dog* are represented within the word embeddings. \n",
        "\n",
        "\n",
        "#### Once again for emphasis\n",
        "While the vectors obtained through one-hot encoding are binary, sparse (mostly made of zeros) and very high-dimensional (same dimensionality as the \n",
        "number of words in the vocabulary), \"word embeddings\" are low-dimensional floating point vectors \n",
        "\n",
        "\n",
        "#### Note\n",
        "The following notebook is a remix of one by Francis Cholet (see the end of the notebook for more information)\n",
        "\n",
        "\n",
        "### Obtaining word embeddings\n",
        "There are two ways to obtain word embeddings:\n",
        "\n",
        "* Learn word embeddings jointly with the main task you care about (e.g. document classification or sentiment prediction). \n",
        "In this setup, you would start with random word vectors, then learn your word vectors in the same way that you learn the weights of a neural network.\n",
        "* Load into your model word embeddings that were pre-computed using a different machine learning task than the one you are trying to solve. \n",
        "These are called \"pre-trained word embeddings\". \n",
        "\n",
        "Let's take a look at both."
      ]
    },
    {
      "cell_type": "markdown",
      "metadata": {
        "id": "NbhGdm0e6t3s"
      },
      "source": [
        "## Learning word embeddings with the `Embedding` layer\n",
        "\n",
        "\n",
        "The simplest way to associate a dense vector to a word would be to pick the vector at random. For example, we could assign binary numbers to each word randomly.\n",
        "\n",
        "index | binary | word\n",
        "--: | --: | :---\n",
        "1 | 00000001 | dog\n",
        "2 | 00000010 | moon\n",
        "3 | 00000011 | chair\n",
        "... | ... | ...\n",
        "238 | 11101110 | standard poodle\n",
        "239 | 11101111 | smart phone\n",
        "\n",
        "\n",
        "The problem with this approach is that the \n",
        "resulting embedding space would have no structure. For instance, the words \"accurate\" and \"exact\" may end up with completely different \n",
        "embeddings, even though they are interchangeable in most sentences. It would be very difficult for a deep neural network to make sense of \n",
        "such a noisy, unstructured embedding space. \n",
        "\n",
        "To get a bit more abstract: the geometric relationships between word vectors should reflect the semantic relationships between these words. \n",
        "Word embeddings are meant to map human language into a geometric space. For instance, in a reasonable embedding space, we would expect \n",
        "synonyms to be embedded into similar word vectors, and in general we would expect the geometric distance (e.g. L2 distance) between any two \n",
        "word vectors to relate to the semantic distance of the associated words (words meaning very different things would be embedded to points \n",
        "far away from each other, while related words would be closer). Even beyond mere distance, we may want specific __directions__ in the \n",
        "embedding space to be meaningful. \n",
        "\n",
        "\n",
        "\n",
        "In real-world word embedding spaces, common examples of meaningful geometric transformations are \"gender vectors\" and \"plural vector\". For \n",
        "instance, by adding a \"female vector\" to the vector \"king\", one obtain the vector \"queen\". By adding a \"plural vector\", one obtain \"kings\". \n",
        "Word embedding spaces typically feature thousands of such interpretable and potentially useful vectors.\n",
        "\n",
        "Is there some \"ideal\" word embedding space that would perfectly map human language and could be used for any natural language processing \n",
        "task? Possibly, but in any case, we have yet to compute anything of the sort. Also, there isn't such a thing as \"human language\", there are \n",
        "many different languages and they are not isomorphic, as a language is the reflection of a specific culture and a specific context. But more \n",
        "pragmatically, what makes a good word embedding space depends heavily on your task: the perfect word embedding space for an \n",
        "English-language movie review sentiment analysis model may look very different from the perfect embedding space for an English-language \n",
        "legal document classification model, because the importance of certain semantic relationships varies from task to task.\n",
        "\n",
        "It is thus reasonable to __learn__ a new embedding space with every new task. Thankfully, backpropagation makes this really easy, and Keras makes it \n",
        "even easier. It's just about learning the weights of a layer: the `Embedding` layer."
      ]
    },
    {
      "cell_type": "code",
      "execution_count": null,
      "metadata": {
        "id": "81dFNJsz6t3s"
      },
      "outputs": [],
      "source": [
        "from keras.layers import Embedding\n",
        "\n",
        "# The Embedding layer takes at least two arguments:\n",
        "# the number of possible tokens, here 1000 (1 + maximum word index),\n",
        "# and the dimensionality of the embeddings, here 64.\n",
        "embedding_layer = Embedding(1000, 64)"
      ]
    },
    {
      "cell_type": "markdown",
      "metadata": {
        "id": "OUqdtrTj6t3v"
      },
      "source": [
        "\n",
        "The `Embedding` layer is best understood as a dictionary mapping integer indices (which stand for specific words) to dense vectors. It takes \n",
        "as input integers, it looks up these integers into an internal dictionary, and it returns the associated vectors. It's effectively a dictionary lookup."
      ]
    },
    {
      "cell_type": "markdown",
      "metadata": {
        "id": "-tPFE8U-6t3w"
      },
      "source": [
        "\n",
        "The `Embedding` layer takes as input a 2D tensor of integers, of shape `(samples, sequence_length)`, where each entry is a sequence of \n",
        "integers. So, for example, we may have a dataset of 10,000 tweets so that 10,000 is the `samples` and each sample consists of a sequence of integers representing the words in the tweet. It can embed sequences of variable lengths, so for instance we could feed into our embedding layer above batches that could have \n",
        "shapes `(32, 10)` (batch of 32 sequences of length 10) or `(64, 15)` (batch of 64 sequences of length 15). All sequences in a batch must \n",
        "have the same length, though (since we need to pack them into a single tensor), so sequences that are shorter than others should be padded \n",
        "with zeros, and sequences that are longer should be truncated.\n",
        "\n",
        "This layer returns a 3D floating point tensor, of shape `(samples, sequence_length, embedding_dimensionality)`. \n",
        "\n",
        "When you instantiate an `Embedding` layer, its weights (its internal dictionary of token vectors) are initially random, just like with any \n",
        "other layer. During training, these word vectors will be gradually adjusted via backpropagation, structuring the space into something that the \n",
        "downstream model can exploit. Once fully trained, your embedding space will show a lot of structure -- a kind of structure specialized for \n",
        "the specific problem you were training your model for.\n",
        "\n",
        "Let's apply this idea to the IMDB movie review sentiment prediction task that you are already familiar with. Let's quickly prepare \n",
        "the data. We will restrict the movie reviews to the top 20,000 most common words \n",
        "and cut the reviews after only 50 words. Our network will simply learn 50-dimensional embeddings for each of the 20,000 words, turn the \n",
        "input integer sequences (2D integer tensor) into embedded sequences (3D float tensor), flatten the tensor to 2D, and train a single `Dense` \n",
        "layer on top for classification."
      ]
    },
    {
      "cell_type": "code",
      "execution_count": null,
      "metadata": {
        "id": "h3ORYjSkkdo9",
        "colab": {
          "base_uri": "https://localhost:8080/"
        },
        "outputId": "88588449-c1a4-48cf-fd9e-916e2e0f7668"
      },
      "outputs": [
        {
          "output_type": "stream",
          "name": "stdout",
          "text": [
            "--2022-11-28 00:29:40--  http://zacharski.org/files/courses/cs419/imdb.zip\n",
            "Resolving zacharski.org (zacharski.org)... 198.199.65.227\n",
            "Connecting to zacharski.org (zacharski.org)|198.199.65.227|:80... connected.\n",
            "HTTP request sent, awaiting response... 200 OK\n",
            "Length: 26559010 (25M) [application/zip]\n",
            "Saving to: ‘imdb.zip’\n",
            "\n",
            "imdb.zip            100%[===================>]  25.33M  19.5MB/s    in 1.3s    \n",
            "\n",
            "2022-11-28 00:29:41 (19.5 MB/s) - ‘imdb.zip’ saved [26559010/26559010]\n",
            "\n"
          ]
        }
      ],
      "source": [
        "!wget http://zacharski.org/files/courses/cs419/imdb.zip\n"
      ]
    },
    {
      "cell_type": "code",
      "execution_count": null,
      "metadata": {
        "id": "Sc_HJW6lov9Q",
        "colab": {
          "base_uri": "https://localhost:8080/",
          "height": 423
        },
        "outputId": "326b6be2-1a7e-47ec-e9ad-99500566e5a0"
      },
      "outputs": [
        {
          "output_type": "execute_result",
          "data": {
            "text/plain": [
              "                                                  review sentiment\n",
              "0      One of the other reviewers has mentioned that ...  positive\n",
              "1      A wonderful little production. <br /><br />The...  positive\n",
              "2      I thought this was a wonderful way to spend ti...  positive\n",
              "3      Basically there's a family where a little boy ...  negative\n",
              "4      Petter Mattei's \"Love in the Time of Money\" is...  positive\n",
              "...                                                  ...       ...\n",
              "49995  I thought this movie did a down right good job...  positive\n",
              "49996  Bad plot, bad dialogue, bad acting, idiotic di...  negative\n",
              "49997  I am a Catholic taught in parochial elementary...  negative\n",
              "49998  I'm going to have to disagree with the previou...  negative\n",
              "49999  No one expects the Star Trek movies to be high...  negative\n",
              "\n",
              "[50000 rows x 2 columns]"
            ],
            "text/html": [
              "\n",
              "  <div id=\"df-2eb54e04-3db1-48a3-bb93-36acdd6399df\">\n",
              "    <div class=\"colab-df-container\">\n",
              "      <div>\n",
              "<style scoped>\n",
              "    .dataframe tbody tr th:only-of-type {\n",
              "        vertical-align: middle;\n",
              "    }\n",
              "\n",
              "    .dataframe tbody tr th {\n",
              "        vertical-align: top;\n",
              "    }\n",
              "\n",
              "    .dataframe thead th {\n",
              "        text-align: right;\n",
              "    }\n",
              "</style>\n",
              "<table border=\"1\" class=\"dataframe\">\n",
              "  <thead>\n",
              "    <tr style=\"text-align: right;\">\n",
              "      <th></th>\n",
              "      <th>review</th>\n",
              "      <th>sentiment</th>\n",
              "    </tr>\n",
              "  </thead>\n",
              "  <tbody>\n",
              "    <tr>\n",
              "      <th>0</th>\n",
              "      <td>One of the other reviewers has mentioned that ...</td>\n",
              "      <td>positive</td>\n",
              "    </tr>\n",
              "    <tr>\n",
              "      <th>1</th>\n",
              "      <td>A wonderful little production. &lt;br /&gt;&lt;br /&gt;The...</td>\n",
              "      <td>positive</td>\n",
              "    </tr>\n",
              "    <tr>\n",
              "      <th>2</th>\n",
              "      <td>I thought this was a wonderful way to spend ti...</td>\n",
              "      <td>positive</td>\n",
              "    </tr>\n",
              "    <tr>\n",
              "      <th>3</th>\n",
              "      <td>Basically there's a family where a little boy ...</td>\n",
              "      <td>negative</td>\n",
              "    </tr>\n",
              "    <tr>\n",
              "      <th>4</th>\n",
              "      <td>Petter Mattei's \"Love in the Time of Money\" is...</td>\n",
              "      <td>positive</td>\n",
              "    </tr>\n",
              "    <tr>\n",
              "      <th>...</th>\n",
              "      <td>...</td>\n",
              "      <td>...</td>\n",
              "    </tr>\n",
              "    <tr>\n",
              "      <th>49995</th>\n",
              "      <td>I thought this movie did a down right good job...</td>\n",
              "      <td>positive</td>\n",
              "    </tr>\n",
              "    <tr>\n",
              "      <th>49996</th>\n",
              "      <td>Bad plot, bad dialogue, bad acting, idiotic di...</td>\n",
              "      <td>negative</td>\n",
              "    </tr>\n",
              "    <tr>\n",
              "      <th>49997</th>\n",
              "      <td>I am a Catholic taught in parochial elementary...</td>\n",
              "      <td>negative</td>\n",
              "    </tr>\n",
              "    <tr>\n",
              "      <th>49998</th>\n",
              "      <td>I'm going to have to disagree with the previou...</td>\n",
              "      <td>negative</td>\n",
              "    </tr>\n",
              "    <tr>\n",
              "      <th>49999</th>\n",
              "      <td>No one expects the Star Trek movies to be high...</td>\n",
              "      <td>negative</td>\n",
              "    </tr>\n",
              "  </tbody>\n",
              "</table>\n",
              "<p>50000 rows × 2 columns</p>\n",
              "</div>\n",
              "      <button class=\"colab-df-convert\" onclick=\"convertToInteractive('df-2eb54e04-3db1-48a3-bb93-36acdd6399df')\"\n",
              "              title=\"Convert this dataframe to an interactive table.\"\n",
              "              style=\"display:none;\">\n",
              "        \n",
              "  <svg xmlns=\"http://www.w3.org/2000/svg\" height=\"24px\"viewBox=\"0 0 24 24\"\n",
              "       width=\"24px\">\n",
              "    <path d=\"M0 0h24v24H0V0z\" fill=\"none\"/>\n",
              "    <path d=\"M18.56 5.44l.94 2.06.94-2.06 2.06-.94-2.06-.94-.94-2.06-.94 2.06-2.06.94zm-11 1L8.5 8.5l.94-2.06 2.06-.94-2.06-.94L8.5 2.5l-.94 2.06-2.06.94zm10 10l.94 2.06.94-2.06 2.06-.94-2.06-.94-.94-2.06-.94 2.06-2.06.94z\"/><path d=\"M17.41 7.96l-1.37-1.37c-.4-.4-.92-.59-1.43-.59-.52 0-1.04.2-1.43.59L10.3 9.45l-7.72 7.72c-.78.78-.78 2.05 0 2.83L4 21.41c.39.39.9.59 1.41.59.51 0 1.02-.2 1.41-.59l7.78-7.78 2.81-2.81c.8-.78.8-2.07 0-2.86zM5.41 20L4 18.59l7.72-7.72 1.47 1.35L5.41 20z\"/>\n",
              "  </svg>\n",
              "      </button>\n",
              "      \n",
              "  <style>\n",
              "    .colab-df-container {\n",
              "      display:flex;\n",
              "      flex-wrap:wrap;\n",
              "      gap: 12px;\n",
              "    }\n",
              "\n",
              "    .colab-df-convert {\n",
              "      background-color: #E8F0FE;\n",
              "      border: none;\n",
              "      border-radius: 50%;\n",
              "      cursor: pointer;\n",
              "      display: none;\n",
              "      fill: #1967D2;\n",
              "      height: 32px;\n",
              "      padding: 0 0 0 0;\n",
              "      width: 32px;\n",
              "    }\n",
              "\n",
              "    .colab-df-convert:hover {\n",
              "      background-color: #E2EBFA;\n",
              "      box-shadow: 0px 1px 2px rgba(60, 64, 67, 0.3), 0px 1px 3px 1px rgba(60, 64, 67, 0.15);\n",
              "      fill: #174EA6;\n",
              "    }\n",
              "\n",
              "    [theme=dark] .colab-df-convert {\n",
              "      background-color: #3B4455;\n",
              "      fill: #D2E3FC;\n",
              "    }\n",
              "\n",
              "    [theme=dark] .colab-df-convert:hover {\n",
              "      background-color: #434B5C;\n",
              "      box-shadow: 0px 1px 3px 1px rgba(0, 0, 0, 0.15);\n",
              "      filter: drop-shadow(0px 1px 2px rgba(0, 0, 0, 0.3));\n",
              "      fill: #FFFFFF;\n",
              "    }\n",
              "  </style>\n",
              "\n",
              "      <script>\n",
              "        const buttonEl =\n",
              "          document.querySelector('#df-2eb54e04-3db1-48a3-bb93-36acdd6399df button.colab-df-convert');\n",
              "        buttonEl.style.display =\n",
              "          google.colab.kernel.accessAllowed ? 'block' : 'none';\n",
              "\n",
              "        async function convertToInteractive(key) {\n",
              "          const element = document.querySelector('#df-2eb54e04-3db1-48a3-bb93-36acdd6399df');\n",
              "          const dataTable =\n",
              "            await google.colab.kernel.invokeFunction('convertToInteractive',\n",
              "                                                     [key], {});\n",
              "          if (!dataTable) return;\n",
              "\n",
              "          const docLinkHtml = 'Like what you see? Visit the ' +\n",
              "            '<a target=\"_blank\" href=https://colab.research.google.com/notebooks/data_table.ipynb>data table notebook</a>'\n",
              "            + ' to learn more about interactive tables.';\n",
              "          element.innerHTML = '';\n",
              "          dataTable['output_type'] = 'display_data';\n",
              "          await google.colab.output.renderOutput(dataTable, element);\n",
              "          const docLink = document.createElement('div');\n",
              "          docLink.innerHTML = docLinkHtml;\n",
              "          element.appendChild(docLink);\n",
              "        }\n",
              "      </script>\n",
              "    </div>\n",
              "  </div>\n",
              "  "
            ]
          },
          "metadata": {},
          "execution_count": 4
        }
      ],
      "source": [
        "import pandas as pd\n",
        "data = pd.read_csv('imdb.zip')\n",
        "data"
      ]
    },
    {
      "cell_type": "code",
      "execution_count": null,
      "metadata": {
        "id": "dU805Bd7pAOO",
        "colab": {
          "base_uri": "https://localhost:8080/"
        },
        "outputId": "5b555013-8c48-4d1a-9c4c-73a79be06766"
      },
      "outputs": [
        {
          "output_type": "execute_result",
          "data": {
            "text/plain": [
              "0        1\n",
              "1        1\n",
              "2        1\n",
              "3        0\n",
              "4        1\n",
              "        ..\n",
              "49995    1\n",
              "49996    0\n",
              "49997    0\n",
              "49998    0\n",
              "49999    0\n",
              "Name: sentiment, Length: 50000, dtype: int64"
            ]
          },
          "metadata": {},
          "execution_count": 5
        }
      ],
      "source": [
        "data_text = data.review\n",
        "data_label =data.sentiment\n",
        "data_label =  data['sentiment'].apply(lambda x: 1 if x == 'positive' else 0)\n",
        "data_label "
      ]
    },
    {
      "cell_type": "markdown",
      "metadata": {
        "id": "tvb9ry5-o_6u"
      },
      "source": [
        "### Converting words to integers\n",
        "The first step we will do is convert words represented as strings to integers\n",
        "\n",
        "We will use the Keras Tokenizer and specify the size of the vocabulary.\n",
        "\n",
        "* num_words: the maximum number of words to keep, based on word frequency. Only the most common num_words-1 words will be kept.\n"
      ]
    },
    {
      "cell_type": "code",
      "execution_count": null,
      "metadata": {
        "id": "DB6KIHrZpBOk",
        "colab": {
          "base_uri": "https://localhost:8080/"
        },
        "outputId": "35b1d164-c530-471c-f4d2-e03d7ac22bd4"
      },
      "outputs": [
        {
          "output_type": "execute_result",
          "data": {
            "text/plain": [
              "[27,\n",
              " 4,\n",
              " 1,\n",
              " 79,\n",
              " 2102,\n",
              " 45,\n",
              " 1072,\n",
              " 12,\n",
              " 100,\n",
              " 147,\n",
              " 39,\n",
              " 307,\n",
              " 3184,\n",
              " 398,\n",
              " 474,\n",
              " 26,\n",
              " 3195,\n",
              " 33,\n",
              " 23,\n",
              " 203,\n",
              " 14,\n",
              " 11,\n",
              " 6,\n",
              " 621,\n",
              " 48,\n",
              " 596,\n",
              " 16,\n",
              " 68,\n",
              " 7,\n",
              " 7,\n",
              " 1,\n",
              " 86,\n",
              " 148,\n",
              " 12,\n",
              " 3241,\n",
              " 68,\n",
              " 42,\n",
              " 3184,\n",
              " 13,\n",
              " 92,\n",
              " 5398,\n",
              " 2,\n",
              " 15115,\n",
              " 134,\n",
              " 4,\n",
              " 570,\n",
              " 60,\n",
              " 268,\n",
              " 8,\n",
              " 203,\n",
              " 36,\n",
              " 1,\n",
              " 661,\n",
              " 139,\n",
              " 1740,\n",
              " 68,\n",
              " 11,\n",
              " 6,\n",
              " 21,\n",
              " 3,\n",
              " 119,\n",
              " 15,\n",
              " 1,\n",
              " 7888,\n",
              " 2333,\n",
              " 38,\n",
              " 11469,\n",
              " 11,\n",
              " 119,\n",
              " 2595,\n",
              " 54,\n",
              " 5911,\n",
              " 16,\n",
              " 5510,\n",
              " 5,\n",
              " 1479,\n",
              " 376,\n",
              " 38,\n",
              " 570,\n",
              " 92,\n",
              " 6,\n",
              " 3804,\n",
              " 8,\n",
              " 1,\n",
              " 360,\n",
              " 356,\n",
              " 4,\n",
              " 1,\n",
              " 661,\n",
              " 7,\n",
              " 7,\n",
              " 9,\n",
              " 6,\n",
              " 433,\n",
              " 3184,\n",
              " 14,\n",
              " 12,\n",
              " 6,\n",
              " 1,\n",
              " 11648,\n",
              " 358,\n",
              " 5,\n",
              " 1,\n",
              " 15701,\n",
              " 6813,\n",
              " 2538,\n",
              " 1064,\n",
              " 9,\n",
              " 2711,\n",
              " 1421,\n",
              " 20,\n",
              " 538,\n",
              " 32,\n",
              " 4636,\n",
              " 2468,\n",
              " 4,\n",
              " 1,\n",
              " 1208,\n",
              " 117,\n",
              " 29,\n",
              " 1,\n",
              " 7017,\n",
              " 25,\n",
              " 2970,\n",
              " 11964,\n",
              " 2,\n",
              " 391,\n",
              " 34,\n",
              " 16740,\n",
              " 6,\n",
              " 21,\n",
              " 299,\n",
              " 20,\n",
              " 1,\n",
              " 4910,\n",
              " 7364,\n",
              " 538,\n",
              " 6,\n",
              " 344,\n",
              " 5,\n",
              " 106,\n",
              " 8161,\n",
              " 14813,\n",
              " 5050,\n",
              " 7889,\n",
              " 2453,\n",
              " 2,\n",
              " 51,\n",
              " 34,\n",
              " 327,\n",
              " 9106,\n",
              " 7365,\n",
              " 12486,\n",
              " 2,\n",
              " 8697,\n",
              " 23,\n",
              " 110,\n",
              " 225,\n",
              " 243,\n",
              " 7,\n",
              " 7,\n",
              " 10,\n",
              " 58,\n",
              " 131,\n",
              " 1,\n",
              " 280,\n",
              " 1324,\n",
              " 4,\n",
              " 1,\n",
              " 119,\n",
              " 6,\n",
              " 693,\n",
              " 5,\n",
              " 1,\n",
              " 192,\n",
              " 12,\n",
              " 9,\n",
              " 269,\n",
              " 117,\n",
              " 79,\n",
              " 276,\n",
              " 589,\n",
              " 3024,\n",
              " 834,\n",
              " 180,\n",
              " 1320,\n",
              " 4161,\n",
              " 15,\n",
              " 2523,\n",
              " 1243,\n",
              " 834,\n",
              " 1443,\n",
              " 834,\n",
              " 887,\n",
              " 3184,\n",
              " 149,\n",
              " 954,\n",
              " 183,\n",
              " 1,\n",
              " 86,\n",
              " 398,\n",
              " 10,\n",
              " 123,\n",
              " 210,\n",
              " 3241,\n",
              " 68,\n",
              " 14,\n",
              " 34,\n",
              " 1637,\n",
              " 9,\n",
              " 13,\n",
              " 2239,\n",
              " 10,\n",
              " 413,\n",
              " 131,\n",
              " 10,\n",
              " 13,\n",
              " 1592,\n",
              " 15,\n",
              " 9,\n",
              " 18,\n",
              " 14,\n",
              " 10,\n",
              " 287,\n",
              " 51,\n",
              " 10,\n",
              " 1417,\n",
              " 3,\n",
              " 1280,\n",
              " 15,\n",
              " 3184,\n",
              " 2,\n",
              " 189,\n",
              " 10168,\n",
              " 5,\n",
              " 1,\n",
              " 299,\n",
              " 2046,\n",
              " 4,\n",
              " 2150,\n",
              " 570,\n",
              " 21,\n",
              " 39,\n",
              " 570,\n",
              " 18,\n",
              " 7658,\n",
              " 7154,\n",
              " 5010,\n",
              " 13497,\n",
              " 26,\n",
              " 2983,\n",
              " 41,\n",
              " 15,\n",
              " 3,\n",
              " 6904,\n",
              " 13497,\n",
              " 504,\n",
              " 20,\n",
              " 642,\n",
              " 2,\n",
              " 76,\n",
              " 243,\n",
              " 16,\n",
              " 9,\n",
              " 69,\n",
              " 7598,\n",
              " 651,\n",
              " 710,\n",
              " 6904,\n",
              " 109,\n",
              " 662,\n",
              " 82,\n",
              " 1208,\n",
              " 19395,\n",
              " 693,\n",
              " 5,\n",
              " 65,\n",
              " 574,\n",
              " 4,\n",
              " 920,\n",
              " 2021,\n",
              " 38,\n",
              " 1208,\n",
              " 559,\n",
              " 147,\n",
              " 3184,\n",
              " 22,\n",
              " 200,\n",
              " 426,\n",
              " 3819,\n",
              " 16,\n",
              " 48,\n",
              " 6,\n",
              " 3314,\n",
              " 805,\n",
              " 1603,\n",
              " 43,\n",
              " 22,\n",
              " 67,\n",
              " 76,\n",
              " 8,\n",
              " 1228,\n",
              " 16,\n",
              " 125,\n",
              " 4103,\n",
              " 486]"
            ]
          },
          "metadata": {},
          "execution_count": 6
        }
      ],
      "source": [
        "from keras.preprocessing.text import Tokenizer\n",
        "tokenizer = Tokenizer(num_words = 20000)\n",
        "#build the word index\n",
        "tokenizer.fit_on_texts(data_text)\n",
        "# now convert the words to integers\n",
        "data_sequences = tokenizer.texts_to_sequences(data_text)\n",
        "data_sequences[0]"
      ]
    },
    {
      "cell_type": "markdown",
      "metadata": {
        "id": "y8zymRGLrOtA"
      },
      "source": [
        "Just for grins, let's convert an IMDB review back to text\n",
        "\n"
      ]
    },
    {
      "cell_type": "code",
      "execution_count": null,
      "metadata": {
        "id": "b0SOKyfKrri7",
        "colab": {
          "base_uri": "https://localhost:8080/"
        },
        "outputId": "07d52091-ef51-4375-a58c-e693dbaf9516"
      },
      "outputs": [
        {
          "output_type": "execute_result",
          "data": {
            "text/plain": [
              "[\"a wonderful little production br br the filming technique is very unassuming very old time bbc fashion and gives a comforting and sometimes sense of realism to the entire piece br br the actors are extremely well chosen michael sheen not only has got all the but he has all the voices down pat too you can truly see the seamless editing guided by the references to williams' diary entries not only is it well worth the watching but it is a written and performed piece a masterful production about one of the great master's of comedy and his life br br the realism really comes home with the little things the fantasy of the guard which rather than use the traditional techniques remains solid then disappears it plays on our knowledge and our senses particularly with the scenes concerning orton and and the sets particularly of their flat with every surface are terribly well done\"]"
            ]
          },
          "metadata": {},
          "execution_count": 7
        }
      ],
      "source": [
        "tokenizer.sequences_to_texts([data_sequences[1]])"
      ]
    },
    {
      "cell_type": "markdown",
      "metadata": {
        "id": "xAs2Yc6HvSya"
      },
      "source": [
        "### Recap.\n",
        "We stated we wanted the vocabulary size to be 20,000. This means that if we have a sentence like *xenophobic manifestations moved online* and *xenophobic* was not among the 20,000 most frequent words in the corpus, our encoding of that sentence would skip that word. *xenophobic manifestations moved online* becomes *manifestations moved online*\n",
        "\n",
        "Now let's do a bit more preprocessing and truncate each review after 50 words (if the review is shorter than 50 words we will pad it with blank words):"
      ]
    },
    {
      "cell_type": "code",
      "execution_count": null,
      "metadata": {
        "id": "lHpnZnf-6t3w",
        "colab": {
          "base_uri": "https://localhost:8080/"
        },
        "outputId": "eb87c1aa-caea-48d4-aba9-fa1bf9985aff"
      },
      "outputs": [
        {
          "output_type": "execute_result",
          "data": {
            "text/plain": [
              "array([  504,    20,   642,     2,    76,   243,    16,     9,    69,\n",
              "        7598,   651,   710,  6904,   109,   662,    82,  1208, 19395,\n",
              "         693,     5,    65,   574,     4,   920,  2021,    38,  1208,\n",
              "         559,   147,  3184,    22,   200,   426,  3819,    16,    48,\n",
              "           6,  3314,   805,  1603,    43,    22,    67,    76,     8,\n",
              "        1228,    16,   125,  4103,   486], dtype=int32)"
            ]
          },
          "metadata": {},
          "execution_count": 8
        }
      ],
      "source": [
        "# Cut texts after this number of words \n",
        "# (among top max_features most common words)\n",
        "maxlen = 50\n",
        "\n",
        "\n",
        "from keras.utils import pad_sequences\n",
        "\n",
        "\n",
        "# This turns our lists of integers\n",
        "# into a 2D integer tensor of shape `(samples, maxlen)`\n",
        "data50 = pad_sequences(data_sequences, maxlen=maxlen)\n",
        "data50[0]"
      ]
    },
    {
      "cell_type": "markdown",
      "metadata": {
        "id": "zhLEQdtOwrOC"
      },
      "source": [
        "# Now let's divide the data into training and testing\n",
        "\n"
      ]
    },
    {
      "cell_type": "code",
      "execution_count": null,
      "metadata": {
        "id": "GeKwllN9w0dR",
        "colab": {
          "base_uri": "https://localhost:8080/"
        },
        "outputId": "dfe68e29-6f74-4ac0-a6c3-bc621f225b2c"
      },
      "outputs": [
        {
          "output_type": "execute_result",
          "data": {
            "text/plain": [
              "33553    1\n",
              "9427     1\n",
              "199      0\n",
              "12447    1\n",
              "39489    0\n",
              "        ..\n",
              "28567    0\n",
              "25079    1\n",
              "18707    1\n",
              "15200    0\n",
              "5857     1\n",
              "Name: sentiment, Length: 10000, dtype: int64"
            ]
          },
          "metadata": {},
          "execution_count": 9
        }
      ],
      "source": [
        "from sklearn.model_selection import train_test_split\n",
        "train50, test50, train_labels, test_labels = train_test_split(data50, data_label, test_size = 0.2, random_state=42)\n",
        "test_labels"
      ]
    },
    {
      "cell_type": "markdown",
      "metadata": {
        "id": "WYl2Y9WAxV94"
      },
      "source": [
        "# Time to build the model\n",
        "![](https://raw.githubusercontent.com/zacharski/ml-class/master/labs/pics/theModel.png)\n",
        "So far we have:\n",
        "\n",
        "* a 10,000 word vocabulary\n",
        "* each review is limited to 50 words\n",
        "\n",
        "And we want to create a word embedding with 50 features.\n",
        "\n",
        "(Those 50 are completely separate parameters) The 50 word limit is not related to the 50 features.)\n",
        "\n",
        "Let's create a network with an embedding layer\n"
      ]
    },
    {
      "cell_type": "code",
      "execution_count": null,
      "metadata": {
        "id": "jDdDVHVb6t3z",
        "colab": {
          "base_uri": "https://localhost:8080/"
        },
        "outputId": "921adf24-0083-4165-b71f-305c1830d9dc"
      },
      "outputs": [
        {
          "output_type": "stream",
          "name": "stdout",
          "text": [
            "Model: \"sequential\"\n",
            "_________________________________________________________________\n",
            " Layer (type)                Output Shape              Param #   \n",
            "=================================================================\n",
            " embedding_1 (Embedding)     (None, 50, 50)            1000000   \n",
            "                                                                 \n",
            " flatten (Flatten)           (None, 2500)              0         \n",
            "                                                                 \n",
            " dense (Dense)               (None, 1)                 2501      \n",
            "                                                                 \n",
            "=================================================================\n",
            "Total params: 1,002,501\n",
            "Trainable params: 1,002,501\n",
            "Non-trainable params: 0\n",
            "_________________________________________________________________\n"
          ]
        }
      ],
      "source": [
        "from keras.models import Sequential\n",
        "from keras.layers import Flatten, Dense, Embedding\n",
        "\n",
        "vocabulary_size = 20000\n",
        "embedding_size = 50\n",
        "model = Sequential()\n",
        "# We specify the maximum input length to our Embedding layer\n",
        "# so we can later flatten the embedded inputs\n",
        "model.add(Embedding(vocabulary_size, embedding_size, input_length=maxlen))\n",
        "# After the Embedding layer, \n",
        "# our activations have shape `(samples, maxlen, embedding_size)`.\n",
        "\n",
        "# We flatten the 3D tensor of embeddings \n",
        "# into a 2D tensor of shape `(samples, maxlen * embedding_size)`\n",
        "model.add(Flatten())\n",
        "\n",
        "# We add the classifier on top\n",
        "model.add(Dense(1, activation='sigmoid'))\n",
        "model.compile(optimizer='rmsprop', loss='binary_crossentropy', metrics=['acc'])\n",
        "model.summary()\n",
        "\n"
      ]
    },
    {
      "cell_type": "markdown",
      "metadata": {
        "id": "GyAB-38my7Vg"
      },
      "source": [
        "## Training"
      ]
    },
    {
      "cell_type": "code",
      "execution_count": null,
      "metadata": {
        "id": "1mIT1Lbvy9so",
        "colab": {
          "base_uri": "https://localhost:8080/"
        },
        "outputId": "49e31d6b-6e06-4afa-9aed-d7c9a4f71aa5"
      },
      "outputs": [
        {
          "output_type": "stream",
          "name": "stdout",
          "text": [
            "Epoch 1/10\n",
            "100/100 [==============================] - 4s 5ms/step - loss: 0.6440 - acc: 0.6805 - val_loss: 0.5462 - val_acc: 0.7715\n",
            "Epoch 2/10\n",
            "100/100 [==============================] - 0s 3ms/step - loss: 0.4444 - acc: 0.8192 - val_loss: 0.4132 - val_acc: 0.8188\n",
            "Epoch 3/10\n",
            "100/100 [==============================] - 0s 3ms/step - loss: 0.3350 - acc: 0.8656 - val_loss: 0.3792 - val_acc: 0.8301\n",
            "Epoch 4/10\n",
            "100/100 [==============================] - 0s 3ms/step - loss: 0.2763 - acc: 0.8924 - val_loss: 0.3709 - val_acc: 0.8329\n",
            "Epoch 5/10\n",
            "100/100 [==============================] - 0s 3ms/step - loss: 0.2310 - acc: 0.9144 - val_loss: 0.3726 - val_acc: 0.8346\n",
            "Epoch 6/10\n",
            "100/100 [==============================] - 0s 3ms/step - loss: 0.1911 - acc: 0.9342 - val_loss: 0.3792 - val_acc: 0.8310\n",
            "Epoch 7/10\n",
            "100/100 [==============================] - 0s 3ms/step - loss: 0.1549 - acc: 0.9502 - val_loss: 0.3892 - val_acc: 0.8270\n",
            "Epoch 8/10\n",
            "100/100 [==============================] - 0s 3ms/step - loss: 0.1220 - acc: 0.9663 - val_loss: 0.4016 - val_acc: 0.8250\n",
            "Epoch 9/10\n",
            "100/100 [==============================] - 0s 3ms/step - loss: 0.0927 - acc: 0.9791 - val_loss: 0.4163 - val_acc: 0.8230\n",
            "Epoch 10/10\n",
            "100/100 [==============================] - 0s 3ms/step - loss: 0.0678 - acc: 0.9881 - val_loss: 0.4330 - val_acc: 0.8189\n"
          ]
        }
      ],
      "source": [
        "history = model.fit(\n",
        "      train50, train_labels,\n",
        "      steps_per_epoch=100,\n",
        "      epochs=10,\n",
        "      validation_split=0.2,\n",
        "      validation_steps=50)"
      ]
    },
    {
      "cell_type": "markdown",
      "metadata": {
        "id": "3B1mpi9B6t31"
      },
      "source": [
        "We get to a validation accuracy of ~82%, which is pretty good considering that we only look at the first 50 words in every review. But \n",
        "note that merely flattening the embedded sequences and training a single `Dense` layer on top leads to a model that treats each word in the \n",
        "input sequence separately, without considering inter-word relationships and structure sentence (e.g. it would likely treat both _\"this movie \n",
        "is shit\"_ and _\"this movie is the shit\"_ as being negative \"reviews\"). It would be much better to add recurrent layers or 1D convolutional \n",
        "layers on top of the embedded sequences to learn features that take into account each sequence as a whole. "
      ]
    },
    {
      "cell_type": "code",
      "execution_count": null,
      "metadata": {
        "id": "a9jXqsHX2Z8E",
        "colab": {
          "base_uri": "https://localhost:8080/",
          "height": 545
        },
        "outputId": "0da948e6-6429-4933-9402-4972311acd82"
      },
      "outputs": [
        {
          "output_type": "display_data",
          "data": {
            "text/plain": [
              "<Figure size 432x288 with 1 Axes>"
            ],
            "image/png": "[encoded data removed]"
          },
          "metadata": {
            "needs_background": "light"
          }
        },
        {
          "output_type": "display_data",
          "data": {
            "text/plain": [
              "<Figure size 432x288 with 1 Axes>"
            ],
            "image/png": "[encoded data removed]"
          },
          "metadata": {
            "needs_background": "light"
          }
        }
      ],
      "source": [
        "import matplotlib.pyplot as plt\n",
        "\n",
        "acc = history.history['acc']\n",
        "val_acc = history.history['val_acc']\n",
        "loss = history.history['loss']\n",
        "val_loss = history.history['val_loss']\n",
        "\n",
        "epochs = range(1, len(acc) + 1)\n",
        "\n",
        "plt.plot(epochs, acc, 'bo', label='Training acc')\n",
        "plt.plot(epochs, val_acc, 'b', label='Validation acc')\n",
        "plt.title('Training and validation accuracy')\n",
        "plt.legend()\n",
        "\n",
        "plt.figure()\n",
        "\n",
        "plt.plot(epochs, loss, 'bo', label='Training loss')\n",
        "plt.plot(epochs, val_loss, 'b', label='Validation loss')\n",
        "plt.title('Training and validation loss')\n",
        "plt.legend()\n",
        "\n",
        "plt.show()"
      ]
    },
    {
      "cell_type": "markdown",
      "metadata": {
        "id": "DTCuQtE22k3l"
      },
      "source": [
        "Arghh. These graphs look like overfitting. Let's try on the test data:\n"
      ]
    },
    {
      "cell_type": "code",
      "execution_count": null,
      "metadata": {
        "id": "6DT2t_RM2zEc",
        "colab": {
          "base_uri": "https://localhost:8080/"
        },
        "outputId": "b52480fd-5c01-4552-b0d0-cf176d59f2a7"
      },
      "outputs": [
        {
          "output_type": "stream",
          "name": "stdout",
          "text": [
            "313/313 [==============================] - 1s 2ms/step - loss: 0.4211 - acc: 0.8261\n",
            "Accuracy 0.826100    Loss: 0.421131\n"
          ]
        }
      ],
      "source": [
        "\n",
        "test_loss, test_acc, = model.evaluate(test50, test_labels)\n",
        "print(\"Accuracy %f    Loss: %f\" % (test_acc, test_loss))"
      ]
    },
    {
      "cell_type": "markdown",
      "metadata": {
        "id": "mOrcukRO6t31"
      },
      "source": [
        "## Using pre-trained word embeddings\n",
        "![](https://raw.githubusercontent.com/zacharski/ml-class/master/labs/pics/pretrained.png)\n",
        "\n",
        "Sometimes, we have so little training data available that we could never use the data alone to learn an appropriate task-specific embedding \n",
        "of your vocabulary. What to do then?\n",
        "\n",
        "Instead of learning word embeddings jointly with the problem we want to solve, we could be loading embedding vectors from a pre-computed \n",
        "embedding space known to be highly structured and to exhibit useful properties -- that captures generic aspects of language structure. The \n",
        "rationale behind using pre-trained word embeddings in natural language processing is very much the same as for using pre-trained convnets \n",
        "in image classification: we don't have enough data available to learn truly powerful features on our own, but we expect the features that \n",
        "we need to be fairly generic, i.e. common visual features or semantic features. In this case it makes sense to reuse features learned on a \n",
        "different problem.\n",
        "\n",
        "Such word embeddings are generally computed using word occurrence statistics (observations about what words co-occur in sentences or \n",
        "documents), using a variety of techniques, some involving neural networks, others not. The idea of a dense, low-dimensional embedding space \n",
        "for words, computed in an unsupervised way, was initially explored by Bengio et al. in the early 2000s, but it only started really taking \n",
        "off in research and industry applications after the release of one of the most famous and successful word embedding scheme: the Word2Vec \n",
        "algorithm, developed by Mikolov at Google in 2013. Word2Vec dimensions capture specific semantic properties, e.g. gender.\n",
        "\n",
        "There are various pre-computed databases of word embeddings that can download and start using in a Keras `Embedding` layer. Word2Vec is one \n",
        "of them. Another popular one is called \"GloVe\", developed by Stanford researchers in 2014. It stands for \"Global Vectors for Word \n",
        "Representation\", and it is an embedding technique based on factorizing a matrix of word co-occurrence statistics. Its developers have made \n",
        "available pre-computed embeddings for millions of English tokens, obtained from Wikipedia data or from Common Crawl data.\n",
        "\n",
        "Finally, there is FastText, also developed by Mikolov at Facebook. While state of the art, it is also the most resource intensive scheme.\n",
        "\n",
        "Let's take a look at how you can get started using GloVe embeddings in a Keras model. The same method will of course be valid for Word2Vec \n",
        "embeddings or any other word embedding database that you can download. "
      ]
    },
    {
      "cell_type": "markdown",
      "metadata": {
        "id": "QpnanKp26t32"
      },
      "source": [
        "## Summary so far,\n",
        "\n",
        "We...\n",
        "\n",
        "1. downloaded the text data which was in the form of a csv file\n",
        "2. loaded the file into pandas.\n",
        "3. divided the csv into the text columns and the labels columns\n",
        "4. tokenized the text into sequences of integers\n",
        "5. limited each text to 50 words\n",
        "5. divided the sequences and labels into training and test data\n",
        "\n",
        "So, for example, the first entry of our data was\n"
      ]
    },
    {
      "cell_type": "code",
      "execution_count": null,
      "metadata": {
        "id": "uqTEl1ys6t33",
        "colab": {
          "base_uri": "https://localhost:8080/"
        },
        "outputId": "88e9a14f-d7e5-49f6-fc60-8c1026a08cc2"
      },
      "outputs": [
        {
          "output_type": "execute_result",
          "data": {
            "text/plain": [
              "array([    3,   111,    12,  1569,   472,    75,   221,     5,   327,\n",
              "           2,  3498,    35,    23,    51,    71,  1890,  4808,    14,\n",
              "           9,  1388,    11,    19,     6,     3,  3574,  2064,    16,\n",
              "          61,     1,  2414,   469,   533,     2,     3,   171,  2643,\n",
              "       19293,  2811,  1776,     5,   586,     9,    36,     1,  3933,\n",
              "         454,   156,   206,   352,  3944], dtype=int32)"
            ]
          },
          "metadata": {},
          "execution_count": 14
        }
      ],
      "source": [
        "train50[0]"
      ]
    },
    {
      "cell_type": "code",
      "execution_count": null,
      "metadata": {
        "id": "D3rxV_MqLQhw"
      },
      "outputs": [],
      "source": []
    },
    {
      "cell_type": "markdown",
      "metadata": {
        "id": "g7GNizUp6t38"
      },
      "source": [
        "### Download the GloVe word embeddings\n",
        "\n",
        "\n",
        "Head to https://nlp.stanford.edu/projects/glove/ (where you can learn more about the GloVe algorithm), and download the pre-computed \n",
        "embeddings from 2014 English Wikipedia. It's a 822MB zip file named `glove.6B.zip`, containing 100-dimensional embedding vectors for \n",
        "400,000 words (or non-word tokens). The downloading will take a bit of time, which might be an understatement. \n",
        "\n",
        "For convenience, I have made available a zip of the exact file we will need at http://zacharski.org/files/courses/cs419/glove.6B.100d.zip This is only 134MB\n",
        "\n",
        "\n",
        "Next, un-zip it."
      ]
    },
    {
      "cell_type": "code",
      "execution_count": null,
      "metadata": {
        "id": "GN0y6D-PBOcA",
        "colab": {
          "base_uri": "https://localhost:8080/"
        },
        "outputId": "518d2500-b9b7-4722-bf83-e81e20a76202"
      },
      "outputs": [
        {
          "output_type": "stream",
          "name": "stdout",
          "text": [
            "  % Total    % Received % Xferd  Average Speed   Time    Time     Time  Current\n",
            "                                 Dload  Upload   Total   Spent    Left  Speed\n",
            "100  128M  100  128M    0     0  31.5M      0  0:00:04  0:00:04 --:--:-- 31.5M\n",
            "glove.6B.100d.zip  imdb.zip  sample_data\n"
          ]
        }
      ],
      "source": [
        "# TODO\n",
        "!curl http://zacharski.org/files/courses/cs419/glove.6B.100d.zip > glove.6B.100d.zip\n",
        "!ls"
      ]
    },
    {
      "cell_type": "code",
      "execution_count": null,
      "metadata": {
        "id": "nphXkQhgC_EJ",
        "colab": {
          "base_uri": "https://localhost:8080/"
        },
        "outputId": "4f3afda0-8bd2-45be-cece-d3015f1fa445"
      },
      "outputs": [
        {
          "output_type": "stream",
          "name": "stdout",
          "text": [
            "Archive:  glove.6B.100d.zip\n",
            "  inflating: glove.6B.100d.txt       \n"
          ]
        }
      ],
      "source": [
        "#TODO\n",
        "!unzip glove.6B.100d.zip"
      ]
    },
    {
      "cell_type": "markdown",
      "metadata": {
        "id": "k6hBJa5p6t39"
      },
      "source": [
        "### Pre-process the embeddings\n",
        "\n",
        "\n",
        "Let's parse the un-zipped file (it's a `txt` file) to build an index mapping words (as strings) to their vector representation (as number \n",
        "vectors)."
      ]
    },
    {
      "cell_type": "code",
      "execution_count": null,
      "metadata": {
        "id": "zboejuFj6t39",
        "colab": {
          "base_uri": "https://localhost:8080/"
        },
        "outputId": "bdeac958-1f8c-4ab8-8077-3fac6d80fe1c"
      },
      "outputs": [
        {
          "output_type": "stream",
          "name": "stdout",
          "text": [
            "Found 400000 word vectors.\n"
          ]
        }
      ],
      "source": [
        "import numpy as np\n",
        "\n",
        "embeddings_index = {}\n",
        "f = open('glove.6B.100d.txt')\n",
        "for line in f:\n",
        "    values = line.split()\n",
        "    word = values[0]\n",
        "    coefs = np.asarray(values[1:], dtype='float32')\n",
        "    embeddings_index[word] = coefs\n",
        "f.close()\n",
        "\n",
        "print('Found %s word vectors.' % len(embeddings_index))"
      ]
    },
    {
      "cell_type": "markdown",
      "metadata": {
        "id": "QBlb3xFu6t3_"
      },
      "source": [
        "So embeddings_index is a Python dictionary whose keys are words and values are the 100 length vector. Let's get the vector for the word *dog*:\n",
        "\n"
      ]
    },
    {
      "cell_type": "code",
      "execution_count": null,
      "metadata": {
        "id": "ORc86o_40bt3",
        "colab": {
          "base_uri": "https://localhost:8080/"
        },
        "outputId": "00ba6b44-9405-4e1c-db0d-6942331fee50"
      },
      "outputs": [
        {
          "output_type": "execute_result",
          "data": {
            "text/plain": [
              "array([ 0.30817  ,  0.30938  ,  0.52803  , -0.92543  , -0.73671  ,\n",
              "        0.63475  ,  0.44197  ,  0.10262  , -0.09142  , -0.56607  ,\n",
              "       -0.5327   ,  0.2013   ,  0.7704   , -0.13983  ,  0.13727  ,\n",
              "        1.1128   ,  0.89301  , -0.17869  , -0.0019722,  0.57289  ,\n",
              "        0.59479  ,  0.50428  , -0.28991  , -1.3491   ,  0.42756  ,\n",
              "        1.2748   , -1.1613   , -0.41084  ,  0.042804 ,  0.54866  ,\n",
              "        0.18897  ,  0.3759   ,  0.58035  ,  0.66975  ,  0.81156  ,\n",
              "        0.93864  , -0.51005  , -0.070079 ,  0.82819  , -0.35346  ,\n",
              "        0.21086  , -0.24412  , -0.16554  , -0.78358  , -0.48482  ,\n",
              "        0.38968  , -0.86356  , -0.016391 ,  0.31984  , -0.49246  ,\n",
              "       -0.069363 ,  0.018869 , -0.098286 ,  1.3126   , -0.12116  ,\n",
              "       -1.2399   , -0.091429 ,  0.35294  ,  0.64645  ,  0.089642 ,\n",
              "        0.70294  ,  1.1244   ,  0.38639  ,  0.52084  ,  0.98787  ,\n",
              "        0.79952  , -0.34625  ,  0.14095  ,  0.80167  ,  0.20987  ,\n",
              "       -0.86007  , -0.15308  ,  0.074523 ,  0.40816  ,  0.019208 ,\n",
              "        0.51587  , -0.34428  , -0.24525  , -0.77984  ,  0.27425  ,\n",
              "        0.22418  ,  0.20164  ,  0.017431 , -0.014697 , -1.0235   ,\n",
              "       -0.39695  , -0.0056188,  0.30569  ,  0.31748  ,  0.021404 ,\n",
              "        0.11837  , -0.11319  ,  0.42456  ,  0.53405  , -0.16717  ,\n",
              "       -0.27185  , -0.6255   ,  0.12883  ,  0.62529  , -0.52086  ],\n",
              "      dtype=float32)"
            ]
          },
          "metadata": {},
          "execution_count": 18
        }
      ],
      "source": [
        "embeddings_index['dog']"
      ]
    },
    {
      "cell_type": "markdown",
      "metadata": {
        "id": "5MSSrCeZ0cSn"
      },
      "source": [
        "So this embedding file has a vocabulary size of 400,000 words and each word is associated with a 100 element vector. Let's not use all 400,000, but restrict our vocabulary to our original 20,000 (`max_words`).\n",
        "\n",
        "Now let's build an embedding matrix that we will be able to load into an `Embedding` layer. It must be a matrix of shape `(max_words, \n",
        "embedding_dim)`, where each entry `i` contains the `embedding_dim`-dimensional vector for the word of index `i` in our reference word index \n",
        "(built during tokenization). Note that the index `0` is not supposed to stand for any word or token -- it's a placeholder."
      ]
    },
    {
      "cell_type": "code",
      "execution_count": null,
      "metadata": {
        "id": "j4djtC3A6t3_"
      },
      "outputs": [],
      "source": [
        "embedding_dim = 100\n",
        "max_words = 20000\n",
        "word_index = tokenizer.word_index\n",
        "\n",
        "embedding_matrix = np.zeros((max_words, embedding_dim))\n",
        "for word, i in word_index.items():\n",
        "    embedding_vector = embeddings_index.get(word)\n",
        "    if i < max_words:\n",
        "        if embedding_vector is not None:\n",
        "            # Words not found in embedding index will be all-zeros.\n",
        "            embedding_matrix[i] = embedding_vector"
      ]
    },
    {
      "cell_type": "markdown",
      "metadata": {
        "id": "0EEPKbcd6t4C"
      },
      "source": [
        "### Define a model\n",
        "\n",
        "We will be using the same model architecture as before:"
      ]
    },
    {
      "cell_type": "code",
      "execution_count": null,
      "metadata": {
        "id": "NmRvo6sb6t4C",
        "colab": {
          "base_uri": "https://localhost:8080/"
        },
        "outputId": "0b50bc7c-0eb8-4424-8289-07e32625d0df"
      },
      "outputs": [
        {
          "output_type": "stream",
          "name": "stdout",
          "text": [
            "Model: \"sequential_1\"\n",
            "_________________________________________________________________\n",
            " Layer (type)                Output Shape              Param #   \n",
            "=================================================================\n",
            " embedding_2 (Embedding)     (None, 50, 100)           2000000   \n",
            "                                                                 \n",
            " flatten_1 (Flatten)         (None, 5000)              0         \n",
            "                                                                 \n",
            " dense_1 (Dense)             (None, 32)                160032    \n",
            "                                                                 \n",
            " dense_2 (Dense)             (None, 1)                 33        \n",
            "                                                                 \n",
            "=================================================================\n",
            "Total params: 2,160,065\n",
            "Trainable params: 2,160,065\n",
            "Non-trainable params: 0\n",
            "_________________________________________________________________\n"
          ]
        }
      ],
      "source": [
        "from keras.models import Sequential\n",
        "from keras.layers import Embedding, Flatten, Dense\n",
        "\n",
        "model = Sequential()\n",
        "model.add(Embedding(max_words, embedding_dim, input_length=maxlen))\n",
        "model.add(Flatten())\n",
        "model.add(Dense(32, activation='relu'))\n",
        "model.add(Dense(1, activation='sigmoid'))\n",
        "model.summary()"
      ]
    },
    {
      "cell_type": "markdown",
      "metadata": {
        "id": "lSVZCgJy6t4F"
      },
      "source": [
        "### Load the GloVe embeddings in the model\n",
        "\n",
        "\n",
        "The `Embedding` layer has a single weight matrix: a 2D float matrix where each entry `i` is the word vector meant to be associated with \n",
        "index `i`. Simple enough. Let's just load the GloVe matrix we prepared into our `Embedding` layer, the first layer in our model:"
      ]
    },
    {
      "cell_type": "code",
      "execution_count": null,
      "metadata": {
        "id": "7GUR2IMr6t4G"
      },
      "outputs": [],
      "source": [
        "model.layers[0].set_weights([embedding_matrix])\n",
        "model.layers[0].trainable = False"
      ]
    },
    {
      "cell_type": "markdown",
      "metadata": {
        "id": "yyiOZNs76t4J"
      },
      "source": [
        "\n",
        "Additionally, we freeze the embedding layer (we set its `trainable` attribute to `False`), following the same rationale as what you are \n",
        "already familiar with in the context of pre-trained convnet features: when parts of a model are pre-trained (like our `Embedding` layer), \n",
        "and parts are randomly initialized (like our classifier), the pre-trained parts should not be updated during training to avoid forgetting \n",
        "what they already know. The large gradient update triggered by the randomly initialized layers would be very disruptive to the already \n",
        "learned features."
      ]
    },
    {
      "cell_type": "markdown",
      "metadata": {
        "id": "taMHdF-a6t4J"
      },
      "source": [
        "### Train and evaluate\n",
        "\n",
        "Let's compile our model and train it:"
      ]
    },
    {
      "cell_type": "code",
      "execution_count": null,
      "metadata": {
        "id": "T-mHYyp86t4J",
        "colab": {
          "base_uri": "https://localhost:8080/"
        },
        "outputId": "bd0255d3-d9a9-46e0-b3f8-1db0f38d3670"
      },
      "outputs": [
        {
          "output_type": "stream",
          "name": "stdout",
          "text": [
            "Epoch 1/10\n",
            "1000/1000 [==============================] - 3s 2ms/step - loss: 0.6148 - acc: 0.6587 - val_loss: 0.5593 - val_acc: 0.7106\n",
            "Epoch 2/10\n",
            "1000/1000 [==============================] - 2s 2ms/step - loss: 0.5435 - acc: 0.7243 - val_loss: 0.5485 - val_acc: 0.7206\n",
            "Epoch 3/10\n",
            "1000/1000 [==============================] - 2s 2ms/step - loss: 0.5170 - acc: 0.7413 - val_loss: 0.5586 - val_acc: 0.7119\n",
            "Epoch 4/10\n",
            "1000/1000 [==============================] - 2s 2ms/step - loss: 0.4899 - acc: 0.7591 - val_loss: 0.5656 - val_acc: 0.7144\n",
            "Epoch 5/10\n",
            "1000/1000 [==============================] - 2s 2ms/step - loss: 0.4566 - acc: 0.7798 - val_loss: 0.5687 - val_acc: 0.7181\n",
            "Epoch 6/10\n",
            "1000/1000 [==============================] - 2s 2ms/step - loss: 0.4056 - acc: 0.8125 - val_loss: 0.6405 - val_acc: 0.7113\n",
            "Epoch 7/10\n",
            "1000/1000 [==============================] - 2s 2ms/step - loss: 0.3502 - acc: 0.8394 - val_loss: 0.6870 - val_acc: 0.6894\n",
            "Epoch 8/10\n",
            "1000/1000 [==============================] - 2s 2ms/step - loss: 0.2895 - acc: 0.8729 - val_loss: 0.7342 - val_acc: 0.6944\n",
            "Epoch 9/10\n",
            "1000/1000 [==============================] - 2s 2ms/step - loss: 0.2303 - acc: 0.9028 - val_loss: 0.7785 - val_acc: 0.7094\n",
            "Epoch 10/10\n",
            "1000/1000 [==============================] - 2s 2ms/step - loss: 0.1807 - acc: 0.9246 - val_loss: 0.9291 - val_acc: 0.6775\n"
          ]
        }
      ],
      "source": [
        "model.compile(optimizer='rmsprop',\n",
        "              loss='binary_crossentropy',\n",
        "              metrics=['acc'])\n",
        "history = model.fit(train50, train_labels,\n",
        "                    epochs=10,\n",
        "                    batch_size=32,\n",
        "                     validation_split=0.2,\n",
        "      validation_steps=50)\n",
        "model.save_weights('pre_trained_glove_model.h5')"
      ]
    },
    {
      "cell_type": "markdown",
      "metadata": {
        "id": "212yP1DI6t4M"
      },
      "source": [
        "Let's plot its performance over time:"
      ]
    },
    {
      "cell_type": "code",
      "execution_count": null,
      "metadata": {
        "id": "w4Eince06t4M",
        "colab": {
          "base_uri": "https://localhost:8080/",
          "height": 545
        },
        "outputId": "c7fa5566-19a9-4521-8231-d2eef8361315"
      },
      "outputs": [
        {
          "output_type": "display_data",
          "data": {
            "text/plain": [
              "<Figure size 432x288 with 1 Axes>"
            ],
            "image/png": "[encoded data removed]"
          },
          "metadata": {
            "needs_background": "light"
          }
        },
        {
          "output_type": "display_data",
          "data": {
            "text/plain": [
              "<Figure size 432x288 with 1 Axes>"
            ],
            "image/png": "[encoded data removed]"
          },
          "metadata": {
            "needs_background": "light"
          }
        }
      ],
      "source": [
        "import matplotlib.pyplot as plt\n",
        "\n",
        "acc = history.history['acc']\n",
        "val_acc = history.history['val_acc']\n",
        "loss = history.history['loss']\n",
        "val_loss = history.history['val_loss']\n",
        "\n",
        "epochs = range(1, len(acc) + 1)\n",
        "\n",
        "plt.plot(epochs, acc, 'bo', label='Training acc')\n",
        "plt.plot(epochs, val_acc, 'b', label='Validation acc')\n",
        "plt.title('Training and validation accuracy')\n",
        "plt.legend()\n",
        "\n",
        "plt.figure()\n",
        "\n",
        "plt.plot(epochs, loss, 'bo', label='Training loss')\n",
        "plt.plot(epochs, val_loss, 'b', label='Validation loss')\n",
        "plt.title('Training and validation loss')\n",
        "plt.legend()\n",
        "\n",
        "plt.show()"
      ]
    },
    {
      "cell_type": "markdown",
      "metadata": {
        "id": "pSUsNaK9a-pn"
      },
      "source": [
        "The model quickly starts overfitting, unsurprisingly given the small number of training samples. Validation accuracy has high variance for \n",
        "the same reason, but seems to reach high 50s.\n",
        "\n",
        "Let's check the accuracy and loss on the test data:"
      ]
    },
    {
      "cell_type": "code",
      "execution_count": null,
      "metadata": {
        "id": "JxLT8H3Ca-3q",
        "colab": {
          "base_uri": "https://localhost:8080/"
        },
        "outputId": "ad734175-3740-4d66-b7cb-06c251ab724d"
      },
      "outputs": [
        {
          "output_type": "stream",
          "name": "stdout",
          "text": [
            "313/313 [==============================] - 1s 2ms/step - loss: 0.9698 - acc: 0.6861\n",
            "Accuracy 0.686100    Loss: 0.969805\n"
          ]
        }
      ],
      "source": [
        "test_loss, test_acc, = model.evaluate(test50, test_labels)\n",
        "print(\"Accuracy %f    Loss: %f\" % (test_acc, test_loss))"
      ]
    },
    {
      "cell_type": "markdown",
      "metadata": {
        "id": "ec7-y6ZTbgtZ"
      },
      "source": [
        "### A one-dimensional CNN\n",
        "\n",
        "Let's try a slightly more complex model using convolutional layers.\n",
        "\n"
      ]
    },
    {
      "cell_type": "code",
      "execution_count": null,
      "metadata": {
        "id": "ZDq47rpDbuDl",
        "colab": {
          "base_uri": "https://localhost:8080/"
        },
        "outputId": "fede543b-111a-447b-f118-e5dec085a69d"
      },
      "outputs": [
        {
          "output_type": "stream",
          "name": "stdout",
          "text": [
            "Model: \"sequential_2\"\n",
            "_________________________________________________________________\n",
            " Layer (type)                Output Shape              Param #   \n",
            "=================================================================\n",
            " embedding_3 (Embedding)     (None, 50, 100)           2000000   \n",
            "                                                                 \n",
            " conv1d (Conv1D)             (None, 48, 64)            19264     \n",
            "                                                                 \n",
            " conv1d_1 (Conv1D)           (None, 46, 64)            12352     \n",
            "                                                                 \n",
            " dropout (Dropout)           (None, 46, 64)            0         \n",
            "                                                                 \n",
            " max_pooling1d (MaxPooling1D  (None, 23, 64)           0         \n",
            " )                                                               \n",
            "                                                                 \n",
            " flatten_2 (Flatten)         (None, 1472)              0         \n",
            "                                                                 \n",
            " dense_3 (Dense)             (None, 32)                47136     \n",
            "                                                                 \n",
            " dense_4 (Dense)             (None, 1)                 33        \n",
            "                                                                 \n",
            "=================================================================\n",
            "Total params: 2,078,785\n",
            "Trainable params: 2,078,785\n",
            "Non-trainable params: 0\n",
            "_________________________________________________________________\n"
          ]
        }
      ],
      "source": [
        "from keras import layers\n",
        "\n",
        "cnn_model = Sequential()\n",
        "cnn_model.add(Embedding(max_words, embedding_dim, input_length=maxlen))\n",
        "cnn_model.add(layers.Conv1D(filters=64, kernel_size=3, activation='relu'))\n",
        "cnn_model.add(layers.Conv1D(filters=64, kernel_size=3, activation='relu'))\n",
        "cnn_model.add(layers.Dropout(0.5))\n",
        "cnn_model.add(layers.MaxPooling1D(pool_size=2))\n",
        "cnn_model.add(Flatten())\n",
        "cnn_model.add(Dense(32, activation='relu'))\n",
        "cnn_model.add(Dense(1, activation='sigmoid'))\n",
        "cnn_model.summary()"
      ]
    },
    {
      "cell_type": "code",
      "execution_count": null,
      "metadata": {
        "id": "u0CHffQ1dPVC"
      },
      "outputs": [],
      "source": [
        "cnn_model.layers[0].set_weights([embedding_matrix])\n",
        "cnn_model.layers[0].trainable = False"
      ]
    },
    {
      "cell_type": "code",
      "execution_count": null,
      "metadata": {
        "id": "65Fn8YhWdQtP",
        "colab": {
          "base_uri": "https://localhost:8080/"
        },
        "outputId": "87fd949c-1300-4986-805b-88dd610084e2"
      },
      "outputs": [
        {
          "output_type": "stream",
          "name": "stdout",
          "text": [
            "Epoch 1/10\n",
            "1000/1000 [==============================] - 10s 3ms/step - loss: 0.5785 - acc: 0.6912 - val_loss: 0.5226 - val_acc: 0.7331\n",
            "Epoch 2/10\n",
            "1000/1000 [==============================] - 3s 3ms/step - loss: 0.4809 - acc: 0.7671 - val_loss: 0.4568 - val_acc: 0.7844\n",
            "Epoch 3/10\n",
            "1000/1000 [==============================] - 3s 3ms/step - loss: 0.4393 - acc: 0.7931 - val_loss: 0.4804 - val_acc: 0.7594\n",
            "Epoch 4/10\n",
            "1000/1000 [==============================] - 3s 3ms/step - loss: 0.4147 - acc: 0.8076 - val_loss: 0.4255 - val_acc: 0.7987\n",
            "Epoch 5/10\n",
            "1000/1000 [==============================] - 3s 3ms/step - loss: 0.3902 - acc: 0.8201 - val_loss: 0.4291 - val_acc: 0.8000\n",
            "Epoch 6/10\n",
            "1000/1000 [==============================] - 3s 3ms/step - loss: 0.3723 - acc: 0.8312 - val_loss: 0.4405 - val_acc: 0.8087\n",
            "Epoch 7/10\n",
            "1000/1000 [==============================] - 3s 3ms/step - loss: 0.3546 - acc: 0.8406 - val_loss: 0.4644 - val_acc: 0.7862\n",
            "Epoch 8/10\n",
            "1000/1000 [==============================] - 3s 3ms/step - loss: 0.3404 - acc: 0.8475 - val_loss: 0.4428 - val_acc: 0.8019\n",
            "Epoch 9/10\n",
            "1000/1000 [==============================] - 3s 3ms/step - loss: 0.3240 - acc: 0.8564 - val_loss: 0.4181 - val_acc: 0.8056\n",
            "Epoch 10/10\n",
            "1000/1000 [==============================] - 3s 3ms/step - loss: 0.3125 - acc: 0.8619 - val_loss: 0.4408 - val_acc: 0.8062\n"
          ]
        }
      ],
      "source": [
        "cnn_model.compile(optimizer='rmsprop',\n",
        "              loss='binary_crossentropy',\n",
        "              metrics=['acc'])\n",
        "history = cnn_model.fit(train50, train_labels,\n",
        "                    epochs=10,\n",
        "                    batch_size=32,\n",
        "                     validation_split=0.2,\n",
        "      validation_steps=50)\n"
      ]
    },
    {
      "cell_type": "code",
      "execution_count": null,
      "metadata": {
        "id": "hM-GdMKqeCrK",
        "colab": {
          "base_uri": "https://localhost:8080/"
        },
        "outputId": "ab8f8c9e-1b79-400d-e10a-6ae165d12386"
      },
      "outputs": [
        {
          "output_type": "stream",
          "name": "stdout",
          "text": [
            "313/313 [==============================] - 1s 2ms/step - loss: 0.4123 - acc: 0.8157\n",
            "Accuracy 0.815700    Loss: 0.412278\n"
          ]
        }
      ],
      "source": [
        "test_loss, test_acc, = cnn_model.evaluate(test50, test_labels)\n",
        "print(\"Accuracy %f    Loss: %f\" % (test_acc, test_loss))"
      ]
    },
    {
      "cell_type": "markdown",
      "metadata": {
        "id": "4K0Ed_X7eSec"
      },
      "source": [
        "This is better than our first attempt at using pre-trained embeddings but not as good as when we learned the embeddings on our own."
      ]
    },
    {
      "cell_type": "markdown",
      "metadata": {
        "id": "ZB79P4nm6t4R"
      },
      "source": [
        "\n",
        "\n",
        "\n",
        "## Let's Reflect\n",
        "\n",
        "### Experiment 1\n",
        "We  trained the model without loading the pre-trained word embeddings and without freezing the embedding layer. In that \n",
        "case, we would be learning a task-specific embedding of our input tokens, which is generally more powerful than pre-trained word embeddings\n",
        "when lots of data is available. \n",
        "\n",
        "### Experiment 2\n",
        "However, we used a pre-existing word-embedding. This is especially useful when we have a limited amount of training data.\n",
        "\n",
        "\n",
        "\n",
        "![](https://raw.githubusercontent.com/zacharski/datamining-guide/master/labs/pics/torchdivide.png)\n",
        "\n",
        "## <font color='#EE4C2C'>You Try Experiment 3</font> \n",
        "WLet's try a new approach. Suppose we loaded the GloVe pre-trained word embeddings but this time didn't freeeze the layer, meaning it would continue to refine the embeddings using our training data. How does that do?"
      ]
    },
    {
      "cell_type": "code",
      "execution_count": null,
      "metadata": {
        "id": "UxHX4E_A6t4S",
        "colab": {
          "base_uri": "https://localhost:8080/"
        },
        "outputId": "c9d548fe-ff50-4130-b829-a8f374ae7cd7"
      },
      "outputs": [
        {
          "output_type": "stream",
          "name": "stdout",
          "text": [
            "Model: \"sequential_3\"\n",
            "_________________________________________________________________\n",
            " Layer (type)                Output Shape              Param #   \n",
            "=================================================================\n",
            " embedding_4 (Embedding)     (None, 50, 100)           2000000   \n",
            "                                                                 \n",
            " flatten_3 (Flatten)         (None, 5000)              0         \n",
            "                                                                 \n",
            " dense_5 (Dense)             (None, 32)                160032    \n",
            "                                                                 \n",
            " dense_6 (Dense)             (None, 1)                 33        \n",
            "                                                                 \n",
            "=================================================================\n",
            "Total params: 2,160,065\n",
            "Trainable params: 2,160,065\n",
            "Non-trainable params: 0\n",
            "_________________________________________________________________\n"
          ]
        }
      ],
      "source": [
        "model_3 = Sequential()\n",
        "model_3.add(Embedding(max_words, embedding_dim, input_length=maxlen))\n",
        "model_3.add(Flatten())\n",
        "model_3.add(Dense(32, activation='relu'))\n",
        "model_3.add(Dense(1, activation='sigmoid'))\n",
        "model_3.summary()"
      ]
    },
    {
      "cell_type": "code",
      "execution_count": null,
      "metadata": {
        "id": "gJGU2CPq6t4U"
      },
      "outputs": [],
      "source": [
        "model_3.layers[0].set_weights([embedding_matrix])\n",
        "model_3.layers[0].trainable = True"
      ]
    },
    {
      "cell_type": "code",
      "execution_count": null,
      "metadata": {
        "id": "rE3fGB6Herue",
        "colab": {
          "base_uri": "https://localhost:8080/"
        },
        "outputId": "10a14dbb-58f9-4b06-deb2-050e343d8051"
      },
      "outputs": [
        {
          "output_type": "stream",
          "name": "stdout",
          "text": [
            "Epoch 1/10\n",
            "1000/1000 [==============================] - 3s 3ms/step - loss: 0.5562 - acc: 0.7053 - val_loss: 0.4573 - val_acc: 0.7862\n",
            "Epoch 2/10\n",
            "1000/1000 [==============================] - 3s 3ms/step - loss: 0.3889 - acc: 0.8259 - val_loss: 0.4155 - val_acc: 0.8125\n",
            "Epoch 3/10\n",
            "1000/1000 [==============================] - 3s 3ms/step - loss: 0.3155 - acc: 0.8647 - val_loss: 0.4188 - val_acc: 0.8263\n",
            "Epoch 4/10\n",
            "1000/1000 [==============================] - 3s 3ms/step - loss: 0.2505 - acc: 0.8964 - val_loss: 0.5011 - val_acc: 0.8025\n",
            "Epoch 5/10\n",
            "1000/1000 [==============================] - 3s 3ms/step - loss: 0.1779 - acc: 0.9298 - val_loss: 0.5638 - val_acc: 0.8087\n",
            "Epoch 6/10\n",
            "1000/1000 [==============================] - 3s 3ms/step - loss: 0.1119 - acc: 0.9572 - val_loss: 0.6395 - val_acc: 0.7931\n",
            "Epoch 7/10\n",
            "1000/1000 [==============================] - 3s 3ms/step - loss: 0.0589 - acc: 0.9796 - val_loss: 0.8735 - val_acc: 0.7931\n",
            "Epoch 8/10\n",
            "1000/1000 [==============================] - 3s 3ms/step - loss: 0.0276 - acc: 0.9910 - val_loss: 1.1315 - val_acc: 0.7831\n",
            "Epoch 9/10\n",
            "1000/1000 [==============================] - 3s 3ms/step - loss: 0.0111 - acc: 0.9963 - val_loss: 1.3353 - val_acc: 0.7812\n",
            "Epoch 10/10\n",
            "1000/1000 [==============================] - 3s 3ms/step - loss: 0.0049 - acc: 0.9984 - val_loss: 1.6661 - val_acc: 0.7781\n"
          ]
        }
      ],
      "source": [
        "model_3.compile(optimizer='rmsprop',\n",
        "              loss='binary_crossentropy',\n",
        "              metrics=['acc'])\n",
        "history = model_3.fit(train50, train_labels,\n",
        "                    epochs=10,\n",
        "                    batch_size=32,\n",
        "                     validation_split=0.2,\n",
        "      validation_steps=50)"
      ]
    },
    {
      "cell_type": "code",
      "execution_count": null,
      "metadata": {
        "id": "Lnz4cX7cfSU5",
        "colab": {
          "base_uri": "https://localhost:8080/"
        },
        "outputId": "4c02a87e-b970-4324-c5b0-1a89bf083854"
      },
      "outputs": [
        {
          "output_type": "stream",
          "name": "stdout",
          "text": [
            "313/313 [==============================] - 1s 2ms/step - loss: 1.6070 - acc: 0.7892\n",
            "Accuracy 0.789200    Loss: 1.606977\n"
          ]
        }
      ],
      "source": [
        "test_loss, test_acc, = model_3.evaluate(test50, test_labels)\n",
        "print(\"Accuracy %f    Loss: %f\" % (test_acc, test_loss))"
      ]
    },
    {
      "cell_type": "markdown",
      "metadata": {
        "id": "3xN-GWKg6t4W"
      },
      "source": [
        "![](https://raw.githubusercontent.com/zacharski/datamining-guide/master/labs/pics/torchdivide.png)\n",
        "# <font color='#EE4C2C'>. You try - Climate Change Tweets</font> \n",
        "\n",
        "\n",
        "![](https://raw.githubusercontent.com/zacharski/ml-class/master/labs/pics/climateChange2.png)\n",
        "\n",
        "We are going to investigate the sentiment of tweets from the Twitter Climate Change Sentiment Dataset compiled by Edward Qian. The dataset consists of 43,943 tweets. Instead of a binary label (a positive sentiment on climate change or a negative, there are four possible labels:\n",
        "\n",
        "Label | Description\n",
        ":--- | :---- \n",
        "News | the tweet links to factual news about climate change\n",
        "Pro | the tweet supports the belief of man-made climate change\n",
        "Neutral |  the tweet neither supports nor refutes the belief of man-made climate change\n",
        "Anti | the tweet does not believe in man-made climate change\n",
        "\n",
        "\n",
        "![](https://raw.githubusercontent.com/zacharski/datamining-guide/master/labs/pics/PyDivideTwo.png)\n",
        "## <font color='#EE4C2C'>1. FastText.</font> \n",
        "\n",
        "Instead of using the GloVe embedding vectors we will use FastText. The FastText vectors for the most common 20,000 words is available at\n",
        "\n",
        "\n",
        "https://github.com/zacharski/ml-class/raw/master/data/fasttext.zip\n",
        "\n",
        "We can process it in the same way as we did the GloVe vector file.\n",
        "\n",
        "\n",
        "\n",
        "\n"
      ]
    },
    {
      "cell_type": "code",
      "execution_count": null,
      "metadata": {
        "id": "JVl6o8_96t4W",
        "colab": {
          "base_uri": "https://localhost:8080/"
        },
        "outputId": "3c0d45db-bb7e-4531-8eb0-eef2046bc240"
      },
      "outputs": [
        {
          "output_type": "stream",
          "name": "stdout",
          "text": [
            "--2022-11-28 00:31:58--  https://github.com/zacharski/ml-class/raw/master/data/fasttext.zip\n",
            "Resolving github.com (github.com)... 140.82.121.4\n",
            "Connecting to github.com (github.com)|140.82.121.4|:443... connected.\n",
            "HTTP request sent, awaiting response... 302 Found\n",
            "Location: https://raw.githubusercontent.com/zacharski/ml-class/master/data/fasttext.zip [following]\n",
            "--2022-11-28 00:31:58--  https://raw.githubusercontent.com/zacharski/ml-class/master/data/fasttext.zip\n",
            "Resolving raw.githubusercontent.com (raw.githubusercontent.com)... 185.199.108.133, 185.199.109.133, 185.199.110.133, ...\n",
            "Connecting to raw.githubusercontent.com (raw.githubusercontent.com)|185.199.108.133|:443... connected.\n",
            "HTTP request sent, awaiting response... 200 OK\n",
            "Length: 13307328 (13M) [application/zip]\n",
            "Saving to: ‘fasttext.zip’\n",
            "\n",
            "fasttext.zip        100%[===================>]  12.69M  --.-KB/s    in 0.05s   \n",
            "\n",
            "2022-11-28 00:31:59 (273 MB/s) - ‘fasttext.zip’ saved [13307328/13307328]\n",
            "\n"
          ]
        }
      ],
      "source": [
        "!wget https://github.com/zacharski/ml-class/raw/master/data/fasttext.zip \n"
      ]
    },
    {
      "cell_type": "code",
      "source": [
        "!ls"
      ],
      "metadata": {
        "colab": {
          "base_uri": "https://localhost:8080/"
        },
        "id": "EksJ7_QQa3a6",
        "outputId": "3fe61766-a617-45ff-c02c-a47bd3ffe2eb"
      },
      "execution_count": null,
      "outputs": [
        {
          "output_type": "stream",
          "name": "stdout",
          "text": [
            "fasttext.zip\t   glove.6B.100d.zip  pre_trained_glove_model.h5\n",
            "glove.6B.100d.txt  imdb.zip\t      sample_data\n"
          ]
        }
      ]
    },
    {
      "cell_type": "code",
      "source": [
        "!unzip fasttext.zip\n",
        "!ls"
      ],
      "metadata": {
        "colab": {
          "base_uri": "https://localhost:8080/"
        },
        "id": "muHGzIe1a5jP",
        "outputId": "998322d7-ff4a-419a-bd8c-66ed9660cef4"
      },
      "execution_count": null,
      "outputs": [
        {
          "output_type": "stream",
          "name": "stdout",
          "text": [
            "Archive:  fasttext.zip\n",
            "  inflating: fasttext.vec            \n",
            "fasttext.vec  glove.6B.100d.txt  imdb.zip\t\t     sample_data\n",
            "fasttext.zip  glove.6B.100d.zip  pre_trained_glove_model.h5\n"
          ]
        }
      ]
    },
    {
      "cell_type": "code",
      "source": [
        "ftEmbeddings_index = {}\n",
        "f = open('fasttext.vec')\n",
        "for line in f:\n",
        "    values = line.split()\n",
        "    word = values[0]\n",
        "    coefs = np.asarray(values[1:], dtype='float32')\n",
        "    ftEmbeddings_index[word] = coefs\n",
        "f.close()\n",
        "\n",
        "print('Found %s word vectors.' % len(ftEmbeddings_index))"
      ],
      "metadata": {
        "colab": {
          "base_uri": "https://localhost:8080/"
        },
        "id": "X2NnkzZScYr6",
        "outputId": "b46c90e4-c803-4dcb-af76-a47ba4f7bf36"
      },
      "execution_count": null,
      "outputs": [
        {
          "output_type": "stream",
          "name": "stdout",
          "text": [
            "Found 20000 word vectors.\n"
          ]
        }
      ]
    },
    {
      "cell_type": "code",
      "source": [
        "embedding_dim = 300\n",
        "max_words = 20000\n",
        "word_index = tokenizer.word_index\n",
        "\n",
        "embedding_matrix = np.zeros((max_words, embedding_dim))\n",
        "for word, i in word_index.items():\n",
        "    embedding_vector = ftEmbeddings_index.get(word)\n",
        "    if i < max_words:\n",
        "        if embedding_vector is not None:\n",
        "            # Words not found in embedding index will be all-zeros.\n",
        "            embedding_matrix[i] = embedding_vector"
      ],
      "metadata": {
        "id": "kjFouIigsir7"
      },
      "execution_count": null,
      "outputs": []
    },
    {
      "cell_type": "markdown",
      "metadata": {
        "id": "IsZzK-1FSISM"
      },
      "source": [
        "![](https://raw.githubusercontent.com/zacharski/datamining-guide/master/labs/pics/PyDivideTwo.png)\n",
        "## <font color='#EE4C2C'>2. Download and process the data file</font> \n",
        "\n",
        "The file is \n",
        "\n",
        "https://raw.githubusercontent.com/zacharski/ml-class/master/data/climateSentiment.csv.zip"
      ]
    },
    {
      "cell_type": "code",
      "execution_count": null,
      "metadata": {
        "id": "LGSlhkmURtgB",
        "colab": {
          "base_uri": "https://localhost:8080/"
        },
        "outputId": "38516111-2203-422b-fc99-836d97c6e79f"
      },
      "outputs": [
        {
          "output_type": "stream",
          "name": "stdout",
          "text": [
            "--2022-11-28 00:39:04--  https://raw.githubusercontent.com/zacharski/ml-class/master/data/climateSentiment.csv.zip\n",
            "Resolving raw.githubusercontent.com (raw.githubusercontent.com)... 185.199.108.133, 185.199.111.133, 185.199.109.133, ...\n",
            "Connecting to raw.githubusercontent.com (raw.githubusercontent.com)|185.199.108.133|:443... connected.\n",
            "HTTP request sent, awaiting response... 200 OK\n",
            "Length: 2589663 (2.5M) [application/zip]\n",
            "Saving to: ‘climateSentiment.csv.zip’\n",
            "\n",
            "climateSentiment.cs 100%[===================>]   2.47M  --.-KB/s    in 0.03s   \n",
            "\n",
            "2022-11-28 00:39:05 (80.6 MB/s) - ‘climateSentiment.csv.zip’ saved [2589663/2589663]\n",
            "\n"
          ]
        }
      ],
      "source": [
        "!wget https://raw.githubusercontent.com/zacharski/ml-class/master/data/climateSentiment.csv.zip"
      ]
    },
    {
      "cell_type": "code",
      "source": [
        "!ls"
      ],
      "metadata": {
        "colab": {
          "base_uri": "https://localhost:8080/"
        },
        "id": "fdUoU2ikdpvt",
        "outputId": "32fbba9d-d45a-4f25-ca78-d65c3e74a294"
      },
      "execution_count": null,
      "outputs": [
        {
          "output_type": "stream",
          "name": "stdout",
          "text": [
            "climateSentiment.csv.zip  glove.6B.100d.txt  pre_trained_glove_model.h5\n",
            "fasttext.vec\t\t  glove.6B.100d.zip  sample_data\n",
            "fasttext.zip\t\t  imdb.zip\n"
          ]
        }
      ]
    },
    {
      "cell_type": "code",
      "source": [
        "!unzip climateSentiment.csv.zip"
      ],
      "metadata": {
        "colab": {
          "base_uri": "https://localhost:8080/"
        },
        "id": "U1VRWGlwdt00",
        "outputId": "0cd9c82a-2279-4e42-a318-6e4f8c8d9c45"
      },
      "execution_count": null,
      "outputs": [
        {
          "output_type": "stream",
          "name": "stdout",
          "text": [
            "Archive:  climateSentiment.csv.zip\n",
            "  inflating: climate.csv             \n"
          ]
        }
      ]
    },
    {
      "cell_type": "code",
      "source": [
        "!ls"
      ],
      "metadata": {
        "colab": {
          "base_uri": "https://localhost:8080/"
        },
        "id": "KnxlPBgwdyPr",
        "outputId": "ff55ddb4-eccd-429f-9f92-f31d0285ea5a"
      },
      "execution_count": null,
      "outputs": [
        {
          "output_type": "stream",
          "name": "stdout",
          "text": [
            "climate.csv\t\t  fasttext.zip\t     imdb.zip\n",
            "climateSentiment.csv.zip  glove.6B.100d.txt  pre_trained_glove_model.h5\n",
            "fasttext.vec\t\t  glove.6B.100d.zip  sample_data\n"
          ]
        }
      ]
    },
    {
      "cell_type": "code",
      "source": [
        "climate = pd.read_csv('climate.csv')\n",
        "climate"
      ],
      "metadata": {
        "colab": {
          "base_uri": "https://localhost:8080/",
          "height": 423
        },
        "id": "ziS3SuEsdz8j",
        "outputId": "d9172358-74f3-4635-cbea-b268cd002901"
      },
      "execution_count": null,
      "outputs": [
        {
          "output_type": "execute_result",
          "data": {
            "text/plain": [
              "      sentiment                                            message  \\\n",
              "0          Anti  @tiniebeany climate change is an interesting h...   \n",
              "1           Pro  RT @NatGeoChannel: Watch #BeforeTheFlood right...   \n",
              "2           Pro  Fabulous! Leonardo #DiCaprio's film on #climat...   \n",
              "3           Pro  RT @Mick_Fanning: Just watched this amazing do...   \n",
              "4          News  RT @cnalive: Pranita Biswasi, a Lutheran from ...   \n",
              "...         ...                                                ...   \n",
              "43938       Pro  Dear @realDonaldTrump,\\nYeah right. Human Medi...   \n",
              "43939       Pro  What will your respective parties do to preven...   \n",
              "43940      News  RT @MikkiL: UN Poll Shows Climate Change Is th...   \n",
              "43941   Neutral  RT @taehbeingextra: i still can$q$t believe th...   \n",
              "43942       Pro  @Likeabat77 @zachhaller \\n\\nThe wealthy + foss...   \n",
              "\n",
              "                  tweetid  \n",
              "0      792927353886371840  \n",
              "1      793124211518832641  \n",
              "2      793124402388832256  \n",
              "3      793124635873275904  \n",
              "4      793125156185137153  \n",
              "...                   ...  \n",
              "43938  791307031919550464  \n",
              "43939  791316857403936768  \n",
              "43940  791357509101621249  \n",
              "43941  791390042136641537  \n",
              "43942  791401610308038656  \n",
              "\n",
              "[43943 rows x 3 columns]"
            ],
            "text/html": [
              "\n",
              "  <div id=\"df-b021b570-6573-4354-b3f3-62e1816a8e8f\">\n",
              "    <div class=\"colab-df-container\">\n",
              "      <div>\n",
              "<style scoped>\n",
              "    .dataframe tbody tr th:only-of-type {\n",
              "        vertical-align: middle;\n",
              "    }\n",
              "\n",
              "    .dataframe tbody tr th {\n",
              "        vertical-align: top;\n",
              "    }\n",
              "\n",
              "    .dataframe thead th {\n",
              "        text-align: right;\n",
              "    }\n",
              "</style>\n",
              "<table border=\"1\" class=\"dataframe\">\n",
              "  <thead>\n",
              "    <tr style=\"text-align: right;\">\n",
              "      <th></th>\n",
              "      <th>sentiment</th>\n",
              "      <th>message</th>\n",
              "      <th>tweetid</th>\n",
              "    </tr>\n",
              "  </thead>\n",
              "  <tbody>\n",
              "    <tr>\n",
              "      <th>0</th>\n",
              "      <td>Anti</td>\n",
              "      <td>@tiniebeany climate change is an interesting h...</td>\n",
              "      <td>792927353886371840</td>\n",
              "    </tr>\n",
              "    <tr>\n",
              "      <th>1</th>\n",
              "      <td>Pro</td>\n",
              "      <td>RT @NatGeoChannel: Watch #BeforeTheFlood right...</td>\n",
              "      <td>793124211518832641</td>\n",
              "    </tr>\n",
              "    <tr>\n",
              "      <th>2</th>\n",
              "      <td>Pro</td>\n",
              "      <td>Fabulous! Leonardo #DiCaprio's film on #climat...</td>\n",
              "      <td>793124402388832256</td>\n",
              "    </tr>\n",
              "    <tr>\n",
              "      <th>3</th>\n",
              "      <td>Pro</td>\n",
              "      <td>RT @Mick_Fanning: Just watched this amazing do...</td>\n",
              "      <td>793124635873275904</td>\n",
              "    </tr>\n",
              "    <tr>\n",
              "      <th>4</th>\n",
              "      <td>News</td>\n",
              "      <td>RT @cnalive: Pranita Biswasi, a Lutheran from ...</td>\n",
              "      <td>793125156185137153</td>\n",
              "    </tr>\n",
              "    <tr>\n",
              "      <th>...</th>\n",
              "      <td>...</td>\n",
              "      <td>...</td>\n",
              "      <td>...</td>\n",
              "    </tr>\n",
              "    <tr>\n",
              "      <th>43938</th>\n",
              "      <td>Pro</td>\n",
              "      <td>Dear @realDonaldTrump,\\nYeah right. Human Medi...</td>\n",
              "      <td>791307031919550464</td>\n",
              "    </tr>\n",
              "    <tr>\n",
              "      <th>43939</th>\n",
              "      <td>Pro</td>\n",
              "      <td>What will your respective parties do to preven...</td>\n",
              "      <td>791316857403936768</td>\n",
              "    </tr>\n",
              "    <tr>\n",
              "      <th>43940</th>\n",
              "      <td>News</td>\n",
              "      <td>RT @MikkiL: UN Poll Shows Climate Change Is th...</td>\n",
              "      <td>791357509101621249</td>\n",
              "    </tr>\n",
              "    <tr>\n",
              "      <th>43941</th>\n",
              "      <td>Neutral</td>\n",
              "      <td>RT @taehbeingextra: i still can$q$t believe th...</td>\n",
              "      <td>791390042136641537</td>\n",
              "    </tr>\n",
              "    <tr>\n",
              "      <th>43942</th>\n",
              "      <td>Pro</td>\n",
              "      <td>@Likeabat77 @zachhaller \\n\\nThe wealthy + foss...</td>\n",
              "      <td>791401610308038656</td>\n",
              "    </tr>\n",
              "  </tbody>\n",
              "</table>\n",
              "<p>43943 rows × 3 columns</p>\n",
              "</div>\n",
              "      <button class=\"colab-df-convert\" onclick=\"convertToInteractive('df-b021b570-6573-4354-b3f3-62e1816a8e8f')\"\n",
              "              title=\"Convert this dataframe to an interactive table.\"\n",
              "              style=\"display:none;\">\n",
              "        \n",
              "  <svg xmlns=\"http://www.w3.org/2000/svg\" height=\"24px\"viewBox=\"0 0 24 24\"\n",
              "       width=\"24px\">\n",
              "    <path d=\"M0 0h24v24H0V0z\" fill=\"none\"/>\n",
              "    <path d=\"M18.56 5.44l.94 2.06.94-2.06 2.06-.94-2.06-.94-.94-2.06-.94 2.06-2.06.94zm-11 1L8.5 8.5l.94-2.06 2.06-.94-2.06-.94L8.5 2.5l-.94 2.06-2.06.94zm10 10l.94 2.06.94-2.06 2.06-.94-2.06-.94-.94-2.06-.94 2.06-2.06.94z\"/><path d=\"M17.41 7.96l-1.37-1.37c-.4-.4-.92-.59-1.43-.59-.52 0-1.04.2-1.43.59L10.3 9.45l-7.72 7.72c-.78.78-.78 2.05 0 2.83L4 21.41c.39.39.9.59 1.41.59.51 0 1.02-.2 1.41-.59l7.78-7.78 2.81-2.81c.8-.78.8-2.07 0-2.86zM5.41 20L4 18.59l7.72-7.72 1.47 1.35L5.41 20z\"/>\n",
              "  </svg>\n",
              "      </button>\n",
              "      \n",
              "  <style>\n",
              "    .colab-df-container {\n",
              "      display:flex;\n",
              "      flex-wrap:wrap;\n",
              "      gap: 12px;\n",
              "    }\n",
              "\n",
              "    .colab-df-convert {\n",
              "      background-color: #E8F0FE;\n",
              "      border: none;\n",
              "      border-radius: 50%;\n",
              "      cursor: pointer;\n",
              "      display: none;\n",
              "      fill: #1967D2;\n",
              "      height: 32px;\n",
              "      padding: 0 0 0 0;\n",
              "      width: 32px;\n",
              "    }\n",
              "\n",
              "    .colab-df-convert:hover {\n",
              "      background-color: #E2EBFA;\n",
              "      box-shadow: 0px 1px 2px rgba(60, 64, 67, 0.3), 0px 1px 3px 1px rgba(60, 64, 67, 0.15);\n",
              "      fill: #174EA6;\n",
              "    }\n",
              "\n",
              "    [theme=dark] .colab-df-convert {\n",
              "      background-color: #3B4455;\n",
              "      fill: #D2E3FC;\n",
              "    }\n",
              "\n",
              "    [theme=dark] .colab-df-convert:hover {\n",
              "      background-color: #434B5C;\n",
              "      box-shadow: 0px 1px 3px 1px rgba(0, 0, 0, 0.15);\n",
              "      filter: drop-shadow(0px 1px 2px rgba(0, 0, 0, 0.3));\n",
              "      fill: #FFFFFF;\n",
              "    }\n",
              "  </style>\n",
              "\n",
              "      <script>\n",
              "        const buttonEl =\n",
              "          document.querySelector('#df-b021b570-6573-4354-b3f3-62e1816a8e8f button.colab-df-convert');\n",
              "        buttonEl.style.display =\n",
              "          google.colab.kernel.accessAllowed ? 'block' : 'none';\n",
              "\n",
              "        async function convertToInteractive(key) {\n",
              "          const element = document.querySelector('#df-b021b570-6573-4354-b3f3-62e1816a8e8f');\n",
              "          const dataTable =\n",
              "            await google.colab.kernel.invokeFunction('convertToInteractive',\n",
              "                                                     [key], {});\n",
              "          if (!dataTable) return;\n",
              "\n",
              "          const docLinkHtml = 'Like what you see? Visit the ' +\n",
              "            '<a target=\"_blank\" href=https://colab.research.google.com/notebooks/data_table.ipynb>data table notebook</a>'\n",
              "            + ' to learn more about interactive tables.';\n",
              "          element.innerHTML = '';\n",
              "          dataTable['output_type'] = 'display_data';\n",
              "          await google.colab.output.renderOutput(dataTable, element);\n",
              "          const docLink = document.createElement('div');\n",
              "          docLink.innerHTML = docLinkHtml;\n",
              "          element.appendChild(docLink);\n",
              "        }\n",
              "      </script>\n",
              "    </div>\n",
              "  </div>\n",
              "  "
            ]
          },
          "metadata": {},
          "execution_count": 47
        }
      ]
    },
    {
      "cell_type": "code",
      "source": [
        "climate_text = climate.message\n",
        "climate_labels = pd.get_dummies(climate.sentiment)\n",
        "\n",
        "climate_text"
      ],
      "metadata": {
        "colab": {
          "base_uri": "https://localhost:8080/"
        },
        "id": "Em71ey_Wp4nB",
        "outputId": "c3f7396b-7c0f-43a5-b811-41d80d220cb0"
      },
      "execution_count": null,
      "outputs": [
        {
          "output_type": "execute_result",
          "data": {
            "text/plain": [
              "0        @tiniebeany climate change is an interesting h...\n",
              "1        RT @NatGeoChannel: Watch #BeforeTheFlood right...\n",
              "2        Fabulous! Leonardo #DiCaprio's film on #climat...\n",
              "3        RT @Mick_Fanning: Just watched this amazing do...\n",
              "4        RT @cnalive: Pranita Biswasi, a Lutheran from ...\n",
              "                               ...                        \n",
              "43938    Dear @realDonaldTrump,\\nYeah right. Human Medi...\n",
              "43939    What will your respective parties do to preven...\n",
              "43940    RT @MikkiL: UN Poll Shows Climate Change Is th...\n",
              "43941    RT @taehbeingextra: i still can$q$t believe th...\n",
              "43942    @Likeabat77 @zachhaller \\n\\nThe wealthy + foss...\n",
              "Name: message, Length: 43943, dtype: object"
            ]
          },
          "metadata": {},
          "execution_count": 62
        }
      ]
    },
    {
      "cell_type": "code",
      "source": [
        "climate_labels"
      ],
      "metadata": {
        "colab": {
          "base_uri": "https://localhost:8080/",
          "height": 423
        },
        "id": "8UbKcuUWsqIH",
        "outputId": "7fddbd7e-a95b-4685-d87e-9d1f7fdff1dd"
      },
      "execution_count": null,
      "outputs": [
        {
          "output_type": "execute_result",
          "data": {
            "text/plain": [
              "       Anti  Neutral  News  Pro\n",
              "0         1        0     0    0\n",
              "1         0        0     0    1\n",
              "2         0        0     0    1\n",
              "3         0        0     0    1\n",
              "4         0        0     1    0\n",
              "...     ...      ...   ...  ...\n",
              "43938     0        0     0    1\n",
              "43939     0        0     0    1\n",
              "43940     0        0     1    0\n",
              "43941     0        1     0    0\n",
              "43942     0        0     0    1\n",
              "\n",
              "[43943 rows x 4 columns]"
            ],
            "text/html": [
              "\n",
              "  <div id=\"df-43d4a677-56e0-4263-8479-ac6bedebbf47\">\n",
              "    <div class=\"colab-df-container\">\n",
              "      <div>\n",
              "<style scoped>\n",
              "    .dataframe tbody tr th:only-of-type {\n",
              "        vertical-align: middle;\n",
              "    }\n",
              "\n",
              "    .dataframe tbody tr th {\n",
              "        vertical-align: top;\n",
              "    }\n",
              "\n",
              "    .dataframe thead th {\n",
              "        text-align: right;\n",
              "    }\n",
              "</style>\n",
              "<table border=\"1\" class=\"dataframe\">\n",
              "  <thead>\n",
              "    <tr style=\"text-align: right;\">\n",
              "      <th></th>\n",
              "      <th>Anti</th>\n",
              "      <th>Neutral</th>\n",
              "      <th>News</th>\n",
              "      <th>Pro</th>\n",
              "    </tr>\n",
              "  </thead>\n",
              "  <tbody>\n",
              "    <tr>\n",
              "      <th>0</th>\n",
              "      <td>1</td>\n",
              "      <td>0</td>\n",
              "      <td>0</td>\n",
              "      <td>0</td>\n",
              "    </tr>\n",
              "    <tr>\n",
              "      <th>1</th>\n",
              "      <td>0</td>\n",
              "      <td>0</td>\n",
              "      <td>0</td>\n",
              "      <td>1</td>\n",
              "    </tr>\n",
              "    <tr>\n",
              "      <th>2</th>\n",
              "      <td>0</td>\n",
              "      <td>0</td>\n",
              "      <td>0</td>\n",
              "      <td>1</td>\n",
              "    </tr>\n",
              "    <tr>\n",
              "      <th>3</th>\n",
              "      <td>0</td>\n",
              "      <td>0</td>\n",
              "      <td>0</td>\n",
              "      <td>1</td>\n",
              "    </tr>\n",
              "    <tr>\n",
              "      <th>4</th>\n",
              "      <td>0</td>\n",
              "      <td>0</td>\n",
              "      <td>1</td>\n",
              "      <td>0</td>\n",
              "    </tr>\n",
              "    <tr>\n",
              "      <th>...</th>\n",
              "      <td>...</td>\n",
              "      <td>...</td>\n",
              "      <td>...</td>\n",
              "      <td>...</td>\n",
              "    </tr>\n",
              "    <tr>\n",
              "      <th>43938</th>\n",
              "      <td>0</td>\n",
              "      <td>0</td>\n",
              "      <td>0</td>\n",
              "      <td>1</td>\n",
              "    </tr>\n",
              "    <tr>\n",
              "      <th>43939</th>\n",
              "      <td>0</td>\n",
              "      <td>0</td>\n",
              "      <td>0</td>\n",
              "      <td>1</td>\n",
              "    </tr>\n",
              "    <tr>\n",
              "      <th>43940</th>\n",
              "      <td>0</td>\n",
              "      <td>0</td>\n",
              "      <td>1</td>\n",
              "      <td>0</td>\n",
              "    </tr>\n",
              "    <tr>\n",
              "      <th>43941</th>\n",
              "      <td>0</td>\n",
              "      <td>1</td>\n",
              "      <td>0</td>\n",
              "      <td>0</td>\n",
              "    </tr>\n",
              "    <tr>\n",
              "      <th>43942</th>\n",
              "      <td>0</td>\n",
              "      <td>0</td>\n",
              "      <td>0</td>\n",
              "      <td>1</td>\n",
              "    </tr>\n",
              "  </tbody>\n",
              "</table>\n",
              "<p>43943 rows × 4 columns</p>\n",
              "</div>\n",
              "      <button class=\"colab-df-convert\" onclick=\"convertToInteractive('df-43d4a677-56e0-4263-8479-ac6bedebbf47')\"\n",
              "              title=\"Convert this dataframe to an interactive table.\"\n",
              "              style=\"display:none;\">\n",
              "        \n",
              "  <svg xmlns=\"http://www.w3.org/2000/svg\" height=\"24px\"viewBox=\"0 0 24 24\"\n",
              "       width=\"24px\">\n",
              "    <path d=\"M0 0h24v24H0V0z\" fill=\"none\"/>\n",
              "    <path d=\"M18.56 5.44l.94 2.06.94-2.06 2.06-.94-2.06-.94-.94-2.06-.94 2.06-2.06.94zm-11 1L8.5 8.5l.94-2.06 2.06-.94-2.06-.94L8.5 2.5l-.94 2.06-2.06.94zm10 10l.94 2.06.94-2.06 2.06-.94-2.06-.94-.94-2.06-.94 2.06-2.06.94z\"/><path d=\"M17.41 7.96l-1.37-1.37c-.4-.4-.92-.59-1.43-.59-.52 0-1.04.2-1.43.59L10.3 9.45l-7.72 7.72c-.78.78-.78 2.05 0 2.83L4 21.41c.39.39.9.59 1.41.59.51 0 1.02-.2 1.41-.59l7.78-7.78 2.81-2.81c.8-.78.8-2.07 0-2.86zM5.41 20L4 18.59l7.72-7.72 1.47 1.35L5.41 20z\"/>\n",
              "  </svg>\n",
              "      </button>\n",
              "      \n",
              "  <style>\n",
              "    .colab-df-container {\n",
              "      display:flex;\n",
              "      flex-wrap:wrap;\n",
              "      gap: 12px;\n",
              "    }\n",
              "\n",
              "    .colab-df-convert {\n",
              "      background-color: #E8F0FE;\n",
              "      border: none;\n",
              "      border-radius: 50%;\n",
              "      cursor: pointer;\n",
              "      display: none;\n",
              "      fill: #1967D2;\n",
              "      height: 32px;\n",
              "      padding: 0 0 0 0;\n",
              "      width: 32px;\n",
              "    }\n",
              "\n",
              "    .colab-df-convert:hover {\n",
              "      background-color: #E2EBFA;\n",
              "      box-shadow: 0px 1px 2px rgba(60, 64, 67, 0.3), 0px 1px 3px 1px rgba(60, 64, 67, 0.15);\n",
              "      fill: #174EA6;\n",
              "    }\n",
              "\n",
              "    [theme=dark] .colab-df-convert {\n",
              "      background-color: #3B4455;\n",
              "      fill: #D2E3FC;\n",
              "    }\n",
              "\n",
              "    [theme=dark] .colab-df-convert:hover {\n",
              "      background-color: #434B5C;\n",
              "      box-shadow: 0px 1px 3px 1px rgba(0, 0, 0, 0.15);\n",
              "      filter: drop-shadow(0px 1px 2px rgba(0, 0, 0, 0.3));\n",
              "      fill: #FFFFFF;\n",
              "    }\n",
              "  </style>\n",
              "\n",
              "      <script>\n",
              "        const buttonEl =\n",
              "          document.querySelector('#df-43d4a677-56e0-4263-8479-ac6bedebbf47 button.colab-df-convert');\n",
              "        buttonEl.style.display =\n",
              "          google.colab.kernel.accessAllowed ? 'block' : 'none';\n",
              "\n",
              "        async function convertToInteractive(key) {\n",
              "          const element = document.querySelector('#df-43d4a677-56e0-4263-8479-ac6bedebbf47');\n",
              "          const dataTable =\n",
              "            await google.colab.kernel.invokeFunction('convertToInteractive',\n",
              "                                                     [key], {});\n",
              "          if (!dataTable) return;\n",
              "\n",
              "          const docLinkHtml = 'Like what you see? Visit the ' +\n",
              "            '<a target=\"_blank\" href=https://colab.research.google.com/notebooks/data_table.ipynb>data table notebook</a>'\n",
              "            + ' to learn more about interactive tables.';\n",
              "          element.innerHTML = '';\n",
              "          dataTable['output_type'] = 'display_data';\n",
              "          await google.colab.output.renderOutput(dataTable, element);\n",
              "          const docLink = document.createElement('div');\n",
              "          docLink.innerHTML = docLinkHtml;\n",
              "          element.appendChild(docLink);\n",
              "        }\n",
              "      </script>\n",
              "    </div>\n",
              "  </div>\n",
              "  "
            ]
          },
          "metadata": {},
          "execution_count": 63
        }
      ]
    },
    {
      "cell_type": "code",
      "source": [
        "tokenizer = Tokenizer(num_words = 20000)\n",
        "#build the word index\n",
        "tokenizer.fit_on_texts(climate_text)\n",
        "# now convert the words to integers\n",
        "data_sequences = tokenizer.texts_to_sequences(climate_text)\n",
        "data_sequences[0]"
      ],
      "metadata": {
        "colab": {
          "base_uri": "https://localhost:8080/"
        },
        "id": "t_womrN-qgs2",
        "outputId": "0d315646-8137-4e34-9a54-0952c8efc059"
      },
      "execution_count": null,
      "outputs": [
        {
          "output_type": "execute_result",
          "data": {
            "text/plain": [
              "[1,\n",
              " 2,\n",
              " 9,\n",
              " 69,\n",
              " 799,\n",
              " 39,\n",
              " 24,\n",
              " 72,\n",
              " 12,\n",
              " 13,\n",
              " 40,\n",
              " 7,\n",
              " 135,\n",
              " 1385,\n",
              " 13,\n",
              " 17,\n",
              " 1113,\n",
              " 346,\n",
              " 314,\n",
              " 7,\n",
              " 5365,\n",
              " 3970]"
            ]
          },
          "metadata": {},
          "execution_count": 64
        }
      ]
    },
    {
      "cell_type": "code",
      "source": [
        "tokenizer.sequences_to_texts([data_sequences[1]])"
      ],
      "metadata": {
        "colab": {
          "base_uri": "https://localhost:8080/"
        },
        "id": "7UgNnW3drjBa",
        "outputId": "63b46591-6c59-4849-ed3d-3758a2d91fde"
      },
      "execution_count": null,
      "outputs": [
        {
          "output_type": "execute_result",
          "data": {
            "text/plain": [
              "['rt natgeochannel watch beforetheflood right here as leodicaprio travels the world to tackle climate change https t co lkdehj3tnn httã¢â‚¬â¦']"
            ]
          },
          "metadata": {},
          "execution_count": 65
        }
      ]
    },
    {
      "cell_type": "code",
      "source": [
        "maxlen=50\n",
        "\n",
        "climate50 = pad_sequences(data_sequences, maxlen=maxlen)\n",
        "climate50[0]"
      ],
      "metadata": {
        "colab": {
          "base_uri": "https://localhost:8080/"
        },
        "id": "n8DKcit5tdOt",
        "outputId": "fca38efc-2012-4217-a350-986aeb31a738"
      },
      "execution_count": null,
      "outputs": [
        {
          "output_type": "execute_result",
          "data": {
            "text/plain": [
              "array([   0,    0,    0,    0,    0,    0,    0,    0,    0,    0,    0,\n",
              "          0,    0,    0,    0,    0,    0,    0,    0,    0,    0,    0,\n",
              "          0,    0,    0,    0,    0,    0,    1,    2,    9,   69,  799,\n",
              "         39,   24,   72,   12,   13,   40,    7,  135, 1385,   13,   17,\n",
              "       1113,  346,  314,    7, 5365, 3970], dtype=int32)"
            ]
          },
          "metadata": {},
          "execution_count": 68
        }
      ]
    },
    {
      "cell_type": "code",
      "source": [
        "climate_train_text, climate_test_text, climate_train_labels, climate_test_labels = train_test_split(climate50, climate_labels, test_size = 0.2, random_state=42)\n"
      ],
      "metadata": {
        "id": "A0h7zu0uqqRP"
      },
      "execution_count": null,
      "outputs": []
    },
    {
      "cell_type": "markdown",
      "metadata": {
        "id": "-1o3pm3QSk30"
      },
      "source": [
        "![](https://raw.githubusercontent.com/zacharski/datamining-guide/master/labs/pics/PyDivideTwo.png)\n",
        "## <font color='#EE4C2C'>3. Create the network/model--fit it to the data</font> \n",
        "You can design your network anyway you want. "
      ]
    },
    {
      "cell_type": "code",
      "execution_count": null,
      "metadata": {
        "id": "xEvO_RvU0SUs",
        "colab": {
          "base_uri": "https://localhost:8080/"
        },
        "outputId": "dc2296ec-efdb-4231-8645-3df256d7dc35"
      },
      "outputs": [
        {
          "output_type": "stream",
          "name": "stdout",
          "text": [
            "Model: \"sequential_6\"\n",
            "_________________________________________________________________\n",
            " Layer (type)                Output Shape              Param #   \n",
            "=================================================================\n",
            " embedding_7 (Embedding)     (None, 50, 300)           6000000   \n",
            "                                                                 \n",
            " flatten_6 (Flatten)         (None, 15000)             0         \n",
            "                                                                 \n",
            " dense_11 (Dense)            (None, 32)                480032    \n",
            "                                                                 \n",
            " dense_12 (Dense)            (None, 4)                 132       \n",
            "                                                                 \n",
            "=================================================================\n",
            "Total params: 6,480,164\n",
            "Trainable params: 6,480,164\n",
            "Non-trainable params: 0\n",
            "_________________________________________________________________\n"
          ]
        }
      ],
      "source": [
        "climate_model = Sequential()\n",
        "climate_model.add(Embedding(max_words, embedding_dim, input_length=maxlen))\n",
        "climate_model.add(Flatten())\n",
        "climate_model.add(Dense(32, activation='relu'))\n",
        "climate_model.add(Dense(4, activation='softmax'))\n",
        "climate_model.summary()"
      ]
    },
    {
      "cell_type": "code",
      "source": [
        "climate_model.layers[0].set_weights([embedding_matrix])\n",
        "climate_model.layers[0].trainable = True"
      ],
      "metadata": {
        "id": "jkk5Vg9VrYeZ"
      },
      "execution_count": null,
      "outputs": []
    },
    {
      "cell_type": "code",
      "source": [
        "climate_model.compile(optimizer='rmsprop',\n",
        "              loss='categorical_crossentropy',\n",
        "              metrics=['acc'])\n",
        "history = climate_model.fit(climate_train_text, climate_train_labels,\n",
        "                    epochs=10,\n",
        "                    batch_size=32,\n",
        "                     validation_split=0.2,\n",
        "      validation_steps=50)"
      ],
      "metadata": {
        "colab": {
          "base_uri": "https://localhost:8080/"
        },
        "id": "iUjWO5L4t2Gd",
        "outputId": "81a333f3-f89c-4888-a097-04b8251d5aca"
      },
      "execution_count": null,
      "outputs": [
        {
          "output_type": "stream",
          "name": "stdout",
          "text": [
            "Epoch 1/10\n",
            "879/879 [==============================] - 3s 3ms/step - loss: 0.3818 - acc: 0.8560 - val_loss: 1.1692 - val_acc: 0.6787\n",
            "Epoch 2/10\n",
            "879/879 [==============================] - 3s 3ms/step - loss: 0.1575 - acc: 0.9466 - val_loss: 1.3012 - val_acc: 0.6731\n",
            "Epoch 3/10\n",
            "879/879 [==============================] - 3s 3ms/step - loss: 0.0752 - acc: 0.9770 - val_loss: 1.4878 - val_acc: 0.6787\n",
            "Epoch 4/10\n",
            "879/879 [==============================] - 3s 3ms/step - loss: 0.0434 - acc: 0.9874 - val_loss: 1.6858 - val_acc: 0.6881\n",
            "Epoch 5/10\n",
            "879/879 [==============================] - 3s 3ms/step - loss: 0.0310 - acc: 0.9915 - val_loss: 1.8646 - val_acc: 0.6569\n",
            "Epoch 6/10\n",
            "879/879 [==============================] - 3s 3ms/step - loss: 0.0259 - acc: 0.9932 - val_loss: 2.0370 - val_acc: 0.6762\n",
            "Epoch 7/10\n",
            "879/879 [==============================] - 3s 3ms/step - loss: 0.0230 - acc: 0.9940 - val_loss: 2.3346 - val_acc: 0.6438\n",
            "Epoch 8/10\n",
            "879/879 [==============================] - 3s 3ms/step - loss: 0.0196 - acc: 0.9951 - val_loss: 2.4240 - val_acc: 0.6794\n",
            "Epoch 9/10\n",
            "879/879 [==============================] - 3s 3ms/step - loss: 0.0181 - acc: 0.9958 - val_loss: 2.7295 - val_acc: 0.6744\n",
            "Epoch 10/10\n",
            "879/879 [==============================] - 3s 3ms/step - loss: 0.0157 - acc: 0.9963 - val_loss: 2.9281 - val_acc: 0.6787\n"
          ]
        }
      ]
    },
    {
      "cell_type": "markdown",
      "metadata": {
        "id": "nx73-VQGS45v"
      },
      "source": [
        "![](https://raw.githubusercontent.com/zacharski/datamining-guide/master/labs/pics/PyDivideTwo.png)\n",
        "## <font color='#EE4C2C'>4. Accuracy with the test data</font> \n",
        "How well did this do? Is it better than the accuracy on this dataset from our previous notebook?"
      ]
    },
    {
      "cell_type": "markdown",
      "metadata": {
        "id": "LXouPhBp0y9t"
      },
      "source": [
        "encode the text"
      ]
    },
    {
      "cell_type": "code",
      "execution_count": null,
      "metadata": {
        "id": "H90SONxM01BU",
        "colab": {
          "base_uri": "https://localhost:8080/"
        },
        "outputId": "497607d1-b6f5-4493-fc7e-f3ab16aa499a"
      },
      "outputs": [
        {
          "output_type": "stream",
          "name": "stdout",
          "text": [
            "275/275 [==============================] - 1s 2ms/step - loss: 2.9153 - acc: 0.6744\n",
            "Accuracy 0.674366    Loss: 2.915330\n"
          ]
        }
      ],
      "source": [
        "test_loss, test_acc, = climate_model.evaluate(climate_test_text, climate_test_labels)\n",
        "print(\"Accuracy %f    Loss: %f\" % (test_acc, test_loss))"
      ]
    },
    {
      "cell_type": "markdown",
      "metadata": {
        "id": "_dV_5H54TORs"
      },
      "source": [
        "![](https://raw.githubusercontent.com/zacharski/datamining-guide/master/labs/pics/PyDivideTwo.png)\n",
        "## <font color='#EE4C2C'>5. Better than 75% accuracy - bonus 10xp</font> \n",
        "Can you modify your network and training to get better results? For example, you can train for fewer or more epochs. You can add or subtract layers to the network."
      ]
    },
    {
      "cell_type": "code",
      "execution_count": null,
      "metadata": {
        "id": "ITvo0sfG1JGv"
      },
      "outputs": [],
      "source": []
    },
    {
      "cell_type": "markdown",
      "metadata": {
        "id": "GEkeaxnyi2K0"
      },
      "source": [
        "#### MIT License\n",
        "Copyright (c) 2017 François Chollet\n",
        "\n",
        "Permission is hereby granted, free of charge, to any person obtaining a copy of this software and associated documentation files (the \"Software\"), to deal in the Software without restriction, including without limitation the rights to use, copy, modify, merge, publish, distribute, sublicense, and/or sell copies of the Software, and to permit persons to whom the Software is furnished to do so, subject to the following conditions:\n",
        "\n",
        "The above copyright notice and this permission notice shall be included in all copies or substantial portions of the Software.\n",
        "\n",
        "THE SOFTWARE IS PROVIDED \"AS IS\", WITHOUT WARRANTY OF ANY KIND, EXPRESS OR IMPLIED, INCLUDING BUT NOT LIMITED TO THE WARRANTIES OF MERCHANTABILITY, FITNESS FOR A PARTICULAR PURPOSE AND NONINFRINGEMENT. IN NO EVENT SHALL THE AUTHORS OR COPYRIGHT HOLDERS BE LIABLE FOR ANY CLAIM, DAMAGES OR OTHER LIABILITY, WHETHER IN AN ACTION OF CONTRACT, TORT OR OTHERWISE, ARISING FROM, OUT OF OR IN CONNECTION WITH THE SOFTWARE OR THE USE OR OTHER DEALINGS IN THE SOFTWARE."
      ]
    }
  ],
  "metadata": {
    "accelerator": "GPU",
    "colab": {
      "provenance": [],
      "collapsed_sections": [
        "GEkeaxnyi2K0"
      ],
      "machine_shape": "hm",
      "include_colab_link": true
    },
    "kernelspec": {
      "display_name": "Python 3 (ipykernel)",
      "language": "python",
      "name": "python3"
    },
    "language_info": {
      "codemirror_mode": {
        "name": "ipython",
        "version": 3
      },
      "file_extension": ".py",
      "mimetype": "text/x-python",
      "name": "python",
      "nbconvert_exporter": "python",
      "pygments_lexer": "ipython3",
      "version": "3.9.12"
    },
    "gpuClass": "premium"
  },
  "nbformat": 4,
  "nbformat_minor": 0
}